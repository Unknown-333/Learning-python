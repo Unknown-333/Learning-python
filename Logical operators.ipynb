{
 "cells": [
  {
   "cell_type": "markdown",
   "id": "ab74c9ba",
   "metadata": {},
   "source": [
    "# and, or, not  are 3 logical operators in python"
   ]
  },
  {
   "cell_type": "code",
   "execution_count": 1,
   "id": "e40c4e1a",
   "metadata": {},
   "outputs": [
    {
     "data": {
      "text/plain": [
       "False"
      ]
     },
     "execution_count": 1,
     "metadata": {},
     "output_type": "execute_result"
    }
   ],
   "source": [
    "False and False\n"
   ]
  },
  {
   "cell_type": "markdown",
   "id": "6eba063c",
   "metadata": {},
   "source": [
    "* and: The and operator returns True if both operands are True, otherwise it returns False. It performs a logical conjunction.\n",
    "\n",
    "* or: The or operator returns True if at least one of the operands is True, otherwise it returns False. It performs a logical disjunction.\n",
    " \n",
    "* not: The not operator negates the Boolean value of its operand. If the operand is True, it returns False, and if the operand is False, it returns True. "
   ]
  },
  {
   "cell_type": "code",
   "execution_count": 2,
   "id": "8e0eb1da",
   "metadata": {},
   "outputs": [
    {
     "data": {
      "text/plain": [
       "False"
      ]
     },
     "execution_count": 2,
     "metadata": {},
     "output_type": "execute_result"
    }
   ],
   "source": [
    " 5 % 2 == 0 and 3 % 3 == 0 # false and true"
   ]
  },
  {
   "cell_type": "code",
   "execution_count": 3,
   "id": "dc8cf6cd",
   "metadata": {},
   "outputs": [
    {
     "data": {
      "text/plain": [
       "True"
      ]
     },
     "execution_count": 3,
     "metadata": {},
     "output_type": "execute_result"
    }
   ],
   "source": [
    "10 % 10 == 0 and 10 % 2 == 0 # true and true"
   ]
  },
  {
   "cell_type": "markdown",
   "id": "c100b0d0",
   "metadata": {},
   "source": [
    " Example : bmi calculator\n",
    " \n",
    " <img src=\"https://www.cdc.gov/healthyweight/images/assessing/bmi-adult-fb-600x315.jpg\">\n",
    " "
   ]
  },
  {
   "cell_type": "code",
   "execution_count": 4,
   "id": "21a7b7e7",
   "metadata": {},
   "outputs": [
    {
     "name": "stdout",
     "output_type": "stream",
     "text": [
      "Enter your weight in kilograms : 65\n",
      "Enter your height in centimetre : 175.5\n",
      "The BMI is 21.103724807428513\n",
      "You are normal\n"
     ]
    }
   ],
   "source": [
    "weight_kg = float(input(\"Enter your weight in kilograms : \"))\n",
    "height_cm = float(input(\"Enter your height in centimetre : \"))\n",
    "height_m = height_cm/100\n",
    "BMI = weight_kg/height_m ** 2\n",
    "print(f\"The BMI is {BMI}\")\n",
    "if BMI <= 18.5:\n",
    "    print(\"You are under weight\")\n",
    "elif BMI >= 18.5 and BMI < 25:\n",
    "    print(\"You are normal\")\n",
    "elif BMI >= 25 and BMI < 30:\n",
    "    print(\"You are over weight\")\n",
    "elif BMI >= 30 and BMI < 35:\n",
    "    print(\"You are obese\")\n",
    "else:\n",
    "    print(\"You are extremely obese\")"
   ]
  },
  {
   "cell_type": "code",
   "execution_count": null,
   "id": "439a2b87",
   "metadata": {},
   "outputs": [],
   "source": []
  }
 ],
 "metadata": {
  "kernelspec": {
   "display_name": "Python 3 (ipykernel)",
   "language": "python",
   "name": "python3"
  },
  "language_info": {
   "codemirror_mode": {
    "name": "ipython",
    "version": 3
   },
   "file_extension": ".py",
   "mimetype": "text/x-python",
   "name": "python",
   "nbconvert_exporter": "python",
   "pygments_lexer": "ipython3",
   "version": "3.10.11"
  }
 },
 "nbformat": 4,
 "nbformat_minor": 5
}
