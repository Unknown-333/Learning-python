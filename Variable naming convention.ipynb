{
 "cells": [
  {
   "cell_type": "markdown",
   "id": "82f37660",
   "metadata": {},
   "source": [
    "# Variable naming convention\n",
    " \n",
    " # python keywords cannot be variable name\n",
    " * keywords are the reserveed words in Python.\n",
    " * We cannot use a keyword as a variable name, function name or any other identifier.\n",
    " * They are used to define the syntax and structure of the Python language.\n",
    " * In Python, keywords are case sensitive"
   ]
  },
  {
   "cell_type": "code",
   "execution_count": 1,
   "id": "7340b7e9",
   "metadata": {},
   "outputs": [
    {
     "name": "stdout",
     "output_type": "stream",
     "text": [
      "\n",
      "Here is a list of the Python keywords.  Enter any keyword to get more help.\n",
      "\n",
      "False               class               from                or\n",
      "None                continue            global              pass\n",
      "True                def                 if                  raise\n",
      "and                 del                 import              return\n",
      "as                  elif                in                  try\n",
      "assert              else                is                  while\n",
      "async               except              lambda              with\n",
      "await               finally             nonlocal            yield\n",
      "break               for                 not                 \n",
      "\n"
     ]
    }
   ],
   "source": [
    "help('keywords')"
   ]
  },
  {
   "cell_type": "markdown",
   "id": "4f5fad9e",
   "metadata": {},
   "source": [
    "# python keywords are case sensitive\n",
    "* programming language le uppercase ra lowercase farak manxa teso ho vane tyo case sensitive language ho"
   ]
  },
  {
   "cell_type": "markdown",
   "id": "276ebb11",
   "metadata": {},
   "source": [
    "False = 0 #it does not work but\n",
    "false = 0 #\n",
    "this is so because \n",
    "\n",
    "False is a Boolean value, and result of a comparison operation whereas false is a simple variable\n",
    "\n",
    "\n",
    "# python, java is a case sensitive language whereas sql is a case insensitive language"
   ]
  },
  {
   "cell_type": "code",
   "execution_count": 2,
   "id": "2ac362f7",
   "metadata": {},
   "outputs": [
    {
     "name": "stdout",
     "output_type": "stream",
     "text": [
      "The value of A is Apple\n",
      "The value of a is ace\n"
     ]
    }
   ],
   "source": [
    "A='Apple'\n",
    "a='ace'\n",
    "print(f\"The value of A is {A}\")\n",
    "print(f\"The value of a is {a}\")"
   ]
  },
  {
   "cell_type": "markdown",
   "id": "64f60ff5",
   "metadata": {},
   "source": [
    "hence python is a case sensitive language\n",
    "# we cannot use special symbols like `!,@,#,$,%,- 'etc in our identifier`"
   ]
  },
  {
   "cell_type": "markdown",
   "id": "a98ae4eb",
   "metadata": {},
   "source": [
    "@name=\"aayush\" is not possible but name=\"aayush is possible\"\n",
    "\n"
   ]
  },
  {
   "cell_type": "code",
   "execution_count": 4,
   "id": "cd206d7c",
   "metadata": {},
   "outputs": [],
   "source": [
    "name = \"Aayush\""
   ]
  },
  {
   "cell_type": "code",
   "execution_count": 2,
   "id": "f91e768a",
   "metadata": {},
   "outputs": [
    {
     "ename": "SyntaxError",
     "evalue": "invalid syntax. Maybe you meant '==' or ':=' instead of '='? (1649156056.py, line 1)",
     "output_type": "error",
     "traceback": [
      "\u001b[0;36m  Cell \u001b[0;32mIn[2], line 1\u001b[0;36m\u001b[0m\n\u001b[0;31m    @name = \"Aayush\"\u001b[0m\n\u001b[0m     ^\u001b[0m\n\u001b[0;31mSyntaxError\u001b[0m\u001b[0;31m:\u001b[0m invalid syntax. Maybe you meant '==' or ':=' instead of '='?\n"
     ]
    }
   ],
   "source": [
    "@name = \"Aayush\"\n",
    "first-name = \"Ram\""
   ]
  },
  {
   "cell_type": "markdown",
   "id": "6669a376",
   "metadata": {},
   "source": [
    "# Numbers cannot be first letter in variable name but numbers can appear after letters"
   ]
  },
  {
   "cell_type": "markdown",
   "id": "e2306a65",
   "metadata": {},
   "source": [
    "# Use underscore `( _ ) to join two words in variable name`  \n",
    "\n",
    " # we can highlight in markdown in jupyter using backtick (  ` )\n",
    " \n",
    " # variable is a name of the data that is stored in a memory location\n",
    "\n",
    "\n"
   ]
  },
  {
   "cell_type": "code",
   "execution_count": 7,
   "id": "b6248124",
   "metadata": {},
   "outputs": [],
   "source": [
    "first_name= 'Shyam' #snake_case"
   ]
  },
  {
   "cell_type": "code",
   "execution_count": 8,
   "id": "86944f02",
   "metadata": {},
   "outputs": [],
   "source": [
    "MyObj= 88 #Pascal Case"
   ]
  },
  {
   "cell_type": "code",
   "execution_count": 9,
   "id": "fd6762df",
   "metadata": {},
   "outputs": [],
   "source": [
    "o= 88 # not a good style --PEP-8(style-guide)"
   ]
  },
  {
   "cell_type": "markdown",
   "id": "c7ac2a4a",
   "metadata": {},
   "source": [
    "# Python as a dynamic typed language\n"
   ]
  },
  {
   "cell_type": "code",
   "execution_count": 10,
   "id": "e64cea8d",
   "metadata": {},
   "outputs": [
    {
     "data": {
      "text/plain": [
       "3"
      ]
     },
     "execution_count": 10,
     "metadata": {},
     "output_type": "execute_result"
    }
   ],
   "source": [
    "1 + 2"
   ]
  },
  {
   "cell_type": "code",
   "execution_count": 11,
   "id": "d8289dfd",
   "metadata": {},
   "outputs": [
    {
     "ename": "SyntaxError",
     "evalue": "unterminated string literal (detected at line 1) (3993036631.py, line 1)",
     "output_type": "error",
     "traceback": [
      "\u001b[0;36m  Cell \u001b[0;32mIn[11], line 1\u001b[0;36m\u001b[0m\n\u001b[0;31m    1\" + 2 #dynamic typed -- data type checked on fly in runtime\u001b[0m\n\u001b[0m     ^\u001b[0m\n\u001b[0;31mSyntaxError\u001b[0m\u001b[0;31m:\u001b[0m unterminated string literal (detected at line 1)\n"
     ]
    }
   ],
   "source": [
    "1\" + 2 #dynamic typed -- data type checked on fly in runtime"
   ]
  },
  {
   "cell_type": "markdown",
   "id": "a15edba1",
   "metadata": {},
   "source": [
    "# updating variable values"
   ]
  },
  {
   "cell_type": "code",
   "execution_count": 12,
   "id": "6bcac0ea",
   "metadata": {},
   "outputs": [
    {
     "name": "stdout",
     "output_type": "stream",
     "text": [
      "Before a =5\n",
      "After a =66\n"
     ]
    }
   ],
   "source": [
    "a = 5\n",
    "print(f'Before a ={a}')\n",
    "a = 66\n",
    "print(f'After a ={a}')"
   ]
  },
  {
   "cell_type": "markdown",
   "id": "1dd0100e",
   "metadata": {},
   "source": [
    "variable override gardo raixa"
   ]
  },
  {
   "cell_type": "code",
   "execution_count": 13,
   "id": "27828597",
   "metadata": {},
   "outputs": [
    {
     "name": "stdout",
     "output_type": "stream",
     "text": [
      "Before a =60.5\n",
      "After a =61.0\n",
      "Before swap\n",
      "The first number is 2.5 and the second number is 0.36\n",
      "After swapping\n",
      "The first number is 0.36 and the second number is 2.5\n"
     ]
    }
   ],
   "source": [
    "a = 60.5\n",
    "print(f'Before a ={a}')\n",
    "a = a+ 0.5\n",
    "print(f'After a ={a}')  \n",
    " # swapping two values\n",
    "num1 = 2.5\n",
    "num2 = 0.36\n",
    "\n",
    "print(\"Before swap\")\n",
    "print(\"The first number is\",num1,\"and the second number is\",num2)\n",
    "\n",
    "temp=num1\n",
    "num1=num2\n",
    "num2=temp\n",
    "print(\"After swapping\")\n",
    "print(\"The first number is\",num1,\"and the second number is\",num2)"
   ]
  },
  {
   "cell_type": "markdown",
   "id": "2a04bbf3",
   "metadata": {},
   "source": [
    "# Assiging multiple values to multiple variable"
   ]
  },
  {
   "cell_type": "code",
   "execution_count": 14,
   "id": "b7819394",
   "metadata": {},
   "outputs": [],
   "source": [
    "a=2\n",
    "b=0.2\n",
    "c=0.6 + 0.3j"
   ]
  },
  {
   "cell_type": "code",
   "execution_count": 5,
   "id": "06e8f8dd",
   "metadata": {},
   "outputs": [
    {
     "name": "stdout",
     "output_type": "stream",
     "text": [
      "The average pace in miles per second is 0.0024258549561914852 miles/second and the average pace in miles per minute is 0.1455512973714891 miles/minute\n"
     ]
    }
   ],
   "source": [
    "min = 42\n",
    "sec = 42\n",
    "kilometer = 10\n",
    "total_sec=(min * 60)+ sec\n",
    "total_min=min+(sec/60)\n",
    "\n",
    "miles =  kilometer / 1.609\n",
    "speed1=miles/total_sec\n",
    "speed2=miles/total_min\n",
    "print(f\"The average pace in miles per second is {speed1} miles/second and the average pace in miles per minute is {speed2} miles/minute\")\n"
   ]
  },
  {
   "cell_type": "code",
   "execution_count": 1,
   "id": "2e2b6c40",
   "metadata": {},
   "outputs": [
    {
     "name": "stdout",
     "output_type": "stream",
     "text": [
      "Enter any number of your choice:4\n",
      "Enter any number of your choice:5\n",
      "The sum is  9 and the difference is  -1 the product is  20 the division is  0.8 the power of  4 to 5 is 1024\n",
      "when  4 is divided by  5 the remainder is 4 and the floor division is 0\n"
     ]
    }
   ],
   "source": [
    "x=int(input(\"Enter any number of your choice:\"))\n",
    "y=int(input(\"Enter any number of your choice:\"))\n",
    "print(\"The sum is \",x+y,\"and the difference is \",x-y,\"the product is \",x*y,\"the division is \",x/y,\"the power of \",x,\"to\",y,\"is\",x**y)\n",
    "print(\"when \",x,\"is divided by \",y,\"the remainder is\",x%y,\"and the floor division is\",x//y)"
   ]
  },
  {
   "cell_type": "code",
   "execution_count": 17,
   "id": "f6e4df2a",
   "metadata": {},
   "outputs": [
    {
     "name": "stdout",
     "output_type": "stream",
     "text": [
      "Enter a number: 3\n",
      "3 is a prime number\n"
     ]
    }
   ],
   "source": [
    "num = int(input(\"Enter a number: \"))\n",
    "\n",
    "flag = False\n",
    "\n",
    "if num == 1:\n",
    "    print(num, \"is not a prime number\")\n",
    "elif num > 1:\n",
    "   \n",
    "    for i in range(2, num):\n",
    "        if (num % i) == 0:\n",
    "       \n",
    "            flag = True\n",
    "       \n",
    "            break\n",
    "    if flag:\n",
    "        print(num, \"is not a prime number\")\n",
    "    else:\n",
    "        print(num, \"is a prime number\")"
   ]
  },
  {
   "cell_type": "code",
   "execution_count": 18,
   "id": "33af8cdb",
   "metadata": {},
   "outputs": [
    {
     "name": "stdout",
     "output_type": "stream",
     "text": [
      "What's x?4\n",
      "What's y?4\n",
      "4 is equal to  4\n"
     ]
    }
   ],
   "source": [
    "x= int(input(\"What's x?\"))\n",
    "y= int(input(\"What's y?\"))\n",
    "\n",
    "if x<y:\n",
    "    print(f\"{x} is less than {y}\")\n",
    "elif x>y:\n",
    "    print(f\"{x} is greater than {y}\")\n",
    "else:\n",
    "    print(f\"{x} is equal to  {y}\")"
   ]
  },
  {
   "cell_type": "code",
   "execution_count": 19,
   "id": "8fa817f3",
   "metadata": {},
   "outputs": [
    {
     "name": "stdout",
     "output_type": "stream",
     "text": [
      "What's x?3\n",
      "What's y?4\n",
      "3 is not equal to  4\n"
     ]
    }
   ],
   "source": [
    "x= int(input(\"What's x?\"))\n",
    "y= int(input(\"What's y?\"))\n",
    "\n",
    "if x<y or x>y:\n",
    "   print(f\"{x} is not equal to  {y}\")\n",
    "else:\n",
    "    print(f\"{x} is equal to  {y}\")"
   ]
  },
  {
   "cell_type": "code",
   "execution_count": 28,
   "id": "86f48dea",
   "metadata": {},
   "outputs": [
    {
     "name": "stdout",
     "output_type": "stream",
     "text": [
      "Enter value in kilometers: 3\n",
      "3.00 kilometers is equal to 1.86 miles\n"
     ]
    }
   ],
   "source": [
    "kilometers = float(input(\"Enter value in kilometers: \"))\n",
    "\n",
    "conv_fac = 0.621371\n",
    "\n",
    "miles = kilometers * conv_fac\n",
    "print('%0.2f kilometers is equal to %0.2f miles' %(kilometers,miles))"
   ]
  },
  {
   "cell_type": "code",
   "execution_count": 21,
   "id": "19824017",
   "metadata": {},
   "outputs": [
    {
     "name": "stdout",
     "output_type": "stream",
     "text": [
      "Enter a number: 2\n",
      "Positive number\n"
     ]
    }
   ],
   "source": [
    "num = float(input(\"Enter a number: \"))\n",
    "if num > 0:\n",
    "   print(\"Positive number\")\n",
    "elif num == 0:\n",
    "   print(\"Zero\")\n",
    "else:\n",
    "   print(\"Negative number\")\n"
   ]
  },
  {
   "cell_type": "code",
   "execution_count": 22,
   "id": "0a537256",
   "metadata": {},
   "outputs": [
    {
     "name": "stdout",
     "output_type": "stream",
     "text": [
      "Enter a number: 3\n",
      "3 is Odd\n"
     ]
    }
   ],
   "source": [
    "num = int(input(\"Enter a number: \"))\n",
    "if (num % 2) == 0:\n",
    "   print(\"{0} is Even\".format(num))\n",
    "else:\n",
    "   print(\"{0} is Odd\".format(num))"
   ]
  },
  {
   "cell_type": "code",
   "execution_count": 23,
   "id": "ebf399bf",
   "metadata": {},
   "outputs": [
    {
     "name": "stdout",
     "output_type": "stream",
     "text": [
      "Enter a year: 2005\n",
      "2005 is not a leap year\n"
     ]
    }
   ],
   "source": [
    " year = int(input(\"Enter a year: \"))\n",
    "\n",
    "if (year % 400 == 0) and (year % 100 == 0):\n",
    "    print(\"{0} is a leap year\".format(year))\n",
    "\n",
    "\n",
    "elif (year % 4 ==0) and (year % 100 != 0):\n",
    "    print(\"{0} is a leap year\".format(year))\n",
    "\n",
    "\n",
    "else:\n",
    "    print(\"{0} is not a leap year\".format(year))"
   ]
  },
  {
   "cell_type": "markdown",
   "id": "9a33701e",
   "metadata": {},
   "source": [
    "# Python Program to Find the Largest Among Three Numbers"
   ]
  },
  {
   "cell_type": "code",
   "execution_count": 25,
   "id": "dadfb98e",
   "metadata": {},
   "outputs": [
    {
     "name": "stdout",
     "output_type": "stream",
     "text": [
      "Enter first number: 2\n",
      "Enter second number: 3\n",
      "Enter third number: 4\n",
      "The largest number is 4\n"
     ]
    }
   ],
   "source": [
    "num1 = int(input(\"Enter first number: \"))\n",
    "num2 = int(input(\"Enter second number: \"))\n",
    "num3 = int(input(\"Enter third number: \"))\n",
    "\n",
    "if (num1 >= num2) and (num1 >= num3):\n",
    "   largest = num1\n",
    "elif (num2 >= num1) and (num2 >= num3):\n",
    "   largest = num2\n",
    "else:\n",
    "   largest = num3\n",
    "\n",
    "print(\"The largest number is\", largest)\n"
   ]
  },
  {
   "cell_type": "markdown",
   "id": "3cc32f07",
   "metadata": {},
   "source": [
    " # Python Program to Find the Factorial of a Number"
   ]
  },
  {
   "cell_type": "code",
   "execution_count": 26,
   "id": "2b691c14",
   "metadata": {},
   "outputs": [
    {
     "name": "stdout",
     "output_type": "stream",
     "text": [
      "Enter a number: 5\n",
      "The factorial of 5 is 120\n"
     ]
    }
   ],
   "source": [
    "\n",
    "num = int(input(\"Enter a number: \"))\n",
    "\n",
    "factorial = 1\n",
    "\n",
    "if num < 0:\n",
    "   print(\"Sorry, factorial does not exist for negative numbers\")\n",
    "elif num == 0:\n",
    "   print(\"The factorial of 0 is 1\")\n",
    "else:\n",
    "   for i in range(1,num + 1):\n",
    "       factorial = factorial*i\n",
    "   print(\"The factorial of\",num,\"is\",factorial)\n"
   ]
  },
  {
   "cell_type": "code",
   "execution_count": 27,
   "id": "60f95cfd",
   "metadata": {},
   "outputs": [
    {
     "name": "stdout",
     "output_type": "stream",
     "text": [
      "Display multiplication table of? 9\n",
      "9 x 1 = 9\n",
      "9 x 2 = 18\n",
      "9 x 3 = 27\n",
      "9 x 4 = 36\n",
      "9 x 5 = 45\n",
      "9 x 6 = 54\n",
      "9 x 7 = 63\n",
      "9 x 8 = 72\n",
      "9 x 9 = 81\n",
      "9 x 10 = 90\n"
     ]
    }
   ],
   "source": [
    "num = int(input(\"Display multiplication table of? \"))\n",
    "\n",
    "for i in range(1, 11):\n",
    "   print(num, 'x', i, '=', num*i)"
   ]
  },
  {
   "cell_type": "markdown",
   "id": "fc71dd11",
   "metadata": {},
   "source": [
    "# variable naming style\n",
    "\n",
    "[Python style guide](https://realpython.com/python-pep8/)"
   ]
  },
  {
   "cell_type": "markdown",
   "id": "c25456b1",
   "metadata": {},
   "source": [
    "to put link use [ yes ma name]/( link ) (dont put '/')"
   ]
  },
  {
   "cell_type": "markdown",
   "id": "1ce82253",
   "metadata": {},
   "source": [
    "# volume of sphere  [ Jun 18 assignment]"
   ]
  },
  {
   "cell_type": "code",
   "execution_count": 2,
   "id": "f1b2a12d",
   "metadata": {},
   "outputs": [
    {
     "name": "stdout",
     "output_type": "stream",
     "text": [
      "The volume of the sphere is: 523.33 cubic meters\n"
     ]
    }
   ],
   "source": [
    "r = 5\n",
    "\n",
    "volume= (4/3)*3.14*r**3\n",
    "print(\"The volume of the sphere is: %0.2f cubic meters\" % volume)"
   ]
  },
  {
   "cell_type": "markdown",
   "id": "add65f97",
   "metadata": {},
   "source": [
    "or we can write the same program using import keyword"
   ]
  },
  {
   "cell_type": "code",
   "execution_count": 4,
   "id": "6be87e80",
   "metadata": {},
   "outputs": [
    {
     "name": "stdout",
     "output_type": "stream",
     "text": [
      "Enter the radius of sphere in metre5\n",
      "The volume of the sphere is: 523.60 cubic meters\n"
     ]
    }
   ],
   "source": [
    "import math\n",
    "\n",
    "r = float(input(\"Enter the radius of sphere in metre\"))\n",
    "volume = (4/3)*math.pi*r**3\n",
    "\n",
    "print(\"The volume of the sphere is: %0.2f cubic meters\" % volume)\n"
   ]
  },
  {
   "cell_type": "code",
   "execution_count": null,
   "id": "200bc60e",
   "metadata": {},
   "outputs": [],
   "source": []
  }
 ],
 "metadata": {
  "kernelspec": {
   "display_name": "Python 3 (ipykernel)",
   "language": "python",
   "name": "python3"
  },
  "language_info": {
   "codemirror_mode": {
    "name": "ipython",
    "version": 3
   },
   "file_extension": ".py",
   "mimetype": "text/x-python",
   "name": "python",
   "nbconvert_exporter": "python",
   "pygments_lexer": "ipython3",
   "version": "3.10.11"
  }
 },
 "nbformat": 4,
 "nbformat_minor": 5
}
