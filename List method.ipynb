{
 "cells": [
  {
   "cell_type": "code",
   "execution_count": 2,
   "id": "91d741fe",
   "metadata": {},
   "outputs": [
    {
     "data": {
      "text/plain": [
       "4517468480"
      ]
     },
     "execution_count": 2,
     "metadata": {},
     "output_type": "execute_result"
    }
   ],
   "source": [
    "cars = ['Mercedes', 'Tesla', 'BMW', 'Ferrari']\n",
    "id(cars)"
   ]
  },
  {
   "cell_type": "code",
   "execution_count": 3,
   "id": "4a2b32e5",
   "metadata": {},
   "outputs": [
    {
     "data": {
      "text/plain": [
       "'Tesla'"
      ]
     },
     "execution_count": 3,
     "metadata": {},
     "output_type": "execute_result"
    }
   ],
   "source": [
    "cars[1]"
   ]
  },
  {
   "cell_type": "code",
   "execution_count": 4,
   "id": "73b7a5b5",
   "metadata": {},
   "outputs": [],
   "source": [
    "cars[1] = 'Lamborghini' # list is mutable data type [memory id is same]"
   ]
  },
  {
   "cell_type": "code",
   "execution_count": 4,
   "id": "56bbec64",
   "metadata": {},
   "outputs": [
    {
     "data": {
      "text/plain": [
       "['Mercedes', 'Lamborghini', 'BMW', 'Ferrari']"
      ]
     },
     "execution_count": 4,
     "metadata": {},
     "output_type": "execute_result"
    }
   ],
   "source": [
    "cars"
   ]
  },
  {
   "cell_type": "code",
   "execution_count": 5,
   "id": "f6abcf4c",
   "metadata": {},
   "outputs": [
    {
     "data": {
      "text/plain": [
       "4511388224"
      ]
     },
     "execution_count": 5,
     "metadata": {},
     "output_type": "execute_result"
    }
   ],
   "source": [
    "id(cars)"
   ]
  },
  {
   "cell_type": "code",
   "execution_count": 6,
   "id": "17e9fa80",
   "metadata": {},
   "outputs": [
    {
     "name": "stdout",
     "output_type": "stream",
     "text": [
      "['apple', 'watermelon', 'papaya', 'orange', 'kiwi', 'mango']\n"
     ]
    }
   ],
   "source": [
    "fruits = [\"apple\", \"banana\", \"mango\", \"orange\", \"kiwi\", \"mango\"]\n",
    "fruits[1:3] = [\"watermelon\" , \"papaya\"]\n",
    "print(fruits)"
   ]
  },
  {
   "cell_type": "markdown",
   "id": "c7c17b00",
   "metadata": {},
   "source": [
    "# .insert()"
   ]
  },
  {
   "cell_type": "code",
   "execution_count": 13,
   "id": "a5fa7a1a",
   "metadata": {},
   "outputs": [
    {
     "name": "stdout",
     "output_type": "stream",
     "text": [
      "banana\n"
     ]
    }
   ],
   "source": [
    "fruits = [\"apple\", \"banana\", \"mango\", \"orange\", \"kiwi\", \"mango\"]\n",
    "print(fruits[1])\n",
    "fruits.insert(1, \"grapes\") # because list id mutable but string is immutable"
   ]
  },
  {
   "cell_type": "code",
   "execution_count": 8,
   "id": "fc2b3570",
   "metadata": {},
   "outputs": [
    {
     "data": {
      "text/plain": [
       "['apple', 'grapes', 'banana', 'mango', 'orange', 'kiwi', 'mango']"
      ]
     },
     "execution_count": 8,
     "metadata": {},
     "output_type": "execute_result"
    }
   ],
   "source": [
    "fruits"
   ]
  },
  {
   "cell_type": "code",
   "execution_count": 10,
   "id": "1e11b15b",
   "metadata": {},
   "outputs": [
    {
     "data": {
      "text/plain": [
       "'banana'"
      ]
     },
     "execution_count": 10,
     "metadata": {},
     "output_type": "execute_result"
    }
   ],
   "source": [
    "fruits[2]"
   ]
  },
  {
   "cell_type": "markdown",
   "id": "b6876154",
   "metadata": {},
   "source": [
    "# .append()"
   ]
  },
  {
   "cell_type": "code",
   "execution_count": 5,
   "id": "b97ad4e4",
   "metadata": {},
   "outputs": [],
   "source": [
    "student = []"
   ]
  },
  {
   "cell_type": "code",
   "execution_count": 6,
   "id": "2d3a01c6",
   "metadata": {},
   "outputs": [
    {
     "data": {
      "text/plain": [
       "[]"
      ]
     },
     "execution_count": 6,
     "metadata": {},
     "output_type": "execute_result"
    }
   ],
   "source": [
    "student\n"
   ]
  },
  {
   "cell_type": "code",
   "execution_count": 7,
   "id": "038d80c2",
   "metadata": {},
   "outputs": [],
   "source": [
    "student.append('Susan')"
   ]
  },
  {
   "cell_type": "code",
   "execution_count": 8,
   "id": "2480e241",
   "metadata": {},
   "outputs": [
    {
     "data": {
      "text/plain": [
       "['Susan']"
      ]
     },
     "execution_count": 8,
     "metadata": {},
     "output_type": "execute_result"
    }
   ],
   "source": [
    "student"
   ]
  },
  {
   "cell_type": "code",
   "execution_count": 9,
   "id": "7451f8c7",
   "metadata": {},
   "outputs": [],
   "source": [
    "student.append(\"Punam\")"
   ]
  },
  {
   "cell_type": "code",
   "execution_count": 10,
   "id": "bc2e13e1",
   "metadata": {},
   "outputs": [
    {
     "data": {
      "text/plain": [
       "['Susan', 'Punam']"
      ]
     },
     "execution_count": 10,
     "metadata": {},
     "output_type": "execute_result"
    }
   ],
   "source": [
    "student"
   ]
  },
  {
   "cell_type": "code",
   "execution_count": 11,
   "id": "6c1f2ed3",
   "metadata": {},
   "outputs": [
    {
     "data": {
      "text/plain": [
       "'Punam'"
      ]
     },
     "execution_count": 11,
     "metadata": {},
     "output_type": "execute_result"
    }
   ],
   "source": [
    "student[-1]"
   ]
  },
  {
   "cell_type": "code",
   "execution_count": 12,
   "id": "f7ebe971",
   "metadata": {},
   "outputs": [],
   "source": [
    "student.append(\"Thani\")"
   ]
  },
  {
   "cell_type": "code",
   "execution_count": 15,
   "id": "8d4da98e",
   "metadata": {},
   "outputs": [
    {
     "data": {
      "text/plain": [
       "'Thani'"
      ]
     },
     "execution_count": 15,
     "metadata": {},
     "output_type": "execute_result"
    }
   ],
   "source": [
    "student[-1] # negative indexing\n"
   ]
  },
  {
   "cell_type": "code",
   "execution_count": 14,
   "id": "5608d3b6",
   "metadata": {},
   "outputs": [
    {
     "data": {
      "text/plain": [
       "['Susan', 'Punam', 'Thani']"
      ]
     },
     "execution_count": 14,
     "metadata": {},
     "output_type": "execute_result"
    }
   ],
   "source": [
    "student"
   ]
  },
  {
   "cell_type": "code",
   "execution_count": 24,
   "id": "363cae53",
   "metadata": {},
   "outputs": [
    {
     "name": "stdout",
     "output_type": "stream",
     "text": [
      "[2, 4, 6, 8, 10, 12, 14, 16, 18, 20, 22, 24]\n"
     ]
    }
   ],
   "source": [
    "# wap to find list even number between 1 to 25\n",
    "even = []\n",
    "for i in range(2,25):\n",
    "    if i % 2 == 0:\n",
    "        even.append(i)\n",
    "print(even)        \n"
   ]
  },
  {
   "cell_type": "code",
   "execution_count": 23,
   "id": "ab81a997",
   "metadata": {},
   "outputs": [
    {
     "name": "stdout",
     "output_type": "stream",
     "text": [
      "[2, 4, 6, 8, 10, 12, 14, 16, 18, 20, 22, 24]\n"
     ]
    }
   ],
   "source": [
    "# wap to find list even number between 1 to 25\n",
    "even = []\n",
    "for i in range(2,25,2):\n",
    "    even.append(i)\n",
    "print(even)        \n"
   ]
  },
  {
   "cell_type": "markdown",
   "id": "3d77a3e7",
   "metadata": {},
   "source": [
    "# .extend()"
   ]
  },
  {
   "cell_type": "code",
   "execution_count": 25,
   "id": "7ec7115f",
   "metadata": {},
   "outputs": [],
   "source": [
    "l1 = [2,4,6]\n",
    "l2 = [1,3]"
   ]
  },
  {
   "cell_type": "code",
   "execution_count": 26,
   "id": "f4929f47",
   "metadata": {},
   "outputs": [
    {
     "data": {
      "text/plain": [
       "[2, 4, 6, 1, 3]"
      ]
     },
     "execution_count": 26,
     "metadata": {},
     "output_type": "execute_result"
    }
   ],
   "source": [
    " l1 + l2"
   ]
  },
  {
   "cell_type": "code",
   "execution_count": 27,
   "id": "41cdd0ed",
   "metadata": {},
   "outputs": [],
   "source": [
    "l1.extend(l2)"
   ]
  },
  {
   "cell_type": "code",
   "execution_count": 28,
   "id": "8764030c",
   "metadata": {},
   "outputs": [
    {
     "data": {
      "text/plain": [
       "[2, 4, 6, 1, 3]"
      ]
     },
     "execution_count": 28,
     "metadata": {},
     "output_type": "execute_result"
    }
   ],
   "source": [
    "l1"
   ]
  },
  {
   "cell_type": "code",
   "execution_count": 29,
   "id": "8fcd0e5e",
   "metadata": {},
   "outputs": [
    {
     "data": {
      "text/plain": [
       "[1, 3]"
      ]
     },
     "execution_count": 29,
     "metadata": {},
     "output_type": "execute_result"
    }
   ],
   "source": [
    "l2"
   ]
  },
  {
   "cell_type": "markdown",
   "id": "6aec735a",
   "metadata": {},
   "source": [
    " # .remove()"
   ]
  },
  {
   "cell_type": "code",
   "execution_count": 30,
   "id": "b7a36f5a",
   "metadata": {},
   "outputs": [
    {
     "name": "stdout",
     "output_type": "stream",
     "text": [
      "['banana', 'apple', 'mango']\n"
     ]
    }
   ],
   "source": [
    "fruits = ['apple', 'banana', 'apple', 'mango']\n",
    "fruits.remove(\"apple\") # first occurance item is removed\n",
    "print(fruits)"
   ]
  },
  {
   "cell_type": "markdown",
   "id": "b5d4d776",
   "metadata": {},
   "source": [
    "# .pop() [last ko item delete garxa]"
   ]
  },
  {
   "cell_type": "code",
   "execution_count": 31,
   "id": "0d188293",
   "metadata": {},
   "outputs": [
    {
     "name": "stdout",
     "output_type": "stream",
     "text": [
      "['apple', 'banana', 'apple']\n"
     ]
    }
   ],
   "source": [
    "fruits = ['apple', 'banana', 'apple', 'mango']\n",
    "fruits.pop() # removes last item\n",
    "print(fruits)"
   ]
  },
  {
   "cell_type": "code",
   "execution_count": 36,
   "id": "857ccc97",
   "metadata": {},
   "outputs": [],
   "source": [
    "fruit = ['apple', 'banana', 'apple', 'mango', 'guava', 'papaya', 'kiwi', 'orange']"
   ]
  },
  {
   "cell_type": "code",
   "execution_count": 37,
   "id": "f48a81ed",
   "metadata": {},
   "outputs": [
    {
     "data": {
      "text/plain": [
       "['apple', 'banana', 'apple', 'mango', 'guava', 'papaya', 'kiwi', 'orange']"
      ]
     },
     "execution_count": 37,
     "metadata": {},
     "output_type": "execute_result"
    }
   ],
   "source": [
    "fruit"
   ]
  },
  {
   "cell_type": "code",
   "execution_count": 38,
   "id": "4d30a279",
   "metadata": {},
   "outputs": [
    {
     "data": {
      "text/plain": [
       "'guava'"
      ]
     },
     "execution_count": 38,
     "metadata": {},
     "output_type": "execute_result"
    }
   ],
   "source": [
    "fruit.pop(4)"
   ]
  },
  {
   "cell_type": "code",
   "execution_count": 39,
   "id": "bb54bc0d",
   "metadata": {},
   "outputs": [
    {
     "data": {
      "text/plain": [
       "['apple', 'banana', 'apple', 'mango', 'papaya', 'kiwi', 'orange']"
      ]
     },
     "execution_count": 39,
     "metadata": {},
     "output_type": "execute_result"
    }
   ],
   "source": [
    "fruit"
   ]
  },
  {
   "cell_type": "markdown",
   "id": "ae1e4efa",
   "metadata": {},
   "source": [
    "# .sort()"
   ]
  },
  {
   "cell_type": "code",
   "execution_count": 40,
   "id": "8b49c032",
   "metadata": {},
   "outputs": [],
   "source": [
    "fruit = ['apple', 'banana', 'apple', 'mango', 'guava', 'papaya', 'kiwi', 'orange']\n",
    "fruit.sort() #Ascending "
   ]
  },
  {
   "cell_type": "code",
   "execution_count": 41,
   "id": "5f09a1d0",
   "metadata": {},
   "outputs": [
    {
     "data": {
      "text/plain": [
       "['apple', 'apple', 'banana', 'guava', 'kiwi', 'mango', 'orange', 'papaya']"
      ]
     },
     "execution_count": 41,
     "metadata": {},
     "output_type": "execute_result"
    }
   ],
   "source": [
    "fruit"
   ]
  },
  {
   "cell_type": "code",
   "execution_count": 42,
   "id": "da9cc0e1",
   "metadata": {},
   "outputs": [],
   "source": [
    "# for descending \n",
    "fruit = ['apple', 'banana', 'apple', 'mango', 'guava', 'papaya', 'kiwi', 'orange']\n",
    "fruit.sort(reverse = True)"
   ]
  },
  {
   "cell_type": "code",
   "execution_count": 43,
   "id": "7ef004b1",
   "metadata": {},
   "outputs": [
    {
     "data": {
      "text/plain": [
       "['papaya', 'orange', 'mango', 'kiwi', 'guava', 'banana', 'apple', 'apple']"
      ]
     },
     "execution_count": 43,
     "metadata": {},
     "output_type": "execute_result"
    }
   ],
   "source": [
    "fruit"
   ]
  },
  {
   "cell_type": "code",
   "execution_count": 46,
   "id": "40054b0e",
   "metadata": {},
   "outputs": [
    {
     "data": {
      "text/plain": [
       "['apple', 'apple', 'banana', 'guava', 'kiwi', 'mango', 'orange', 'papaya']"
      ]
     },
     "execution_count": 46,
     "metadata": {},
     "output_type": "execute_result"
    }
   ],
   "source": [
    "fruit = ['apple', 'banana', 'apple', 'mango', 'guava', 'papaya', 'kiwi', 'orange']\n",
    "sorted_fruits = sorted(fruit) # if variable ma assign garna manlagyo vane\n",
    "sorted_fruits"
   ]
  },
  {
   "cell_type": "code",
   "execution_count": 45,
   "id": "7d9a6853",
   "metadata": {},
   "outputs": [
    {
     "data": {
      "text/plain": [
       "['papaya', 'orange', 'mango', 'kiwi', 'guava', 'banana', 'apple', 'apple']"
      ]
     },
     "execution_count": 45,
     "metadata": {},
     "output_type": "execute_result"
    }
   ],
   "source": [
    "fruit = ['apple', 'banana', 'apple', 'mango', 'guava', 'papaya', 'kiwi', 'orange']\n",
    "sorted_fruits = sorted(fruit, reverse = True)\n",
    "sorted_fruits"
   ]
  },
  {
   "cell_type": "code",
   "execution_count": null,
   "id": "db77b91f",
   "metadata": {},
   "outputs": [],
   "source": []
  }
 ],
 "metadata": {
  "kernelspec": {
   "display_name": "Python 3 (ipykernel)",
   "language": "python",
   "name": "python3"
  },
  "language_info": {
   "codemirror_mode": {
    "name": "ipython",
    "version": 3
   },
   "file_extension": ".py",
   "mimetype": "text/x-python",
   "name": "python",
   "nbconvert_exporter": "python",
   "pygments_lexer": "ipython3",
   "version": "3.10.11"
  }
 },
 "nbformat": 4,
 "nbformat_minor": 5
}
