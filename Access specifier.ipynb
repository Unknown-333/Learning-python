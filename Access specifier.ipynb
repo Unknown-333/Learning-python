{
 "cells": [
  {
   "cell_type": "markdown",
   "id": "9480080c",
   "metadata": {},
   "source": [
    "# Are access specifiers used in Python? -- No but has concept of limiting behaviour of variables : provate attribute are not inherited"
   ]
  },
  {
   "cell_type": "code",
   "execution_count": 8,
   "id": "bcbd0329",
   "metadata": {},
   "outputs": [],
   "source": [
    "class Instructor:\n",
    "    \n",
    "    # public\n",
    "    name = 'Kshitiz'\n",
    "    \n",
    "    # single underscore before variable name represents protected\n",
    "    _teaches = ['Python', 'AI', 'Data Science']\n",
    "    \n",
    "    # double underscore before variable name/ function is private\n",
    "    __age = 26"
   ]
  },
  {
   "cell_type": "code",
   "execution_count": 9,
   "id": "b3793123",
   "metadata": {},
   "outputs": [],
   "source": [
    "obj = Instructor()"
   ]
  },
  {
   "cell_type": "code",
   "execution_count": 10,
   "id": "0479c6cb",
   "metadata": {},
   "outputs": [
    {
     "data": {
      "text/plain": [
       "'Kshitiz'"
      ]
     },
     "execution_count": 10,
     "metadata": {},
     "output_type": "execute_result"
    }
   ],
   "source": [
    "obj.name"
   ]
  },
  {
   "cell_type": "code",
   "execution_count": 11,
   "id": "f7a6a87a",
   "metadata": {},
   "outputs": [
    {
     "data": {
      "text/plain": [
       "['Python', 'AI', 'Data Science']"
      ]
     },
     "execution_count": 11,
     "metadata": {},
     "output_type": "execute_result"
    }
   ],
   "source": [
    "obj._teaches"
   ]
  },
  {
   "cell_type": "code",
   "execution_count": 12,
   "id": "d520e35d",
   "metadata": {},
   "outputs": [
    {
     "ename": "AttributeError",
     "evalue": "'Instructor' object has no attribute '__age'",
     "output_type": "error",
     "traceback": [
      "\u001b[0;31m---------------------------------------------------------------------------\u001b[0m",
      "\u001b[0;31mAttributeError\u001b[0m                            Traceback (most recent call last)",
      "Cell \u001b[0;32mIn[12], line 1\u001b[0m\n\u001b[0;32m----> 1\u001b[0m \u001b[43mobj\u001b[49m\u001b[38;5;241;43m.\u001b[39;49m\u001b[43m__age\u001b[49m\n",
      "\u001b[0;31mAttributeError\u001b[0m: 'Instructor' object has no attribute '__age'"
     ]
    }
   ],
   "source": [
    "obj.__age"
   ]
  },
  {
   "cell_type": "code",
   "execution_count": null,
   "id": "9ee384a0",
   "metadata": {},
   "outputs": [],
   "source": []
  }
 ],
 "metadata": {
  "kernelspec": {
   "display_name": "Python 3 (ipykernel)",
   "language": "python",
   "name": "python3"
  },
  "language_info": {
   "codemirror_mode": {
    "name": "ipython",
    "version": 3
   },
   "file_extension": ".py",
   "mimetype": "text/x-python",
   "name": "python",
   "nbconvert_exporter": "python",
   "pygments_lexer": "ipython3",
   "version": "3.10.11"
  }
 },
 "nbformat": 4,
 "nbformat_minor": 5
}
