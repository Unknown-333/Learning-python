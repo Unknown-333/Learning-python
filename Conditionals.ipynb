{
 "cells": [
  {
   "cell_type": "code",
   "execution_count": 1,
   "id": "9fd295ff",
   "metadata": {},
   "outputs": [
    {
     "name": "stdout",
     "output_type": "stream",
     "text": [
      "Enter any number of your choice : 4\n",
      "4 is even\n"
     ]
    }
   ],
   "source": [
    "# to find whether a number is even or odd\n",
    "num = int(input(\"Enter any number of your choice : \"))\n",
    "if (num % 2) == 0:\n",
    "    print(f\"{num} is even\")\n",
    "else:\n",
    "    print(f\"{num} is odd\")"
   ]
  },
  {
   "cell_type": "markdown",
   "id": "53b3def0",
   "metadata": {},
   "source": [
    " # comparision operator [same as c]\n",
    " \n",
    " * Equal to: ==\n",
    "\n",
    "Checks if the values of two operands are equal.\n",
    "Example: x == y returns True if x is equal to y, False otherwise.\n",
    "\n",
    " * Not equal to: !=\n",
    "\n",
    "Checks if the values of two operands are not equal.\n",
    "Example: x != y returns True if x is not equal to y, False otherwise.\n",
    "\n",
    " * Greater than: >\n",
    "\n",
    "Checks if the value of the left operand is greater than the value of the right operand.\n",
    "Example: x > y returns True if x is greater than y, False otherwise.\n",
    "\n",
    "* Less than: <\n",
    "\n",
    "Checks if the value of the left operand is less than the value of the right operand.\n",
    "Example: x < y returns True if x is less than y, False otherwise.\n",
    "\n",
    "* Greater than or equal to: >=\n",
    "\n",
    "Checks if the value of the left operand is greater than or equal to the value of the right operand.\n",
    "Example: x >= y returns True if x is greater than or equal to y, False otherwise.\n",
    "\n",
    "* Less than or equal to: <=\n",
    "\n",
    "Checks if the value of the left operand is less than or equal to the value of the right operand.\n",
    "Example: x <= y returns True if x is less than or equal to y, False otherwise."
   ]
  },
  {
   "cell_type": "markdown",
   "id": "8167c659",
   "metadata": {},
   "source": [
    " <img src = \"https://i.ytimg.com/vi/kqajMt_wA4Y/maxresdefault.jpg\">"
   ]
  },
  {
   "attachments": {
    "Screen%20Shot%202023-06-19%20at%209.04.02%20AM.png": {
     "image/png": "[encoded data removed]"
    }
   },
   "cell_type": "markdown",
   "id": "5d55325e",
   "metadata": {},
   "source": [
    "to put image in markdown or LaTeX\n",
    "\n",
    "no spacebar after < and before>\n",
    "\n",
    "![Screen%20Shot%202023-06-19%20at%209.04.02%20AM.png](attachment:Screen%20Shot%202023-06-19%20at%209.04.02%20AM.png)"
   ]
  },
  {
   "cell_type": "code",
   "execution_count": 2,
   "id": "5c8ceb9d",
   "metadata": {},
   "outputs": [
    {
     "name": "stdout",
     "output_type": "stream",
     "text": [
      "Enter any number of your choice :5\n",
      "5 is positive\n"
     ]
    }
   ],
   "source": [
    "num = int(input(\"Enter any number of your choice :\"))\n",
    "\n",
    "if num > 0:\n",
    "    print(f\"{num} is positive\")\n",
    "elif num < 0:\n",
    "    print(f\"{num} is negative\")\n",
    "else:\n",
    "    print(f\"{num} is zero\")\n"
   ]
  },
  {
   "cell_type": "markdown",
   "id": "8425afba",
   "metadata": {},
   "source": [
    "# To check if inputted number is multiple of 5"
   ]
  },
  {
   "cell_type": "code",
   "execution_count": 3,
   "id": "176f7e9a",
   "metadata": {},
   "outputs": [
    {
     "name": "stdout",
     "output_type": "stream",
     "text": [
      "Enter a number: 5\n",
      "Hello\n"
     ]
    }
   ],
   "source": [
    "n=int(input(\"Enter a number: \"))\n",
    "\n",
    "if n%5 == 0:\n",
    "    print(\"Hello\")\n",
    "else:\n",
    "    print(\"Bye\")"
   ]
  },
  {
   "cell_type": "markdown",
   "id": "8b4cefb7",
   "metadata": {},
   "source": [
    "# Eligibility to vote"
   ]
  },
  {
   "cell_type": "code",
   "execution_count": 4,
   "id": "bd4120a3",
   "metadata": {},
   "outputs": [
    {
     "name": "stdout",
     "output_type": "stream",
     "text": [
      "Enter your age : 17\n",
      "You cannot vote\n"
     ]
    }
   ],
   "source": [
    "age = int(input(\"Enter your age : \"))\n",
    "if age >= 18:\n",
    "    print(\"You are eligible to vote\")\n",
    "else:\n",
    "    print(\"You cannot vote\")"
   ]
  },
  {
   "cell_type": "markdown",
   "id": "d0e02900",
   "metadata": {},
   "source": [
    " # divisible by 3 or not\n",
    " "
   ]
  },
  {
   "cell_type": "code",
   "execution_count": 1,
   "id": "67a3ddd1",
   "metadata": {},
   "outputs": [
    {
     "name": "stdout",
     "output_type": "stream",
     "text": [
      "Enter a number: 9\n",
      "9 is divisible by 3\n"
     ]
    }
   ],
   "source": [
    "n=int(input(\"Enter a number: \"))\n",
    "\n",
    "if n%3 == 0:\n",
    "    print(f\"{n} is divisible by 3\")\n",
    "else:\n",
    "    print(f\"{n} is not divisible by 3\")"
   ]
  },
  {
   "cell_type": "markdown",
   "id": "064b5865",
   "metadata": {},
   "source": [
    "# last digit divisible by 3\n"
   ]
  },
  {
   "cell_type": "code",
   "execution_count": 5,
   "id": "bfecf338",
   "metadata": {},
   "outputs": [
    {
     "name": "stdout",
     "output_type": "stream",
     "text": [
      "Enter a number: 133\n",
      "3 is divisible by 3 \n"
     ]
    }
   ],
   "source": [
    "n=int(input(\"Enter a number: \"))\n",
    "last_digit = n% 10\n",
    "if last_digit % 3 == 0:\n",
    "    print(f\"{last_digit} is divisible by 3 \")\n",
    "else:\n",
    "    print(f\"{last_digit} is not divisible by 3\")"
   ]
  },
  {
   "cell_type": "code",
   "execution_count": null,
   "id": "76ff426f",
   "metadata": {},
   "outputs": [],
   "source": []
  },
  {
   "cell_type": "code",
   "execution_count": null,
   "id": "526fb24e",
   "metadata": {},
   "outputs": [],
   "source": []
  }
 ],
 "metadata": {
  "kernelspec": {
   "display_name": "Python 3 (ipykernel)",
   "language": "python",
   "name": "python3"
  },
  "language_info": {
   "codemirror_mode": {
    "name": "ipython",
    "version": 3
   },
   "file_extension": ".py",
   "mimetype": "text/x-python",
   "name": "python",
   "nbconvert_exporter": "python",
   "pygments_lexer": "ipython3",
   "version": "3.10.11"
  }
 },
 "nbformat": 4,
 "nbformat_minor": 5
}
