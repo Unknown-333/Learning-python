{
 "cells": [
  {
   "cell_type": "markdown",
   "id": "4e73c57e",
   "metadata": {},
   "source": [
    " # List\n",
    " * collection of items under one variable name\n",
    " * ordered and indexed\n",
    " * allows dupliacte values\n",
    " * mutable data type\n",
    " * One of 4 - built in data type in python"
   ]
  },
  {
   "cell_type": "markdown",
   "id": "0231a30f",
   "metadata": {},
   "source": [
    " # Creating empty list [two ways]\n",
    " "
   ]
  },
  {
   "cell_type": "code",
   "execution_count": 1,
   "id": "9cd1d0c8",
   "metadata": {},
   "outputs": [],
   "source": [
    "list1 = []"
   ]
  },
  {
   "cell_type": "code",
   "execution_count": 2,
   "id": "28a0e3ae",
   "metadata": {},
   "outputs": [
    {
     "data": {
      "text/plain": [
       "list"
      ]
     },
     "execution_count": 2,
     "metadata": {},
     "output_type": "execute_result"
    }
   ],
   "source": [
    "type(list1)"
   ]
  },
  {
   "cell_type": "code",
   "execution_count": 4,
   "id": "9b28476a",
   "metadata": {},
   "outputs": [
    {
     "data": {
      "text/plain": [
       "list"
      ]
     },
     "execution_count": 4,
     "metadata": {},
     "output_type": "execute_result"
    }
   ],
   "source": [
    "list2 = list() # using list constructor \n",
    "type(list2)"
   ]
  },
  {
   "cell_type": "markdown",
   "id": "e99214db",
   "metadata": {},
   "source": [
    "# creating your own list"
   ]
  },
  {
   "cell_type": "code",
   "execution_count": 5,
   "id": "406be5b0",
   "metadata": {},
   "outputs": [],
   "source": [
    "gift = ['Watch', 'Shoes' , 'Bag', 'Ferrari', 'Jet', 'Books', 'Bike', 'Bike' , 'Macbook', 'Camera', 'Airpods']"
   ]
  },
  {
   "cell_type": "code",
   "execution_count": 6,
   "id": "4cf3d78c",
   "metadata": {},
   "outputs": [
    {
     "data": {
      "text/plain": [
       "['Watch',\n",
       " 'Shoes',\n",
       " 'Bag',\n",
       " 'Ferrari',\n",
       " 'Jet',\n",
       " 'Books',\n",
       " 'Bike',\n",
       " 'Bike',\n",
       " 'Macbook',\n",
       " 'Camera',\n",
       " 'Airpods']"
      ]
     },
     "execution_count": 6,
     "metadata": {},
     "output_type": "execute_result"
    }
   ],
   "source": [
    "gift\n"
   ]
  },
  {
   "cell_type": "code",
   "execution_count": 7,
   "id": "f48a9da7",
   "metadata": {},
   "outputs": [
    {
     "data": {
      "text/plain": [
       "'Watch'"
      ]
     },
     "execution_count": 7,
     "metadata": {},
     "output_type": "execute_result"
    }
   ],
   "source": [
    "gift[0]"
   ]
  },
  {
   "cell_type": "code",
   "execution_count": 8,
   "id": "a50294ef",
   "metadata": {},
   "outputs": [
    {
     "data": {
      "text/plain": [
       "'Shoes'"
      ]
     },
     "execution_count": 8,
     "metadata": {},
     "output_type": "execute_result"
    }
   ],
   "source": [
    "gift[1]"
   ]
  },
  {
   "cell_type": "code",
   "execution_count": 9,
   "id": "17c96d4f",
   "metadata": {},
   "outputs": [
    {
     "data": {
      "text/plain": [
       "['Books', 'Bike', 'Bike']"
      ]
     },
     "execution_count": 9,
     "metadata": {},
     "output_type": "execute_result"
    }
   ],
   "source": [
    "gift[5:8]"
   ]
  },
  {
   "cell_type": "code",
   "execution_count": 10,
   "id": "bfb10ecf",
   "metadata": {},
   "outputs": [
    {
     "data": {
      "text/plain": [
       "['Macbook', 'Camera']"
      ]
     },
     "execution_count": 10,
     "metadata": {},
     "output_type": "execute_result"
    }
   ],
   "source": [
    "gift[8:10]"
   ]
  },
  {
   "cell_type": "code",
   "execution_count": 11,
   "id": "98f19e0e",
   "metadata": {},
   "outputs": [
    {
     "data": {
      "text/plain": [
       "[]"
      ]
     },
     "execution_count": 11,
     "metadata": {},
     "output_type": "execute_result"
    }
   ],
   "source": [
    "gift[10:8]"
   ]
  },
  {
   "cell_type": "code",
   "execution_count": 13,
   "id": "4146c3a2",
   "metadata": {},
   "outputs": [
    {
     "data": {
      "text/plain": [
       "'Airpods'"
      ]
     },
     "execution_count": 13,
     "metadata": {},
     "output_type": "execute_result"
    }
   ],
   "source": [
    "gift[10]"
   ]
  },
  {
   "cell_type": "code",
   "execution_count": 14,
   "id": "9f7d1395",
   "metadata": {},
   "outputs": [
    {
     "data": {
      "text/plain": [
       "['Jet', 'Books']"
      ]
     },
     "execution_count": 14,
     "metadata": {},
     "output_type": "execute_result"
    }
   ],
   "source": [
    "gift[4:6]"
   ]
  },
  {
   "cell_type": "code",
   "execution_count": 15,
   "id": "4ca4e549",
   "metadata": {},
   "outputs": [
    {
     "data": {
      "text/plain": [
       "['Camera', 'Airpods']"
      ]
     },
     "execution_count": 15,
     "metadata": {},
     "output_type": "execute_result"
    }
   ],
   "source": [
    "gift[9:11]"
   ]
  },
  {
   "cell_type": "markdown",
   "id": "35129e21",
   "metadata": {},
   "source": [
    " # Negative Indexing"
   ]
  },
  {
   "cell_type": "code",
   "execution_count": 16,
   "id": "9b83b09f",
   "metadata": {},
   "outputs": [
    {
     "data": {
      "text/plain": [
       "'Airpods'"
      ]
     },
     "execution_count": 16,
     "metadata": {},
     "output_type": "execute_result"
    }
   ],
   "source": [
    "gift[-1]"
   ]
  },
  {
   "cell_type": "code",
   "execution_count": 17,
   "id": "86278519",
   "metadata": {},
   "outputs": [
    {
     "data": {
      "text/plain": [
       "'Camera'"
      ]
     },
     "execution_count": 17,
     "metadata": {},
     "output_type": "execute_result"
    }
   ],
   "source": [
    "gift[-2]"
   ]
  },
  {
   "cell_type": "code",
   "execution_count": 21,
   "id": "d42f1348",
   "metadata": {},
   "outputs": [
    {
     "data": {
      "text/plain": [
       "'Bike'"
      ]
     },
     "execution_count": 21,
     "metadata": {},
     "output_type": "execute_result"
    }
   ],
   "source": [
    "gift[-5]"
   ]
  },
  {
   "cell_type": "code",
   "execution_count": 22,
   "id": "6fd0bda6",
   "metadata": {},
   "outputs": [
    {
     "data": {
      "text/plain": [
       "['Bike', 'Macbook']"
      ]
     },
     "execution_count": 22,
     "metadata": {},
     "output_type": "execute_result"
    }
   ],
   "source": [
    "gift[6:10:2]"
   ]
  },
  {
   "cell_type": "code",
   "execution_count": 23,
   "id": "a636dff5",
   "metadata": {},
   "outputs": [
    {
     "data": {
      "text/plain": [
       "['Camera', 'Airpods']"
      ]
     },
     "execution_count": 23,
     "metadata": {},
     "output_type": "execute_result"
    }
   ],
   "source": [
    "gift[-2:]"
   ]
  },
  {
   "cell_type": "code",
   "execution_count": 25,
   "id": "68861866",
   "metadata": {},
   "outputs": [
    {
     "data": {
      "text/plain": [
       "['Bike', 'Camera']"
      ]
     },
     "execution_count": 25,
     "metadata": {},
     "output_type": "execute_result"
    }
   ],
   "source": [
    "gift[6:10:3]"
   ]
  },
  {
   "cell_type": "code",
   "execution_count": 27,
   "id": "95ec121a",
   "metadata": {},
   "outputs": [
    {
     "data": {
      "text/plain": [
       "['Airpods']"
      ]
     },
     "execution_count": 27,
     "metadata": {},
     "output_type": "execute_result"
    }
   ],
   "source": [
    "gift[-1:-2:-1] # start : end : step"
   ]
  },
  {
   "cell_type": "code",
   "execution_count": 28,
   "id": "d5dcff22",
   "metadata": {},
   "outputs": [
    {
     "data": {
      "text/plain": [
       "['Bag',\n",
       " 'Ferrari',\n",
       " 'Jet',\n",
       " 'Books',\n",
       " 'Bike',\n",
       " 'Bike',\n",
       " 'Macbook',\n",
       " 'Camera',\n",
       " 'Airpods']"
      ]
     },
     "execution_count": 28,
     "metadata": {},
     "output_type": "execute_result"
    }
   ],
   "source": [
    "gift[2:] #end default len(gift)"
   ]
  },
  {
   "cell_type": "code",
   "execution_count": 29,
   "id": "e5db239a",
   "metadata": {},
   "outputs": [
    {
     "data": {
      "text/plain": [
       "['Watch', 'Shoes']"
      ]
     },
     "execution_count": 29,
     "metadata": {},
     "output_type": "execute_result"
    }
   ],
   "source": [
    "gift[:2] # start default 0"
   ]
  },
  {
   "cell_type": "code",
   "execution_count": 30,
   "id": "bde33601",
   "metadata": {},
   "outputs": [],
   "source": [
    "# Find mean of given list using for loop\n",
    "nums=[9,2,45,0,11]"
   ]
  },
  {
   "cell_type": "code",
   "execution_count": 37,
   "id": "106ea2f6",
   "metadata": {},
   "outputs": [
    {
     "name": "stdout",
     "output_type": "stream",
     "text": [
      "Mean : 13.4\n"
     ]
    }
   ],
   "source": [
    "sums = 0\n",
    "count = len(nums)\n",
    "for i in range(count):\n",
    "    sums += nums[i]\n",
    "mean = sums / count\n",
    "print(\"Mean :\",mean)\n",
    "    "
   ]
  },
  {
   "cell_type": "code",
   "execution_count": 44,
   "id": "924e3100",
   "metadata": {},
   "outputs": [
    {
     "name": "stdout",
     "output_type": "stream",
     "text": [
      "13.4\n"
     ]
    }
   ],
   "source": [
    "sum1 = 0\n",
    "for j in nums:\n",
    "     sum1 += j\n",
    "mean = sum1 / len(nums)\n",
    "print(mean)"
   ]
  },
  {
   "cell_type": "code",
   "execution_count": null,
   "id": "5f353be8",
   "metadata": {},
   "outputs": [],
   "source": []
  }
 ],
 "metadata": {
  "kernelspec": {
   "display_name": "Python 3 (ipykernel)",
   "language": "python",
   "name": "python3"
  },
  "language_info": {
   "codemirror_mode": {
    "name": "ipython",
    "version": 3
   },
   "file_extension": ".py",
   "mimetype": "text/x-python",
   "name": "python",
   "nbconvert_exporter": "python",
   "pygments_lexer": "ipython3",
   "version": "3.10.11"
  }
 },
 "nbformat": 4,
 "nbformat_minor": 5
}
