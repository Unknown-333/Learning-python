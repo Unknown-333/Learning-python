{
 "cells": [
  {
   "cell_type": "code",
   "execution_count": 1,
   "id": "f85afa2b",
   "metadata": {},
   "outputs": [
    {
     "data": {
      "text/plain": [
       "10"
      ]
     },
     "execution_count": 1,
     "metadata": {},
     "output_type": "execute_result"
    }
   ],
   "source": [
    "5 + 5"
   ]
  },
  {
   "cell_type": "code",
   "execution_count": 2,
   "id": "0ad005fe",
   "metadata": {},
   "outputs": [
    {
     "data": {
      "text/plain": [
       "11"
      ]
     },
     "execution_count": 2,
     "metadata": {},
     "output_type": "execute_result"
    }
   ],
   "source": [
    "5+6"
   ]
  },
  {
   "cell_type": "code",
   "execution_count": 3,
   "id": "724375e8",
   "metadata": {},
   "outputs": [
    {
     "name": "stdout",
     "output_type": "stream",
     "text": [
      "The sum is  11 and multiplication is  30\n"
     ]
    }
   ],
   "source": [
    "x= 5\n",
    "y=6\n",
    "total= x+y\n",
    "mul=x*y\n",
    "print(\"The sum is \", total,\"and multiplication is \",mul)"
   ]
  },
  {
   "cell_type": "code",
   "execution_count": null,
   "id": "7d5b1f71",
   "metadata": {},
   "outputs": [],
   "source": [
    "print(\"hello world\") #this is a print statement"
   ]
  },
  {
   "cell_type": "code",
   "execution_count": 5,
   "id": "4a608f78",
   "metadata": {},
   "outputs": [],
   "source": [
    "#this is a comment and it is not executed\n"
   ]
  },
  {
   "cell_type": "markdown",
   "id": "37e61480",
   "metadata": {},
   "source": [
    "# Arithmetic operator\n"
   ]
  },
  {
   "cell_type": "markdown",
   "id": "8089e689",
   "metadata": {},
   "source": [
    "\n",
    "# arithmetic operator\n",
    "\n",
    "Arithmetic operators are used with numeric values to perform common mathematical operations.\n",
    "\n",
    "* Addition(+)\n",
    "* Substraction (-)\n",
    "* Multiplication (*)\n",
    "* Division (/)\n",
    "* Modulus(%)\n",
    "* Exponentioatoin (**)\n",
    "* Floor division(//)\n",
    "\n",
    "\n"
   ]
  },
  {
   "cell_type": "code",
   "execution_count": null,
   "id": "7279a869",
   "metadata": {},
   "outputs": [],
   "source": []
  }
 ],
 "metadata": {
  "kernelspec": {
   "display_name": "Python 3 (ipykernel)",
   "language": "python",
   "name": "python3"
  },
  "language_info": {
   "codemirror_mode": {
    "name": "ipython",
    "version": 3
   },
   "file_extension": ".py",
   "mimetype": "text/x-python",
   "name": "python",
   "nbconvert_exporter": "python",
   "pygments_lexer": "ipython3",
   "version": "3.10.11"
  }
 },
 "nbformat": 4,
 "nbformat_minor": 5
}
