{
 "cells": [
  {
   "cell_type": "markdown",
   "id": "c411f25a",
   "metadata": {},
   "source": [
    "# set\n",
    "* collection of item under one variable name\n",
    "* one of four built in data types in python\n",
    "* written inside {} seperated by comma\n",
    "* dosent allow duplicate value even if you include duplicate values, they will be reduced to a single occurrence.\n",
    "* exactly like maths set\n",
    "* allows multiple data type\n",
    "* unordered\n",
    "* unindexed"
   ]
  },
  {
   "cell_type": "code",
   "execution_count": 1,
   "id": "a6a3658a",
   "metadata": {},
   "outputs": [],
   "source": [
    "thakali_set = {'Bhat', 'Masu', 'Achar', 'Tarkari', 'Sag', 'Kakro', 'Gheu', 'Dal', 'Papad'}"
   ]
  },
  {
   "cell_type": "code",
   "execution_count": 2,
   "id": "d7a65a81",
   "metadata": {},
   "outputs": [
    {
     "data": {
      "text/plain": [
       "{'Achar', 'Bhat', 'Dal', 'Gheu', 'Kakro', 'Masu', 'Papad', 'Sag', 'Tarkari'}"
      ]
     },
     "execution_count": 2,
     "metadata": {},
     "output_type": "execute_result"
    }
   ],
   "source": [
    "thakali_set"
   ]
  },
  {
   "cell_type": "code",
   "execution_count": 3,
   "id": "2ad3c9b9",
   "metadata": {},
   "outputs": [
    {
     "ename": "TypeError",
     "evalue": "'set' object is not subscriptable",
     "output_type": "error",
     "traceback": [
      "\u001b[0;31m---------------------------------------------------------------------------\u001b[0m",
      "\u001b[0;31mTypeError\u001b[0m                                 Traceback (most recent call last)",
      "Cell \u001b[0;32mIn[3], line 1\u001b[0m\n\u001b[0;32m----> 1\u001b[0m \u001b[43mthakali_set\u001b[49m\u001b[43m[\u001b[49m\u001b[38;5;241;43m0\u001b[39;49m\u001b[43m]\u001b[49m\n",
      "\u001b[0;31mTypeError\u001b[0m: 'set' object is not subscriptable"
     ]
    }
   ],
   "source": [
    "thakali_set[0]"
   ]
  },
  {
   "cell_type": "markdown",
   "id": "7d8ffdec",
   "metadata": {},
   "source": [
    "# Set is a mutable datatype, allows us to add and remove items"
   ]
  },
  {
   "cell_type": "code",
   "execution_count": 4,
   "id": "f8d56679",
   "metadata": {},
   "outputs": [],
   "source": [
    "thakali_set = {'Bhat', 'Masu', 'Achar', 'Tarkari', 'Sag', 'Kakro', 'Gheu', 'Dal', 'Papad'}\n",
    "thakali_set.add('Dahi')"
   ]
  },
  {
   "cell_type": "code",
   "execution_count": 5,
   "id": "758cac63",
   "metadata": {},
   "outputs": [
    {
     "data": {
      "text/plain": [
       "{'Achar',\n",
       " 'Bhat',\n",
       " 'Dahi',\n",
       " 'Dal',\n",
       " 'Gheu',\n",
       " 'Kakro',\n",
       " 'Masu',\n",
       " 'Papad',\n",
       " 'Sag',\n",
       " 'Tarkari'}"
      ]
     },
     "execution_count": 5,
     "metadata": {},
     "output_type": "execute_result"
    }
   ],
   "source": [
    "thakali_set"
   ]
  },
  {
   "cell_type": "code",
   "execution_count": 6,
   "id": "6cd49314",
   "metadata": {},
   "outputs": [],
   "source": [
    "thakali_set.remove(\"Masu\")"
   ]
  },
  {
   "cell_type": "code",
   "execution_count": 7,
   "id": "90b6552b",
   "metadata": {},
   "outputs": [
    {
     "data": {
      "text/plain": [
       "{'Achar', 'Bhat', 'Dahi', 'Dal', 'Gheu', 'Kakro', 'Papad', 'Sag', 'Tarkari'}"
      ]
     },
     "execution_count": 7,
     "metadata": {},
     "output_type": "execute_result"
    }
   ],
   "source": [
    "thakali_set"
   ]
  },
  {
   "cell_type": "code",
   "execution_count": 8,
   "id": "cd4f8ee2",
   "metadata": {},
   "outputs": [
    {
     "ename": "KeyError",
     "evalue": "'Paneer'",
     "output_type": "error",
     "traceback": [
      "\u001b[0;31m---------------------------------------------------------------------------\u001b[0m",
      "\u001b[0;31mKeyError\u001b[0m                                  Traceback (most recent call last)",
      "Cell \u001b[0;32mIn[8], line 1\u001b[0m\n\u001b[0;32m----> 1\u001b[0m \u001b[43mthakali_set\u001b[49m\u001b[38;5;241;43m.\u001b[39;49m\u001b[43mremove\u001b[49m\u001b[43m(\u001b[49m\u001b[38;5;124;43m\"\u001b[39;49m\u001b[38;5;124;43mPaneer\u001b[39;49m\u001b[38;5;124;43m\"\u001b[39;49m\u001b[43m)\u001b[49m\n",
      "\u001b[0;31mKeyError\u001b[0m: 'Paneer'"
     ]
    }
   ],
   "source": [
    "thakali_set.remove(\"Paneer\")"
   ]
  },
  {
   "cell_type": "code",
   "execution_count": 9,
   "id": "c9986800",
   "metadata": {},
   "outputs": [],
   "source": [
    "thakali_set.discard(\"Paneer\")"
   ]
  },
  {
   "cell_type": "markdown",
   "id": "5bf8bf54",
   "metadata": {},
   "source": [
    "# Set operation union(),intersection(),difference()\n"
   ]
  },
  {
   "cell_type": "code",
   "execution_count": 11,
   "id": "33da7f3a",
   "metadata": {},
   "outputs": [],
   "source": [
    "fruits = {'apple', 'banana', 'orange'}\n",
    "# Adding elements to a set\n",
    "fruits.add('mango')\n",
    "\n",
    "# Removing elements from a set\n",
    "fruits.remove('apple')\n",
    "\n",
    "# Set union\n",
    "all_fruits = fruits.union({'kiwi', 'pear'})\n",
    "\n",
    "# Set intersection\n",
    "common_fruits = fruits.intersection({'banana', 'orange'})\n",
    "\n",
    "# Set difference\n",
    "unique_fruits = fruits.difference({'banana', 'orange'})"
   ]
  },
  {
   "cell_type": "code",
   "execution_count": 12,
   "id": "866a6f6b",
   "metadata": {},
   "outputs": [
    {
     "name": "stdout",
     "output_type": "stream",
     "text": [
      "Tarkari\n",
      "Masu\n",
      "Bhat\n",
      "Sag\n",
      "Kakro\n",
      "Papad\n",
      "Gheu\n",
      "Achar\n",
      "Dal\n"
     ]
    }
   ],
   "source": [
    "thakali_set = {'Bhat', 'Masu', 'Achar', 'Tarkari', 'Sag', 'Kakro', 'Gheu', 'Dal', 'Papad'}\n",
    "for i in thakali_set:\n",
    "    print(i)"
   ]
  },
  {
   "cell_type": "markdown",
   "id": "487374ab",
   "metadata": {},
   "source": [
    "# Frozenset\n",
    "* immutable version of python is frozen set"
   ]
  },
  {
   "cell_type": "code",
   "execution_count": 13,
   "id": "25fafc67",
   "metadata": {},
   "outputs": [],
   "source": [
    "thakali_set = {'Bhat', 'Masu', 'Achar', 'Tarkari', 'Sag', 'Kakro', 'Gheu', 'Dal', 'Papad'}\n",
    "thakali_set = frozenset(thakali_set)"
   ]
  },
  {
   "cell_type": "code",
   "execution_count": 14,
   "id": "b8fb69c2",
   "metadata": {},
   "outputs": [
    {
     "ename": "NameError",
     "evalue": "name 'thkali_set' is not defined",
     "output_type": "error",
     "traceback": [
      "\u001b[0;31m---------------------------------------------------------------------------\u001b[0m",
      "\u001b[0;31mNameError\u001b[0m                                 Traceback (most recent call last)",
      "Cell \u001b[0;32mIn[14], line 1\u001b[0m\n\u001b[0;32m----> 1\u001b[0m \u001b[43mthkali_set\u001b[49m\u001b[38;5;241m.\u001b[39madd(\u001b[38;5;124m'\u001b[39m\u001b[38;5;124mDahi\u001b[39m\u001b[38;5;124m'\u001b[39m)\n",
      "\u001b[0;31mNameError\u001b[0m: name 'thkali_set' is not defined"
     ]
    }
   ],
   "source": [
    "thkali_set.add('Dahi')"
   ]
  },
  {
   "cell_type": "code",
   "execution_count": null,
   "id": "391f25c3",
   "metadata": {},
   "outputs": [],
   "source": []
  }
 ],
 "metadata": {
  "kernelspec": {
   "display_name": "Python 3 (ipykernel)",
   "language": "python",
   "name": "python3"
  },
  "language_info": {
   "codemirror_mode": {
    "name": "ipython",
    "version": 3
   },
   "file_extension": ".py",
   "mimetype": "text/x-python",
   "name": "python",
   "nbconvert_exporter": "python",
   "pygments_lexer": "ipython3",
   "version": "3.10.11"
  }
 },
 "nbformat": 4,
 "nbformat_minor": 5
}
