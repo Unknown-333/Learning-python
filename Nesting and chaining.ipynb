{
 "cells": [
  {
   "cell_type": "markdown",
   "id": "1e936267",
   "metadata": {},
   "source": [
    "# What if I want to check multiple Expression? -Nesting and chaining of conditionals"
   ]
  },
  {
   "cell_type": "code",
   "execution_count": 3,
   "id": "40717ff5",
   "metadata": {},
   "outputs": [
    {
     "name": "stdout",
     "output_type": "stream",
     "text": [
      "Enter a number of your choice :0\n",
      "Neutral\n"
     ]
    }
   ],
   "source": [
    "# nesting of conditional\n",
    "n=int(input(\"Enter a number of your choice :\"))\n",
    "if n < 0:\n",
    "    print(\"Negative\")\n",
    "else:\n",
    "    if n==0:\n",
    "        print(\"Neutral\")\n",
    "    else:\n",
    "        print(\"Positive\")"
   ]
  },
  {
   "cell_type": "code",
   "execution_count": 4,
   "id": "43d51c7b",
   "metadata": {},
   "outputs": [
    {
     "name": "stdout",
     "output_type": "stream",
     "text": [
      "Enter any number of your choice :3\n",
      "3 is positive\n"
     ]
    }
   ],
   "source": [
    "#chaining\n",
    "num = int(input(\"Enter any number of your choice :\"))\n",
    "\n",
    "if num > 0:\n",
    "    print(f\"{num} is positive\")\n",
    "elif num < 0:\n",
    "    print(f\"{num} is negative\")\n",
    "else:\n",
    "    print(f\"{num} is zero\")"
   ]
  },
  {
   "cell_type": "code",
   "execution_count": null,
   "id": "2c87e61f",
   "metadata": {},
   "outputs": [],
   "source": []
  }
 ],
 "metadata": {
  "kernelspec": {
   "display_name": "Python 3 (ipykernel)",
   "language": "python",
   "name": "python3"
  },
  "language_info": {
   "codemirror_mode": {
    "name": "ipython",
    "version": 3
   },
   "file_extension": ".py",
   "mimetype": "text/x-python",
   "name": "python",
   "nbconvert_exporter": "python",
   "pygments_lexer": "ipython3",
   "version": "3.10.11"
  }
 },
 "nbformat": 4,
 "nbformat_minor": 5
}
