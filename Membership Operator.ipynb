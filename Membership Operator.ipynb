{
 "cells": [
  {
   "cell_type": "code",
   "execution_count": 1,
   "id": "b6cacf60",
   "metadata": {},
   "outputs": [],
   "source": [
    "cities = ['Kathmandu', 'Bhaktapur', 'Lalitpur', 'Dharan', 'Pokhara', 'Bharatpur']"
   ]
  },
  {
   "cell_type": "code",
   "execution_count": 2,
   "id": "f8c3cb5c",
   "metadata": {},
   "outputs": [
    {
     "data": {
      "text/plain": [
       "True"
      ]
     },
     "execution_count": 2,
     "metadata": {},
     "output_type": "execute_result"
    }
   ],
   "source": [
    "'Dharan' in cities"
   ]
  },
  {
   "cell_type": "code",
   "execution_count": 4,
   "id": "d750482e",
   "metadata": {},
   "outputs": [
    {
     "data": {
      "text/plain": [
       "True"
      ]
     },
     "execution_count": 4,
     "metadata": {},
     "output_type": "execute_result"
    }
   ],
   "source": [
    "\"Kavre\" not in cities"
   ]
  },
  {
   "cell_type": "code",
   "execution_count": 5,
   "id": "04b1aab7",
   "metadata": {},
   "outputs": [],
   "source": [
    "# in and not in are membership operator in python"
   ]
  },
  {
   "cell_type": "code",
   "execution_count": 6,
   "id": "d0384f79",
   "metadata": {},
   "outputs": [],
   "source": [
    "city = 'kathmandu'"
   ]
  },
  {
   "cell_type": "code",
   "execution_count": 8,
   "id": "7eebef32",
   "metadata": {},
   "outputs": [
    {
     "data": {
      "text/plain": [
       "True"
      ]
     },
     "execution_count": 8,
     "metadata": {},
     "output_type": "execute_result"
    }
   ],
   "source": [
    "\"mandu\" in city # substring checck gareko"
   ]
  },
  {
   "cell_type": "code",
   "execution_count": 10,
   "id": "098cbbbb",
   "metadata": {},
   "outputs": [
    {
     "data": {
      "text/plain": [
       "False"
      ]
     },
     "execution_count": 10,
     "metadata": {},
     "output_type": "execute_result"
    }
   ],
   "source": [
    "\"ran\" in city\n"
   ]
  },
  {
   "cell_type": "code",
   "execution_count": 11,
   "id": "c76f7d3d",
   "metadata": {},
   "outputs": [
    {
     "data": {
      "text/plain": [
       "False"
      ]
     },
     "execution_count": 11,
     "metadata": {},
     "output_type": "execute_result"
    }
   ],
   "source": [
    "'thdu' in city"
   ]
  },
  {
   "cell_type": "code",
   "execution_count": 12,
   "id": "12c3ecb0",
   "metadata": {},
   "outputs": [
    {
     "data": {
      "text/plain": [
       "True"
      ]
     },
     "execution_count": 12,
     "metadata": {},
     "output_type": "execute_result"
    }
   ],
   "source": [
    "'thdu' not in city"
   ]
  },
  {
   "cell_type": "code",
   "execution_count": null,
   "id": "0ef80947",
   "metadata": {},
   "outputs": [],
   "source": []
  }
 ],
 "metadata": {
  "kernelspec": {
   "display_name": "Python 3 (ipykernel)",
   "language": "python",
   "name": "python3"
  },
  "language_info": {
   "codemirror_mode": {
    "name": "ipython",
    "version": 3
   },
   "file_extension": ".py",
   "mimetype": "text/x-python",
   "name": "python",
   "nbconvert_exporter": "python",
   "pygments_lexer": "ipython3",
   "version": "3.10.11"
  }
 },
 "nbformat": 4,
 "nbformat_minor": 5
}
