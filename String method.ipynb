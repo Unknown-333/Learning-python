{
 "cells": [
  {
   "cell_type": "code",
   "execution_count": 2,
   "id": "0bb171ee",
   "metadata": {},
   "outputs": [],
   "source": [
    "name = \"k$hitiz\""
   ]
  },
  {
   "cell_type": "code",
   "execution_count": 3,
   "id": "adba75cb",
   "metadata": {},
   "outputs": [
    {
     "data": {
      "text/plain": [
       "'$'"
      ]
     },
     "execution_count": 3,
     "metadata": {},
     "output_type": "execute_result"
    }
   ],
   "source": [
    "name[1]"
   ]
  },
  {
   "cell_type": "code",
   "execution_count": 5,
   "id": "db875e04",
   "metadata": {},
   "outputs": [
    {
     "ename": "TypeError",
     "evalue": "'str' object does not support item assignment",
     "output_type": "error",
     "traceback": [
      "\u001b[0;31m---------------------------------------------------------------------------\u001b[0m",
      "\u001b[0;31mTypeError\u001b[0m                                 Traceback (most recent call last)",
      "Cell \u001b[0;32mIn[5], line 1\u001b[0m\n\u001b[0;32m----> 1\u001b[0m \u001b[43mname\u001b[49m\u001b[43m[\u001b[49m\u001b[38;5;241;43m1\u001b[39;49m\u001b[43m]\u001b[49m \u001b[38;5;241m=\u001b[39m \u001b[38;5;124m\"\u001b[39m\u001b[38;5;124ms\u001b[39m\u001b[38;5;124m\"\u001b[39m  \u001b[38;5;66;03m# string is imutable\u001b[39;00m\n",
      "\u001b[0;31mTypeError\u001b[0m: 'str' object does not support item assignment"
     ]
    }
   ],
   "source": [
    "name[1] = \"s\"  # string is imutable"
   ]
  },
  {
   "cell_type": "code",
   "execution_count": 6,
   "id": "b4f91f6d",
   "metadata": {},
   "outputs": [],
   "source": [
    "# imutable ma same memory location ma gayera variable ko value update garna mildaina\n"
   ]
  },
  {
   "cell_type": "code",
   "execution_count": 7,
   "id": "835b78bc",
   "metadata": {},
   "outputs": [
    {
     "data": {
      "text/plain": [
       "4443679728"
      ]
     },
     "execution_count": 7,
     "metadata": {},
     "output_type": "execute_result"
    }
   ],
   "source": [
    "# memory location id() method le dinxa\n",
    "id(name)"
   ]
  },
  {
   "cell_type": "markdown",
   "id": "20486822",
   "metadata": {},
   "source": [
    "# String has .replace() method that replaces character or substring"
   ]
  },
  {
   "cell_type": "code",
   "execution_count": 10,
   "id": "7143c2e0",
   "metadata": {},
   "outputs": [
    {
     "data": {
      "text/plain": [
       "'kshitiz'"
      ]
     },
     "execution_count": 10,
     "metadata": {},
     "output_type": "execute_result"
    }
   ],
   "source": [
    "name.replace(\"$\",\"s\") # naya memory location ma banirako ho"
   ]
  },
  {
   "cell_type": "code",
   "execution_count": 9,
   "id": "6b0a2d4e",
   "metadata": {},
   "outputs": [
    {
     "data": {
      "text/plain": [
       "'k$hitiz'"
      ]
     },
     "execution_count": 9,
     "metadata": {},
     "output_type": "execute_result"
    }
   ],
   "source": [
    "name"
   ]
  },
  {
   "cell_type": "code",
   "execution_count": 14,
   "id": "843fa93a",
   "metadata": {},
   "outputs": [
    {
     "data": {
      "text/plain": [
       "4466532208"
      ]
     },
     "execution_count": 14,
     "metadata": {},
     "output_type": "execute_result"
    }
   ],
   "source": [
    "name = name.replace(\"$\",\"s\")\n",
    "id(name)\n"
   ]
  },
  {
   "cell_type": "code",
   "execution_count": 15,
   "id": "504c716b",
   "metadata": {},
   "outputs": [
    {
     "data": {
      "text/plain": [
       "'Fantastic new year'"
      ]
     },
     "execution_count": 15,
     "metadata": {},
     "output_type": "execute_result"
    }
   ],
   "source": [
    "\"Happy new year\".replace(\"Happy\",\"Fantastic\")"
   ]
  },
  {
   "cell_type": "markdown",
   "id": "5d487c90",
   "metadata": {},
   "source": [
    "# .lower() and .upper()"
   ]
  },
  {
   "cell_type": "code",
   "execution_count": 16,
   "id": "5687bec1",
   "metadata": {},
   "outputs": [],
   "source": [
    "msg = \"Hi\""
   ]
  },
  {
   "cell_type": "code",
   "execution_count": 17,
   "id": "20d75f42",
   "metadata": {},
   "outputs": [
    {
     "data": {
      "text/plain": [
       "'HI'"
      ]
     },
     "execution_count": 17,
     "metadata": {},
     "output_type": "execute_result"
    }
   ],
   "source": [
    "msg.upper()"
   ]
  },
  {
   "cell_type": "code",
   "execution_count": 19,
   "id": "f6a3ba57",
   "metadata": {},
   "outputs": [
    {
     "data": {
      "text/plain": [
       "'hi'"
      ]
     },
     "execution_count": 19,
     "metadata": {},
     "output_type": "execute_result"
    }
   ],
   "source": [
    "msg.lower()"
   ]
  },
  {
   "cell_type": "code",
   "execution_count": 20,
   "id": "bb4b4e3d",
   "metadata": {},
   "outputs": [
    {
     "data": {
      "text/plain": [
       "'Hi'"
      ]
     },
     "execution_count": 20,
     "metadata": {},
     "output_type": "execute_result"
    }
   ],
   "source": [
    "msg\n"
   ]
  },
  {
   "cell_type": "code",
   "execution_count": 21,
   "id": "d2b40b1b",
   "metadata": {},
   "outputs": [],
   "source": [
    "msg = \"Hehe ma timro hari bahadur\""
   ]
  },
  {
   "cell_type": "code",
   "execution_count": 22,
   "id": "af6aa941",
   "metadata": {},
   "outputs": [
    {
     "data": {
      "text/plain": [
       "'Hehe Ma Timro Hari Bahadur'"
      ]
     },
     "execution_count": 22,
     "metadata": {},
     "output_type": "execute_result"
    }
   ],
   "source": [
    "msg.title()"
   ]
  },
  {
   "cell_type": "markdown",
   "id": "cb32a6a1",
   "metadata": {},
   "source": [
    " # strip() , lstrip() , rstrip()"
   ]
  },
  {
   "cell_type": "code",
   "execution_count": 23,
   "id": "01eb3234",
   "metadata": {},
   "outputs": [],
   "source": [
    "msg = \"      Shankar ho mero naam Shankar  \""
   ]
  },
  {
   "cell_type": "code",
   "execution_count": 27,
   "id": "40eb6e27",
   "metadata": {},
   "outputs": [
    {
     "data": {
      "text/plain": [
       "'Shankar ho mero naam Shankar'"
      ]
     },
     "execution_count": 27,
     "metadata": {},
     "output_type": "execute_result"
    }
   ],
   "source": [
    "msg.strip() # bichha ko space chahi faldaina"
   ]
  },
  {
   "cell_type": "code",
   "execution_count": 25,
   "id": "5805cfed",
   "metadata": {},
   "outputs": [
    {
     "data": {
      "text/plain": [
       "'Shankar ho mero naam Shankar  '"
      ]
     },
     "execution_count": 25,
     "metadata": {},
     "output_type": "execute_result"
    }
   ],
   "source": [
    "msg.lstrip()"
   ]
  },
  {
   "cell_type": "code",
   "execution_count": 26,
   "id": "0e2e5482",
   "metadata": {},
   "outputs": [
    {
     "data": {
      "text/plain": [
       "'      Shankar ho mero naam Shankar'"
      ]
     },
     "execution_count": 26,
     "metadata": {},
     "output_type": "execute_result"
    }
   ],
   "source": [
    "msg.rstrip() "
   ]
  },
  {
   "cell_type": "markdown",
   "id": "a0606f5d",
   "metadata": {},
   "source": [
    " # .split()"
   ]
  },
  {
   "cell_type": "code",
   "execution_count": 28,
   "id": "22ac79ed",
   "metadata": {},
   "outputs": [],
   "source": [
    "note = \"Abishek ra Bishwo dherai halla garxan class ma\""
   ]
  },
  {
   "cell_type": "code",
   "execution_count": 35,
   "id": "d0d7b087",
   "metadata": {},
   "outputs": [
    {
     "data": {
      "text/plain": [
       "['Abishek', 'ra', 'Bishwo,', 'dherai', 'halla', 'garxan', 'class', 'ma']"
      ]
     },
     "execution_count": 35,
     "metadata": {},
     "output_type": "execute_result"
    }
   ],
   "source": [
    "words = note.split(\" \")\n",
    "words"
   ]
  },
  {
   "cell_type": "code",
   "execution_count": 32,
   "id": "a1603e8f",
   "metadata": {},
   "outputs": [
    {
     "data": {
      "text/plain": [
       "list"
      ]
     },
     "execution_count": 32,
     "metadata": {},
     "output_type": "execute_result"
    }
   ],
   "source": [
    "type(words)"
   ]
  },
  {
   "cell_type": "code",
   "execution_count": 33,
   "id": "af08d485",
   "metadata": {},
   "outputs": [
    {
     "data": {
      "text/plain": [
       "['Abishek ra Bishwo', ' dherai halla garxan class ma']"
      ]
     },
     "execution_count": 33,
     "metadata": {},
     "output_type": "execute_result"
    }
   ],
   "source": [
    "note = \"Abishek ra Bishwo, dherai halla garxan class ma\"\n",
    "note.split(\",\")"
   ]
  },
  {
   "cell_type": "code",
   "execution_count": 39,
   "id": "55f46f89",
   "metadata": {},
   "outputs": [
    {
     "data": {
      "text/plain": [
       "['Abishek', 'ra', 'Bishwo', 'dherai', 'halla', 'garxan', 'class', 'ma']"
      ]
     },
     "execution_count": 39,
     "metadata": {},
     "output_type": "execute_result"
    }
   ],
   "source": [
    "note = \"Abishek-ra-Bishwo-dherai-halla-garxan-class-ma\"\n",
    "w=note.split(\"-\")\n",
    "w\n"
   ]
  },
  {
   "cell_type": "code",
   "execution_count": 41,
   "id": "34864fa9",
   "metadata": {},
   "outputs": [
    {
     "data": {
      "text/plain": [
       "'Abishek,ra,Bishwo,dherai,halla,garxan,class,ma'"
      ]
     },
     "execution_count": 41,
     "metadata": {},
     "output_type": "execute_result"
    }
   ],
   "source": [
    "\",\".join(w)"
   ]
  },
  {
   "cell_type": "code",
   "execution_count": null,
   "id": "9affc61a",
   "metadata": {},
   "outputs": [],
   "source": []
  }
 ],
 "metadata": {
  "kernelspec": {
   "display_name": "Python 3 (ipykernel)",
   "language": "python",
   "name": "python3"
  },
  "language_info": {
   "codemirror_mode": {
    "name": "ipython",
    "version": 3
   },
   "file_extension": ".py",
   "mimetype": "text/x-python",
   "name": "python",
   "nbconvert_exporter": "python",
   "pygments_lexer": "ipython3",
   "version": "3.10.11"
  }
 },
 "nbformat": 4,
 "nbformat_minor": 5
}
