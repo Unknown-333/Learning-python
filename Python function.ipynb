{
 "cells": [
  {
   "cell_type": "code",
   "execution_count": 1,
   "id": "edf6aca9",
   "metadata": {},
   "outputs": [
    {
     "name": "stdout",
     "output_type": "stream",
     "text": [
      "14\n"
     ]
    }
   ],
   "source": [
    "a = 5\n",
    "b = 9\n",
    "c = a + b\n",
    "print(c)"
   ]
  },
  {
   "cell_type": "code",
   "execution_count": 3,
   "id": "d1ebc32a",
   "metadata": {},
   "outputs": [
    {
     "name": "stdout",
     "output_type": "stream",
     "text": [
      "14\n"
     ]
    }
   ],
   "source": [
    "def add_two_numbers():\n",
    "    a = 5 \n",
    "    b = 9\n",
    "    c = a + b\n",
    "    print(c)\n",
    "add_two_numbers()    "
   ]
  },
  {
   "cell_type": "code",
   "execution_count": 4,
   "id": "33ce21e2",
   "metadata": {},
   "outputs": [
    {
     "name": "stdout",
     "output_type": "stream",
     "text": [
      "14\n"
     ]
    }
   ],
   "source": [
    "add_two_numbers()    "
   ]
  },
  {
   "cell_type": "code",
   "execution_count": 7,
   "id": "aca757ab",
   "metadata": {},
   "outputs": [
    {
     "name": "stdout",
     "output_type": "stream",
     "text": [
      "Enter the first number : 5\n",
      "Enter the first number : 5\n",
      "10\n"
     ]
    }
   ],
   "source": [
    "def add_two_num(a,b): #arguments of a function\n",
    "    c = a + b\n",
    "    print(c)\n",
    "    \n",
    "a = int(input(\"Enter the first number : \")) \n",
    "b = int(input(\"Enter the first number : \")) \n",
    "add_two_num(a,b)\n",
    "    "
   ]
  },
  {
   "cell_type": "code",
   "execution_count": 8,
   "id": "951ba0fa",
   "metadata": {},
   "outputs": [],
   "source": [
    "def div(a, b):\n",
    "    c = a/b\n",
    "    return c"
   ]
  },
  {
   "cell_type": "code",
   "execution_count": 9,
   "id": "370f9ffc",
   "metadata": {},
   "outputs": [
    {
     "data": {
      "text/plain": [
       "11.0"
      ]
     },
     "execution_count": 9,
     "metadata": {},
     "output_type": "execute_result"
    }
   ],
   "source": [
    "x = 8\n",
    "y = 2\n",
    "output = div(a=x, b=y)\n",
    "output + 7"
   ]
  },
  {
   "cell_type": "code",
   "execution_count": 11,
   "id": "06fe04e8",
   "metadata": {},
   "outputs": [
    {
     "name": "stdout",
     "output_type": "stream",
     "text": [
      "Enter the first number : 5\n",
      "Enter the first number : 5\n"
     ]
    },
    {
     "data": {
      "text/plain": [
       "1.0"
      ]
     },
     "execution_count": 11,
     "metadata": {},
     "output_type": "execute_result"
    }
   ],
   "source": [
    "def div(a,b): #arguments of a function\n",
    "    c = a/b\n",
    "    return c\n",
    "    \n",
    "a = int(input(\"Enter the first number : \")) \n",
    "b = int(input(\"Enter the first number : \")) \n",
    "div(a,b)"
   ]
  },
  {
   "cell_type": "markdown",
   "id": "157b1df9",
   "metadata": {},
   "source": [
    "# Syntax\n",
    "```python\n",
    "def function_name(arguments):\n",
    "    # function body\n",
    "    return Expression\n",
    "```"
   ]
  },
  {
   "cell_type": "code",
   "execution_count": 12,
   "id": "c349ece1",
   "metadata": {},
   "outputs": [],
   "source": [
    "def greet(name, msg):\n",
    "    print(f\"Hi {name}, {msg}\")"
   ]
  },
  {
   "cell_type": "code",
   "execution_count": 13,
   "id": "42c060b5",
   "metadata": {},
   "outputs": [
    {
     "name": "stdout",
     "output_type": "stream",
     "text": [
      "Hi Kshitiz, Good Morning\n"
     ]
    }
   ],
   "source": [
    "greet(name = 'Kshitiz', msg = 'Good Morning')"
   ]
  },
  {
   "cell_type": "code",
   "execution_count": 14,
   "id": "e24a1112",
   "metadata": {},
   "outputs": [
    {
     "name": "stdout",
     "output_type": "stream",
     "text": [
      "Hi Champa, Good Morning\n"
     ]
    }
   ],
   "source": [
    "greet(name = 'Champa', msg = 'Good Morning')"
   ]
  },
  {
   "cell_type": "markdown",
   "id": "f84df5f8",
   "metadata": {},
   "source": [
    "# Default argument"
   ]
  },
  {
   "cell_type": "code",
   "execution_count": 15,
   "id": "59e7c727",
   "metadata": {},
   "outputs": [],
   "source": [
    "def greet(name, msg = 'Good Morning'): # msg is a default argument\n",
    "    print(f\"Hi {name}, {msg}\")"
   ]
  },
  {
   "cell_type": "code",
   "execution_count": 16,
   "id": "31871ecc",
   "metadata": {},
   "outputs": [
    {
     "name": "stdout",
     "output_type": "stream",
     "text": [
      "Hi Aayush, Good Morning\n"
     ]
    }
   ],
   "source": [
    "greet(name = \"Aayush\")"
   ]
  },
  {
   "cell_type": "code",
   "execution_count": 17,
   "id": "9433914b",
   "metadata": {},
   "outputs": [
    {
     "name": "stdout",
     "output_type": "stream",
     "text": [
      "Hi Champa, Good Morning\n"
     ]
    }
   ],
   "source": [
    "greet(name = \"Champa\")"
   ]
  },
  {
   "cell_type": "code",
   "execution_count": 18,
   "id": "b6579b22",
   "metadata": {},
   "outputs": [
    {
     "name": "stdout",
     "output_type": "stream",
     "text": [
      "Hi Neta Jeu, Good Afternoon\n"
     ]
    }
   ],
   "source": [
    "greet(name='Neta Jeu', msg='Good Afternoon')"
   ]
  },
  {
   "cell_type": "markdown",
   "id": "92aa69f7",
   "metadata": {},
   "source": [
    " #  Non-default argument doesnot follows default argument\n",
    "  \n",
    "  * msg is default argument\n",
    "  * name is non-default argument"
   ]
  },
  {
   "cell_type": "code",
   "execution_count": 19,
   "id": "a2b55015",
   "metadata": {},
   "outputs": [
    {
     "ename": "SyntaxError",
     "evalue": "unterminated string literal (detected at line 1) (1824057131.py, line 1)",
     "output_type": "error",
     "traceback": [
      "\u001b[0;36m  Cell \u001b[0;32mIn[19], line 1\u001b[0;36m\u001b[0m\n\u001b[0;31m    def greet(msg = 'Good Morning',name'): # msg is a default argument\u001b[0m\n\u001b[0m                                       ^\u001b[0m\n\u001b[0;31mSyntaxError\u001b[0m\u001b[0;31m:\u001b[0m unterminated string literal (detected at line 1)\n"
     ]
    }
   ],
   "source": [
    "def greet(msg = 'Good Morning',name'): # msg is a default argument\n",
    "    print(f\"Hi {name}, {msg}\")"
   ]
  },
  {
   "cell_type": "markdown",
   "id": "b9b26ac6",
   "metadata": {},
   "source": [
    "# Local and global variable\n"
   ]
  },
  {
   "cell_type": "code",
   "execution_count": 20,
   "id": "6481f743",
   "metadata": {},
   "outputs": [],
   "source": [
    "x = 'Yogesh'\n",
    "def say():\n",
    "    x= 'baiguni kto'\n",
    "    print(f\"{x}\")\n",
    "    "
   ]
  },
  {
   "cell_type": "code",
   "execution_count": 21,
   "id": "35c15d54",
   "metadata": {},
   "outputs": [
    {
     "data": {
      "text/plain": [
       "'Yogesh'"
      ]
     },
     "execution_count": 21,
     "metadata": {},
     "output_type": "execute_result"
    }
   ],
   "source": [
    "x"
   ]
  },
  {
   "cell_type": "code",
   "execution_count": 22,
   "id": "9ed2b244",
   "metadata": {},
   "outputs": [
    {
     "name": "stdout",
     "output_type": "stream",
     "text": [
      "baiguni kto\n"
     ]
    }
   ],
   "source": [
    "say()"
   ]
  },
  {
   "cell_type": "code",
   "execution_count": 23,
   "id": "1b883ffb",
   "metadata": {},
   "outputs": [
    {
     "data": {
      "text/plain": [
       "'Yogesh'"
      ]
     },
     "execution_count": 23,
     "metadata": {},
     "output_type": "execute_result"
    }
   ],
   "source": [
    "x"
   ]
  },
  {
   "cell_type": "code",
   "execution_count": 24,
   "id": "f85c275a",
   "metadata": {},
   "outputs": [],
   "source": [
    "x = 'Yogesh'\n",
    "def say():\n",
    "    global x\n",
    "    x= 'baiguni kto'\n",
    "    print(f\"{x}\")"
   ]
  },
  {
   "cell_type": "code",
   "execution_count": 25,
   "id": "0f952b86",
   "metadata": {},
   "outputs": [
    {
     "data": {
      "text/plain": [
       "'Yogesh'"
      ]
     },
     "execution_count": 25,
     "metadata": {},
     "output_type": "execute_result"
    }
   ],
   "source": [
    "x"
   ]
  },
  {
   "cell_type": "code",
   "execution_count": 26,
   "id": "9e88c679",
   "metadata": {},
   "outputs": [
    {
     "name": "stdout",
     "output_type": "stream",
     "text": [
      "baiguni kto\n"
     ]
    }
   ],
   "source": [
    "say()"
   ]
  },
  {
   "cell_type": "code",
   "execution_count": 27,
   "id": "bd6db745",
   "metadata": {},
   "outputs": [
    {
     "data": {
      "text/plain": [
       "'baiguni kto'"
      ]
     },
     "execution_count": 27,
     "metadata": {},
     "output_type": "execute_result"
    }
   ],
   "source": [
    "x"
   ]
  },
  {
   "cell_type": "code",
   "execution_count": 28,
   "id": "bf83a5ff",
   "metadata": {},
   "outputs": [
    {
     "data": {
      "text/plain": [
       "'baiguni kto'"
      ]
     },
     "execution_count": 28,
     "metadata": {},
     "output_type": "execute_result"
    }
   ],
   "source": [
    "x"
   ]
  },
  {
   "cell_type": "code",
   "execution_count": 34,
   "id": "39e20b9e",
   "metadata": {},
   "outputs": [
    {
     "name": "stdout",
     "output_type": "stream",
     "text": [
      "Enter a number: 11\n",
      "True\n"
     ]
    }
   ],
   "source": [
    "def test_prime(n):\n",
    "    if (n==1):\n",
    "        return False\n",
    "    elif (n==2):\n",
    "        return True;\n",
    "    else:\n",
    "        for x in range(2,n):\n",
    "            if(n % x==0):\n",
    "                return False\n",
    "        return True   \n",
    "n = int(input(\"Enter a number: \"))    \n",
    "print(test_prime(n))\n"
   ]
  },
  {
   "cell_type": "code",
   "execution_count": null,
   "id": "67199110",
   "metadata": {},
   "outputs": [],
   "source": []
  }
 ],
 "metadata": {
  "kernelspec": {
   "display_name": "Python 3 (ipykernel)",
   "language": "python",
   "name": "python3"
  },
  "language_info": {
   "codemirror_mode": {
    "name": "ipython",
    "version": 3
   },
   "file_extension": ".py",
   "mimetype": "text/x-python",
   "name": "python",
   "nbconvert_exporter": "python",
   "pygments_lexer": "ipython3",
   "version": "3.10.11"
  }
 },
 "nbformat": 4,
 "nbformat_minor": 5
}
