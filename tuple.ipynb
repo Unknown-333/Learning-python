{
 "cells": [
  {
   "cell_type": "markdown",
   "id": "1581f65b",
   "metadata": {},
   "source": [
    "# Tuple\n",
    "* collection of item under one variable name\n",
    "* items are placed inside round bracket() seperated by comma\n",
    "* allows duplicate\n",
    "* imutable\n",
    "* supports multiple data types"
   ]
  },
  {
   "cell_type": "code",
   "execution_count": 1,
   "id": "76b52539",
   "metadata": {},
   "outputs": [
    {
     "data": {
      "text/plain": [
       "tuple"
      ]
     },
     "execution_count": 1,
     "metadata": {},
     "output_type": "execute_result"
    }
   ],
   "source": [
    "# empty tuple\n",
    "fruit = tuple()\n",
    "type(fruit)"
   ]
  },
  {
   "cell_type": "code",
   "execution_count": 2,
   "id": "cd0bbc48",
   "metadata": {},
   "outputs": [
    {
     "data": {
      "text/plain": [
       "tuple"
      ]
     },
     "execution_count": 2,
     "metadata": {},
     "output_type": "execute_result"
    }
   ],
   "source": [
    "friends = ()\n",
    "type(friends)"
   ]
  },
  {
   "cell_type": "markdown",
   "id": "da63ca57",
   "metadata": {},
   "source": [
    "# Create a tuple of cities in nepal\n"
   ]
  },
  {
   "cell_type": "code",
   "execution_count": 3,
   "id": "7b20512f",
   "metadata": {},
   "outputs": [],
   "source": [
    "city = ('Kathmandu', 'Kirtipur', 'Bhaktapur', 'Lalitpur', 'Dharan', 'Bharatpur', 'Biratnagar')"
   ]
  },
  {
   "cell_type": "code",
   "execution_count": 4,
   "id": "ebe9b4f0",
   "metadata": {},
   "outputs": [
    {
     "data": {
      "text/plain": [
       "('Kathmandu',\n",
       " 'Kirtipur',\n",
       " 'Bhaktapur',\n",
       " 'Lalitpur',\n",
       " 'Dharan',\n",
       " 'Bharatpur',\n",
       " 'Biratnagar')"
      ]
     },
     "execution_count": 4,
     "metadata": {},
     "output_type": "execute_result"
    }
   ],
   "source": []
  },
  {
   "cell_type": "code",
   "execution_count": 6,
   "id": "694f03a1",
   "metadata": {},
   "outputs": [
    {
     "data": {
      "text/plain": [
       "'Dharan'"
      ]
     },
     "execution_count": 6,
     "metadata": {},
     "output_type": "execute_result"
    }
   ],
   "source": [
    "city[4] #indexing"
   ]
  },
  {
   "cell_type": "code",
   "execution_count": 7,
   "id": "fb14d985",
   "metadata": {},
   "outputs": [
    {
     "data": {
      "text/plain": [
       "'Biratnagar'"
      ]
     },
     "execution_count": 7,
     "metadata": {},
     "output_type": "execute_result"
    }
   ],
   "source": [
    "city[-1]"
   ]
  },
  {
   "cell_type": "code",
   "execution_count": 9,
   "id": "f1840039",
   "metadata": {},
   "outputs": [
    {
     "data": {
      "text/plain": [
       "('Lalitpur', 'Dharan')"
      ]
     },
     "execution_count": 9,
     "metadata": {},
     "output_type": "execute_result"
    }
   ],
   "source": [
    "city[3:5]"
   ]
  },
  {
   "cell_type": "code",
   "execution_count": 10,
   "id": "9d3a01cc",
   "metadata": {},
   "outputs": [
    {
     "name": "stdout",
     "output_type": "stream",
     "text": [
      "6.4\n"
     ]
    }
   ],
   "source": [
    "data = (2,4,6,8,12)\n",
    "total = 0\n",
    "for i in data:\n",
    "    total += i\n",
    "mean = total/len(data)\n",
    "print(mean)"
   ]
  },
  {
   "cell_type": "code",
   "execution_count": 11,
   "id": "9eb85221",
   "metadata": {},
   "outputs": [
    {
     "data": {
      "text/plain": [
       "float"
      ]
     },
     "execution_count": 11,
     "metadata": {},
     "output_type": "execute_result"
    }
   ],
   "source": [
    "type(mean)"
   ]
  },
  {
   "cell_type": "code",
   "execution_count": 12,
   "id": "51fcefac",
   "metadata": {},
   "outputs": [],
   "source": [
    "a= (1,'helo')"
   ]
  },
  {
   "cell_type": "code",
   "execution_count": 13,
   "id": "7647d717",
   "metadata": {},
   "outputs": [
    {
     "data": {
      "text/plain": [
       "(1, 'helo')"
      ]
     },
     "execution_count": 13,
     "metadata": {},
     "output_type": "execute_result"
    }
   ],
   "source": [
    "a"
   ]
  },
  {
   "cell_type": "markdown",
   "id": "9b59bc4f",
   "metadata": {},
   "source": [
    "# Tuple is immutable"
   ]
  },
  {
   "cell_type": "code",
   "execution_count": 14,
   "id": "82b73384",
   "metadata": {},
   "outputs": [],
   "source": [
    "cars= ('BMW', 'Tesla', 'Mercedes', 'Bentley')"
   ]
  },
  {
   "cell_type": "code",
   "execution_count": 15,
   "id": "0418492f",
   "metadata": {},
   "outputs": [
    {
     "data": {
      "text/plain": [
       "('BMW', 'Tesla', 'Mercedes', 'Bentley')"
      ]
     },
     "execution_count": 15,
     "metadata": {},
     "output_type": "execute_result"
    }
   ],
   "source": [
    "cars"
   ]
  },
  {
   "cell_type": "code",
   "execution_count": 16,
   "id": "352b84e8",
   "metadata": {},
   "outputs": [
    {
     "ename": "TypeError",
     "evalue": "'tuple' object does not support item assignment",
     "output_type": "error",
     "traceback": [
      "\u001b[0;31m---------------------------------------------------------------------------\u001b[0m",
      "\u001b[0;31mTypeError\u001b[0m                                 Traceback (most recent call last)",
      "Cell \u001b[0;32mIn[16], line 1\u001b[0m\n\u001b[0;32m----> 1\u001b[0m \u001b[43mcars\u001b[49m\u001b[43m[\u001b[49m\u001b[38;5;241;43m1\u001b[39;49m\u001b[43m]\u001b[49m \u001b[38;5;241m=\u001b[39m \u001b[38;5;124m'\u001b[39m\u001b[38;5;124mTata\u001b[39m\u001b[38;5;124m'\u001b[39m\n",
      "\u001b[0;31mTypeError\u001b[0m: 'tuple' object does not support item assignment"
     ]
    }
   ],
   "source": [
    "cars[1] = 'Tata' # tuples are immutable"
   ]
  },
  {
   "cell_type": "code",
   "execution_count": 17,
   "id": "00d79e04",
   "metadata": {},
   "outputs": [
    {
     "data": {
      "text/plain": [
       "['BMW', 'Tata', 'Mercedes', 'Bentley']"
      ]
     },
     "execution_count": 17,
     "metadata": {},
     "output_type": "execute_result"
    }
   ],
   "source": [
    "# tara list ma milxa cuz list is mutable\n",
    "cars= ['BMW', 'Tesla', 'Mercedes', 'Bentley']\n",
    "cars[1] = 'Tata'\n",
    "cars"
   ]
  },
  {
   "cell_type": "markdown",
   "id": "8bf6842c",
   "metadata": {},
   "source": [
    "# Type casting"
   ]
  },
  {
   "cell_type": "code",
   "execution_count": 24,
   "id": "ce47fd01",
   "metadata": {},
   "outputs": [
    {
     "name": "stdout",
     "output_type": "stream",
     "text": [
      "('BMW', 'Tesla', 'Mercedes', 'Bentley', 'Lamborghini')\n"
     ]
    }
   ],
   "source": [
    "cars = ('BMW', 'Tesla', 'Mercedes', 'Bentley')\n",
    "cars = list(cars)\n",
    "cars.append('Lamborghini')\n",
    "cars = tuple(cars)\n",
    "print(cars)\n"
   ]
  },
  {
   "cell_type": "markdown",
   "id": "5f980e8d",
   "metadata": {},
   "source": [
    "# Tuple Unpacking"
   ]
  },
  {
   "cell_type": "code",
   "execution_count": 25,
   "id": "0ff45f69",
   "metadata": {},
   "outputs": [],
   "source": [
    "a, b = ('Hello', 'Sarkar')"
   ]
  },
  {
   "cell_type": "code",
   "execution_count": 26,
   "id": "676a4e38",
   "metadata": {},
   "outputs": [
    {
     "data": {
      "text/plain": [
       "'Hello'"
      ]
     },
     "execution_count": 26,
     "metadata": {},
     "output_type": "execute_result"
    }
   ],
   "source": [
    "a"
   ]
  },
  {
   "cell_type": "code",
   "execution_count": 27,
   "id": "e21bdbb2",
   "metadata": {},
   "outputs": [
    {
     "data": {
      "text/plain": [
       "'Sarkar'"
      ]
     },
     "execution_count": 27,
     "metadata": {},
     "output_type": "execute_result"
    }
   ],
   "source": [
    "b"
   ]
  },
  {
   "cell_type": "code",
   "execution_count": 28,
   "id": "1716b5d0",
   "metadata": {},
   "outputs": [
    {
     "ename": "ValueError",
     "evalue": "not enough values to unpack (expected 3, got 2)",
     "output_type": "error",
     "traceback": [
      "\u001b[0;31m---------------------------------------------------------------------------\u001b[0m",
      "\u001b[0;31mValueError\u001b[0m                                Traceback (most recent call last)",
      "Cell \u001b[0;32mIn[28], line 1\u001b[0m\n\u001b[0;32m----> 1\u001b[0m a, b, c \u001b[38;5;241m=\u001b[39m (\u001b[38;5;124m'\u001b[39m\u001b[38;5;124mHello\u001b[39m\u001b[38;5;124m'\u001b[39m, \u001b[38;5;124m'\u001b[39m\u001b[38;5;124mSarkar\u001b[39m\u001b[38;5;124m'\u001b[39m)\n",
      "\u001b[0;31mValueError\u001b[0m: not enough values to unpack (expected 3, got 2)"
     ]
    }
   ],
   "source": [
    "a, b, c = ('Hello', 'Sarkar')"
   ]
  },
  {
   "cell_type": "code",
   "execution_count": null,
   "id": "2067c0ce",
   "metadata": {},
   "outputs": [],
   "source": []
  }
 ],
 "metadata": {
  "kernelspec": {
   "display_name": "Python 3 (ipykernel)",
   "language": "python",
   "name": "python3"
  },
  "language_info": {
   "codemirror_mode": {
    "name": "ipython",
    "version": 3
   },
   "file_extension": ".py",
   "mimetype": "text/x-python",
   "name": "python",
   "nbconvert_exporter": "python",
   "pygments_lexer": "ipython3",
   "version": "3.10.11"
  }
 },
 "nbformat": 4,
 "nbformat_minor": 5
}
