{
 "cells": [
  {
   "cell_type": "markdown",
   "id": "53e76a83",
   "metadata": {},
   "source": [
    "# Wednesday : June 21"
   ]
  },
  {
   "cell_type": "code",
   "execution_count": 1,
   "id": "0ec7a83f",
   "metadata": {},
   "outputs": [
    {
     "name": "stdout",
     "output_type": "stream",
     "text": [
      "Enter any string of your choice : aayush\n",
      "h\n",
      "s\n",
      "u\n",
      "y\n",
      "a\n",
      "a\n"
     ]
    }
   ],
   "source": [
    "#1. wap[py] that asks the user to enter the string and prints the string in reverse order\n",
    "string = input(\"Enter any string of your choice : \")\n",
    "for i in range(len(string)-1,-1,-1):\n",
    "    print(string[i] )"
   ]
  },
  {
   "cell_type": "code",
   "execution_count": 35,
   "id": "46db7356",
   "metadata": {},
   "outputs": [
    {
     "name": "stdout",
     "output_type": "stream",
     "text": [
      "Enter any string of your choice : aayush\n",
      "  vowel  is a\n",
      "  vowel  is a\n",
      "  vowel  is u\n",
      "The total number of vowel in aayush is 3\n"
     ]
    }
   ],
   "source": [
    " #2. wap[py] that asks the user to enter the string and prints the number of vowels in stringg\n",
    "word = input(\"Enter any string of your choice : \") \n",
    "word = word.lower()\n",
    "vowel = 0\n",
    "for i in range(len(word)):\n",
    "    if word[i] in 'aeiou':\n",
    "        print(f\"  vowel  is {word[i]}\")\n",
    "        vowel += 1\n",
    "print(f\"The total number of vowel in {word} is {vowel}\")\n",
    "        \n",
    "        \n",
    "\n"
   ]
  },
  {
   "cell_type": "code",
   "execution_count": 7,
   "id": "65611049",
   "metadata": {},
   "outputs": [
    {
     "name": "stdout",
     "output_type": "stream",
     "text": [
      "Enter any string of your choice : aayush\n",
      "AAYUSH\n"
     ]
    }
   ],
   "source": [
    "#3. wap[py] that asks the user to enter a sentence and prints the sentence with each word capitalizef\n",
    "word1 = input(\"Enter any string of your choice : \") \n",
    "word1 = word1.upper()\n",
    "print(word1)"
   ]
  },
  {
   "cell_type": "code",
   "execution_count": 13,
   "id": "6cb29bc4",
   "metadata": {},
   "outputs": [
    {
     "name": "stdout",
     "output_type": "stream",
     "text": [
      "Enter any string of your choice : aayush\n",
      "ooyosh\n"
     ]
    }
   ],
   "source": [
    "#4. wap[py] that asks the user to enter the string and prints the string with all the vowels replaced by character 'o''\n",
    "word2 = input(\"Enter any string of your choice : \") \n",
    "word2 = word2.lower()\n",
    "for i in 'aeiou':\n",
    "    word2 = word2.replace(i,\"o\")\n",
    "print(word2)    "
   ]
  },
  {
   "cell_type": "code",
   "execution_count": 14,
   "id": "024763d2",
   "metadata": {},
   "outputs": [
    {
     "name": "stdout",
     "output_type": "stream",
     "text": [
      "Enter any string of your choice : aayush\n",
      "Enter any string of your choice : paudel\n",
      "aayush paudel\n"
     ]
    }
   ],
   "source": [
    "#5. wap[py] that asks the user to enter two strings and prints the two string concatenated togerther with a space between them\n",
    "string1 = input(\"Enter any string of your choice : \") \n",
    "string2 = input(\"Enter any string of your choice : \")\n",
    "string3 = ' '.join([string1, string2])\n",
    "print(string3)\n"
   ]
  },
  {
   "cell_type": "code",
   "execution_count": 17,
   "id": "9a670b0f",
   "metadata": {},
   "outputs": [
    {
     "name": "stdout",
     "output_type": "stream",
     "text": [
      "Enter any string of your choice : hello\n",
      "ell\n"
     ]
    }
   ],
   "source": [
    "# 6. wap[py] that asks the user to enter a string and prints the string with the first and last letter removed\n",
    "word3 = input(\"Enter any string of your choice : \")\n",
    "print(word3[1:len(word3)-1:])"
   ]
  },
  {
   "cell_type": "code",
   "execution_count": 22,
   "id": "863e61fa",
   "metadata": {},
   "outputs": [
    {
     "name": "stdout",
     "output_type": "stream",
     "text": [
      "Enter any word of your choice : h   e l l o wor   l d    .\n",
      "helloworld.\n"
     ]
    }
   ],
   "source": [
    "# 7.wap that asks the user to enter a string and prints the string with all the spaces removed\n",
    "word4 = input(\"Enter any word of your choice : \")\n",
    "word4 = word4.strip()\n",
    "for i in range(len(word4)):\n",
    "    word4 = word4.replace(\" \",\"\")\n",
    "print (word4)    "
   ]
  },
  {
   "cell_type": "code",
   "execution_count": 38,
   "id": "e2a418b4",
   "metadata": {},
   "outputs": [
    {
     "name": "stdout",
     "output_type": "stream",
     "text": [
      "Enter a string: aayush paudel\n",
      "Reversed string: hsuyaa leduap\n"
     ]
    }
   ],
   "source": [
    "# 8.write a py program that asks the user to enter a string and prints the string with each word in reverse order\n",
    "string5 = input(\"Enter a string: \")\n",
    "reversed_words = [word[::-1] for word in words]  # slicing garnu pardo raixa ani reverse hunxa\n",
    "reversed_string = ' '.join(reversed_words) \n",
    "print(\"Reversed string:\", reversed_string)\n",
    "    "
   ]
  },
  {
   "cell_type": "code",
   "execution_count": 30,
   "id": "f784588f",
   "metadata": {},
   "outputs": [
    {
     "name": "stdout",
     "output_type": "stream",
     "text": [
      "Enter any string of your choice : aayush paudel\n",
      "p a u d e l a a y u s h\n"
     ]
    }
   ],
   "source": [
    "#8. ko program lekhda arkai program lekhyo\n",
    "\n",
    "string5 = input(\"Enter any string of your choice : \")\n",
    "words = string4.split()\n",
    "r_w =[]\n",
    "for i in range(len(words) - 1, -1, -1):\n",
    "    r_w += words[i] # reversed_word=r_w\n",
    "r_s = ' '.join(r_w)  \n",
    "print(r_s)"
   ]
  },
  {
   "cell_type": "code",
   "execution_count": 37,
   "id": "17cea639",
   "metadata": {},
   "outputs": [
    {
     "name": "stdout",
     "output_type": "stream",
     "text": [
      "Enter a string: aayush paudel\n",
      "Reversed string: hsuyaa leduap\n"
     ]
    }
   ],
   "source": [
    "string = input(\"Enter a string: \")\n",
    "\n",
    "reversed_words = []\n",
    "for word in string.split():\n",
    "    reversed_word = ''\n",
    "    for i in range(len(word)-1, -1, -1):\n",
    "        reversed_word += word[i]\n",
    "    reversed_words.append(reversed_word)\n",
    "\n",
    "reversed_string = ' '.join(reversed_words)\n",
    "\n",
    "print(\"Reversed string:\", reversed_string)"
   ]
  },
  {
   "cell_type": "code",
   "execution_count": 39,
   "id": "a0ab84db",
   "metadata": {},
   "outputs": [
    {
     "name": "stdout",
     "output_type": "stream",
     "text": [
      "['orange', 'apple', 'banana', 'kiwi']\n"
     ]
    }
   ],
   "source": [
    "'''\n",
    "Using string manipulation technique Extrace fruits name from txt\n",
    "txt= \"I like Orange Apple Banana and kiwi.\"\n",
    "['organge', 'apple', 'banana', 'kiwi' ] \n",
    "'''\n",
    "\n",
    "\n",
    "\n",
    "txt = \"I like Orange Apple Banana and kiwi.\"\n",
    "txt_lower = txt.lower()\n",
    "fruits = ['orange', 'apple', 'banana', 'kiwi']\n",
    "extracted_fruits = []\n",
    "for fruit in fruits:\n",
    "    if fruit.lower() in txt_lower:\n",
    "        extracted_fruits.append(fruit)\n",
    "\n",
    "print(extracted_fruits)\n"
   ]
  },
  {
   "cell_type": "markdown",
   "id": "37ac24bd",
   "metadata": {},
   "source": [
    " # sir ko ans\n",
    " "
   ]
  },
  {
   "cell_type": "code",
   "execution_count": 13,
   "id": "903dfc11",
   "metadata": {},
   "outputs": [
    {
     "data": {
      "text/plain": [
       "['orange', 'apple', 'banana', 'kiwi.']"
      ]
     },
     "execution_count": 13,
     "metadata": {},
     "output_type": "execute_result"
    }
   ],
   "source": [
    "sent  = \"I like Orange Apple Banana and kiwi.\"\n",
    "sent = sent.replace(\"I like \", '')\n",
    "sent = sent.replace('and ', '')\n",
    "sent = sent.lower()\n",
    "sent.split(\" \")"
   ]
  },
  {
   "cell_type": "code",
   "execution_count": 14,
   "id": "2b94d837",
   "metadata": {},
   "outputs": [],
   "source": [
    "# string1 = \"nepalchinaindia\" to string2 = \"indiachinanepal\"\n",
    "string1 = 'nepalchinaindia'\n",
    "string2, container = '', ''\n",
    "for index in range(0, 5):\n",
    "    container += string1[index]\n",
    "else:\n",
    "    string1 = string1.replace(container, \"\")\n",
    "    string2 = string1 + container"
   ]
  },
  {
   "cell_type": "code",
   "execution_count": 15,
   "id": "dc2bd97c",
   "metadata": {},
   "outputs": [
    {
     "data": {
      "text/plain": [
       "'chinaindianepal'"
      ]
     },
     "execution_count": 15,
     "metadata": {},
     "output_type": "execute_result"
    }
   ],
   "source": [
    "string2"
   ]
  },
  {
   "cell_type": "markdown",
   "id": "906bea72",
   "metadata": {},
   "source": [
    "# June 29 assignment\n"
   ]
  },
  {
   "cell_type": "code",
   "execution_count": 13,
   "id": "18190898",
   "metadata": {},
   "outputs": [
    {
     "name": "stdout",
     "output_type": "stream",
     "text": [
      "Enter any hyphen seperated word of your choice :green-red-yellow-black-white\n",
      "The alphabeticallt sorted sewuence is :  black-green-red-white-yellow\n"
     ]
    }
   ],
   "source": [
    "# accepts a hyphen-seperated sequence of words as input and prints the words as huphen-sequence after sortin alphabetically\n",
    "word = input(\"Enter any hyphen seperated word of your choice :\")\n",
    "word = word.split(\"-\")\n",
    "sorted_word = sorted(word) #word.sort()\n",
    "final_word = \"-\".join(sorted_word)\n",
    "print(\"The alphabeticallt sorted sewuence is : \", final_word)"
   ]
  },
  {
   "cell_type": "code",
   "execution_count": 8,
   "id": "bef4c1ff",
   "metadata": {},
   "outputs": [
    {
     "name": "stdout",
     "output_type": "stream",
     "text": [
      "Enter any number of your choice:5\n",
      "Enter any number of your choice:5\n",
      "The sum is  10 and the difference is  0 the product is  25 the division is  1.0 the power of  5 to 5 is 3125\n",
      "when  5 is divided by  5 the remainder is 0 and the floor division is 1\n"
     ]
    }
   ],
   "source": [
    "# arithmetic operator using function\n",
    "def arithmetic(x,y):\n",
    "    print(\"The sum is \",x+y,\"and the difference is \",x-y,\"the product is \",x*y,\"the division is \",x/y,\"the power of \",x,\"to\",y,\"is\",x**y)\n",
    "    print(\"when \",x,\"is divided by \",y,\"the remainder is\",x%y,\"and the floor division is\",x//y)\n",
    "x=int(input(\"Enter any number of your choice:\"))\n",
    "y=int(input(\"Enter any number of your choice:\"))\n",
    "arithmetic(x,y)\n"
   ]
  },
  {
   "cell_type": "code",
   "execution_count": 80,
   "id": "0b78b5fa",
   "metadata": {},
   "outputs": [
    {
     "name": "stdout",
     "output_type": "stream",
     "text": [
      "Enter the radius of sphere : 7\n",
      "The volume of sphere is :1436.76 \n"
     ]
    }
   ],
   "source": [
    "# volume of sphere using function\n",
    "import math\n",
    "def volume(r):\n",
    "    vol = 4/3 * math.pi * r**3\n",
    "    return vol\n",
    "r = float(input(\"Enter the radius of sphere : \"))   \n",
    "ans = volume(r)\n",
    "print(\"The volume of sphere is :%.2f \"%ans)"
   ]
  },
  {
   "cell_type": "code",
   "execution_count": 21,
   "id": "42a5d118",
   "metadata": {},
   "outputs": [
    {
     "name": "stdout",
     "output_type": "stream",
     "text": [
      "Enter any word of your choice : aayush\n"
     ]
    },
    {
     "data": {
      "text/plain": [
       "'hsuyaa'"
      ]
     },
     "execution_count": 21,
     "metadata": {},
     "output_type": "execute_result"
    }
   ],
   "source": [
    "# to print a string in opposite manner\n",
    "def ulto():\n",
    "    str = input(\"Enter any word of your choice : \")\n",
    "    y = ''\n",
    "    for i in range(len(str)-1,-1,-1):\n",
    "        y = y +str[i]\n",
    "    return y\n",
    "\n",
    "ulto()\n"
   ]
  },
  {
   "cell_type": "code",
   "execution_count": 26,
   "id": "ace7007c",
   "metadata": {},
   "outputs": [
    {
     "name": "stdout",
     "output_type": "stream",
     "text": [
      "Enter any word fo your choice : UppER  CaSE\n",
      "The total number is uppercase is 6, lowercase is 3 and other character is 2\n"
     ]
    }
   ],
   "source": [
    "def count():\n",
    "    string = input(\"Enter any word fo your choice : \")  \n",
    "    upper = 0\n",
    "    lower = 0\n",
    "    other = 0\n",
    "    for i in string:\n",
    "        if i.isupper():\n",
    "            upper += 1\n",
    "        elif i.islower():\n",
    "            lower += 1\n",
    "        else:\n",
    "            other += 1 \n",
    "    return upper, lower, other\n",
    "     \n",
    "x, y, z = count()\n",
    "print(f\"The total number is uppercase is {x}, lowercase is {y} and other character is {z}\")\n",
    "    \n",
    "    \n"
   ]
  },
  {
   "cell_type": "code",
   "execution_count": 48,
   "id": "afde0081",
   "metadata": {},
   "outputs": [],
   "source": [
    "# return true if prime number else false if not prime number\n",
    "def pn():\n",
    "    n =int(input(\"Enter any number of your choice : \"))\n",
    "    count = 0 \n",
    "    for i in range(1,n+1):\n",
    "        if n % i == 0:\n",
    "            count+=1\n",
    "        i+=1\n",
    "    print(count)\n",
    "    if count == 2:  \n",
    "        print(\"prime\")\n",
    "    else: \n",
    "        print(\"not prime\")\n",
    "        "
   ]
  },
  {
   "cell_type": "code",
   "execution_count": 49,
   "id": "24d4e9cc",
   "metadata": {},
   "outputs": [
    {
     "name": "stdout",
     "output_type": "stream",
     "text": [
      "Enter any number of your choice : 1\n",
      "1\n",
      "not prime\n"
     ]
    }
   ],
   "source": [
    "pn()"
   ]
  },
  {
   "cell_type": "code",
   "execution_count": 59,
   "id": "cc9dbf27",
   "metadata": {},
   "outputs": [
    {
     "name": "stdout",
     "output_type": "stream",
     "text": [
      "lambuu\n",
      "mote\n",
      "chote\n"
     ]
    }
   ],
   "source": [
    "for i in b:\n",
    "    print(b[i])"
   ]
  },
  {
   "cell_type": "code",
   "execution_count": 82,
   "id": "58c5a889",
   "metadata": {},
   "outputs": [
    {
     "name": "stdout",
     "output_type": "stream",
     "text": [
      "Enter any number of your choice : 5\n"
     ]
    },
    {
     "data": {
      "text/plain": [
       "120"
      ]
     },
     "execution_count": 82,
     "metadata": {},
     "output_type": "execute_result"
    }
   ],
   "source": [
    "def factorial(number):\n",
    "    \n",
    "    if number == 0:\n",
    "        return 1\n",
    "    elif number == 1:\n",
    "        return 1\n",
    "    else:\n",
    "        return number*factorial(number-1)\n",
    "number = int(input(\"Enter any number of your choice : \"))\n",
    "factorial(number)        \n",
    "        "
   ]
  },
  {
   "cell_type": "code",
   "execution_count": 76,
   "id": "8ec673ab",
   "metadata": {},
   "outputs": [
    {
     "name": "stdout",
     "output_type": "stream",
     "text": [
      "Enter any number of your choice : 5\n"
     ]
    },
    {
     "data": {
      "text/plain": [
       "120"
      ]
     },
     "execution_count": 76,
     "metadata": {},
     "output_type": "execute_result"
    }
   ],
   "source": [
    "def fac(number):\n",
    "    if number == 0:\n",
    "        return 1\n",
    "    elif number == 1:\n",
    "        return 1\n",
    "    else:\n",
    "        t = 1\n",
    "        for i in range(1,number+1):\n",
    "            t*=i\n",
    "    return t \n",
    "number = int(input(\"Enter any number of your choice : \"))\n",
    "fac(number)"
   ]
  },
  {
   "cell_type": "code",
   "execution_count": 90,
   "id": "6ab5ec32",
   "metadata": {},
   "outputs": [
    {
     "name": "stdout",
     "output_type": "stream",
     "text": [
      "Enter ne word of your choice :aayush\n"
     ]
    },
    {
     "data": {
      "text/plain": [
       "'ooyosh'"
      ]
     },
     "execution_count": 90,
     "metadata": {},
     "output_type": "execute_result"
    }
   ],
   "source": [
    "def replace():\n",
    "    wrd = input(\"Enter ne word of your choice :\")\n",
    "    for i in 'aeiou':\n",
    "        wrd = wrd.replace(i,\"o\")\n",
    "    return wrd    \n",
    "replace()"
   ]
  },
  {
   "cell_type": "code",
   "execution_count": 2,
   "id": "3f25e475",
   "metadata": {},
   "outputs": [
    {
     "name": "stdout",
     "output_type": "stream",
     "text": [
      "Enter any word of your choice : hello\n",
      "ell\n"
     ]
    }
   ],
   "source": [
    "def remove():\n",
    "    wrds = input(\"Enter any word of your choice : \")\n",
    "    print(wrds[1:len(wrds)-1])\n",
    "remove()"
   ]
  },
  {
   "cell_type": "code",
   "execution_count": 1,
   "id": "f77b5999",
   "metadata": {},
   "outputs": [
    {
     "name": "stdout",
     "output_type": "stream",
     "text": [
      "enter the number of your choice : 8\n"
     ]
    },
    {
     "data": {
      "text/plain": [
       "40320"
      ]
     },
     "execution_count": 1,
     "metadata": {},
     "output_type": "execute_result"
    }
   ],
   "source": [
    "import math\n",
    "def f():\n",
    "    n = int(input(\"enter the number of your choice : \"))\n",
    "    fact = math.factorial(n)\n",
    "    return fact\n",
    "f()\n",
    "    "
   ]
  },
  {
   "cell_type": "markdown",
   "id": "01c9e505",
   "metadata": {},
   "source": [
    " # Function assignment [sir]\n",
    " \n",
    " # to check if prime or not"
   ]
  },
  {
   "cell_type": "code",
   "execution_count": 7,
   "id": "730f9da9",
   "metadata": {},
   "outputs": [],
   "source": []
  },
  {
   "cell_type": "code",
   "execution_count": 11,
   "id": "dad33135",
   "metadata": {},
   "outputs": [
    {
     "name": "stdout",
     "output_type": "stream",
     "text": [
      "51 is prime? False\n"
     ]
    }
   ],
   "source": [
    "def is_prime(input_num):\n",
    "    if input_num < 2:\n",
    "        return False\n",
    "    for num in range(2, input_num):\n",
    "        if input_num % num == 0:\n",
    "            return False\n",
    "    return True    \n",
    "\n",
    "import random\n",
    "input_num = random.randint(0, 100)\n",
    "status = is_prime(input_num=input_num)\n",
    "print(input_num, \"is prime?\", status)\n"
   ]
  },
  {
   "cell_type": "code",
   "execution_count": 13,
   "id": "aa373202",
   "metadata": {},
   "outputs": [
    {
     "data": {
      "text/plain": [
       "9"
      ]
     },
     "execution_count": 13,
     "metadata": {},
     "output_type": "execute_result"
    }
   ],
   "source": [
    "random.seed(5) # random of two types deterministic and random seed halyo vane deterministic k aaunxa vanera pailai record vako hunxa ra sab ko pc ma same number nai aaunxa\n",
    "num = random.randint(0,10)\n",
    "num"
   ]
  },
  {
   "cell_type": "code",
   "execution_count": 19,
   "id": "7ceb06a8",
   "metadata": {},
   "outputs": [],
   "source": [
    "def factorial(num):\n",
    "    if num < 0:\n",
    "        return None\n",
    "    fact = 1\n",
    "    if num == 0 or num == 1:\n",
    "        return fact\n",
    "    for i in range(2,num+1):\n",
    "        fact *= i\n",
    "        \n",
    "    return fact \n"
   ]
  },
  {
   "cell_type": "code",
   "execution_count": 20,
   "id": "28aa6342",
   "metadata": {},
   "outputs": [
    {
     "data": {
      "text/plain": [
       "24"
      ]
     },
     "execution_count": 20,
     "metadata": {},
     "output_type": "execute_result"
    }
   ],
   "source": [
    "num = 4\n",
    "factorial(num=num)"
   ]
  },
  {
   "cell_type": "code",
   "execution_count": null,
   "id": "547d4e7e",
   "metadata": {},
   "outputs": [],
   "source": [
    "# accepts string and calculate the number of upper case and lower case"
   ]
  },
  {
   "cell_type": "code",
   "execution_count": 1,
   "id": "aedbdf61",
   "metadata": {},
   "outputs": [
    {
     "name": "stdout",
     "output_type": "stream",
     "text": [
      "Enter the range : 5\n",
      "Fibonacci sequence:\n",
      "0\n",
      "1\n",
      "1\n",
      "2\n",
      "3\n"
     ]
    }
   ],
   "source": [
    "# Python program to display the Fibonacci sequence\n",
    "def fib(n):\n",
    "    if n <= 1:\n",
    "        return n\n",
    "    else:\n",
    "        return(fib(n-1) + fib(n-2))\n",
    "\n",
    "n = int(input(\"Enter the range : \"))\n",
    "print(\"Fibonacci sequence:\")\n",
    "for i in range(n):\n",
    "    print(fib(i))\n"
   ]
  },
  {
   "cell_type": "markdown",
   "id": "e27b7212",
   "metadata": {},
   "source": [
    "# Jul 3 assignment"
   ]
  },
  {
   "cell_type": "code",
   "execution_count": 5,
   "id": "08f94810",
   "metadata": {},
   "outputs": [
    {
     "name": "stdout",
     "output_type": "stream",
     "text": [
      "Enter the radius of sphere (in metre): 7\n",
      "The volume of the sphere is: 1436.76 cubic metres\n"
     ]
    }
   ],
   "source": [
    "# volume of sphere using oop\n",
    "import math\n",
    "class sphere:\n",
    "    \n",
    "    def __init__(self, radius):\n",
    "        self.r = radius\n",
    "        \n",
    "    def vol(self):\n",
    "        x = 4/3 * math.pi * self.r ** 3 \n",
    "        return x\n",
    "    \n",
    "radius = float(input(\"Enter the radius of sphere (in metre): \"))\n",
    "\n",
    "volume = sphere(radius = radius)\n",
    "v1 = volume.vol()\n",
    "\n",
    "print(f\"The volume of the sphere is: {v1:.2f} cubic metres\")\n"
   ]
  },
  {
   "cell_type": "code",
   "execution_count": 8,
   "id": "137aa688",
   "metadata": {},
   "outputs": [
    {
     "name": "stdout",
     "output_type": "stream",
     "text": [
      "Enter any number : 5\n",
      "The factorial of 5 is 120\n"
     ]
    }
   ],
   "source": [
    "class factorial:\n",
    "    \n",
    "    def __init__(self, n):\n",
    "        self.n = n\n",
    "        \n",
    "    def fact(self):\n",
    "        f = 1\n",
    "        for i in range(1,self.n+1):\n",
    "            f *= i\n",
    "        return f\n",
    "    \n",
    "n = int(input(\"Enter any number : \"))\n",
    "\n",
    "fac = factorial(n = n)\n",
    "facts = fac.fact()\n",
    "print(f\"The factorial of {n} is {facts}\")\n",
    "            \n",
    "                      "
   ]
  },
  {
   "cell_type": "code",
   "execution_count": null,
   "id": "03ffb3b0",
   "metadata": {},
   "outputs": [],
   "source": []
  }
 ],
 "metadata": {
  "kernelspec": {
   "display_name": "Python 3 (ipykernel)",
   "language": "python",
   "name": "python3"
  },
  "language_info": {
   "codemirror_mode": {
    "name": "ipython",
    "version": 3
   },
   "file_extension": ".py",
   "mimetype": "text/x-python",
   "name": "python",
   "nbconvert_exporter": "python",
   "pygments_lexer": "ipython3",
   "version": "3.10.11"
  }
 },
 "nbformat": 4,
 "nbformat_minor": 5
}
