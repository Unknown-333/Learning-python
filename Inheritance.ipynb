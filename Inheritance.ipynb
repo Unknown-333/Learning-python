{
 "cells": [
  {
   "cell_type": "markdown",
   "id": "251d6050",
   "metadata": {},
   "source": [
    "# Inheritance\n",
    "* Single\n",
    "* Multiple\n",
    "* Multilevel\n",
    "* hierarchial\n",
    "\n",
    "Note \n",
    "* superclass/ parent class / base class\n",
    "* subclass/ child class/ derived class\n",
    "\n",
    "super() ko through parent class ko property and method child le tanxa"
   ]
  },
  {
   "cell_type": "markdown",
   "id": "aa5e029a",
   "metadata": {},
   "source": [
    "# single\n",
    "\n",
    "* euta parent euta child"
   ]
  },
  {
   "cell_type": "code",
   "execution_count": 12,
   "id": "5593b4a6",
   "metadata": {},
   "outputs": [],
   "source": [
    "class Computer:\n",
    "    def __init__(self, model_name):\n",
    "        self.model_name = model_name\n",
    "        \n",
    "    def display_model_name(self):\n",
    "        print(f\"Your model name is {self.model_name}\")\n",
    "      "
   ]
  },
  {
   "cell_type": "code",
   "execution_count": null,
   "id": "7360eceb",
   "metadata": {},
   "outputs": [],
   "source": [
    "class Mobile:\n",
    "    def __init__(self, has_flash):\n",
    "        self.has_flash = has_flash"
   ]
  },
  {
   "cell_type": "code",
   "execution_count": 13,
   "id": "b9c86888",
   "metadata": {},
   "outputs": [
    {
     "ename": "TypeError",
     "evalue": "Mobile.__init__() missing 1 required positional argument: 'model_name'",
     "output_type": "error",
     "traceback": [
      "\u001b[0;31m---------------------------------------------------------------------------\u001b[0m",
      "\u001b[0;31mTypeError\u001b[0m                                 Traceback (most recent call last)",
      "Cell \u001b[0;32mIn[13], line 1\u001b[0m\n\u001b[0;32m----> 1\u001b[0m m1 \u001b[38;5;241m=\u001b[39m \u001b[43mMobile\u001b[49m\u001b[43m(\u001b[49m\u001b[38;5;28;43;01mTrue\u001b[39;49;00m\u001b[43m)\u001b[49m\n\u001b[1;32m      2\u001b[0m m1\u001b[38;5;241m.\u001b[39mdisplay_model_name()\n",
      "\u001b[0;31mTypeError\u001b[0m: Mobile.__init__() missing 1 required positional argument: 'model_name'"
     ]
    }
   ],
   "source": [
    "m1 = Mobile(True)\n",
    "m1.display_model_name()"
   ]
  },
  {
   "cell_type": "code",
   "execution_count": 4,
   "id": "d58e09f7",
   "metadata": {},
   "outputs": [],
   "source": [
    "# Lets do single inheritance Mobile inherits property of Computer"
   ]
  },
  {
   "cell_type": "code",
   "execution_count": 18,
   "id": "a4ae40b3",
   "metadata": {},
   "outputs": [],
   "source": [
    "class Computer:\n",
    "    def __init__(self, model_name):\n",
    "        self.model_name = model_name\n",
    "        \n",
    "    def display_model_name(self):\n",
    "        print(f\"Your model name is {self.model_name}\") # step 1: computer lai mobile vitra pass garne so argument ma halne\n",
    "        \n",
    "class Mobile(Computer):\n",
    "    def __init__(self, has_flash,model_name):\n",
    "        self.has_flash = has_flash\n",
    "        super().__init__(model_name)  #step 2:super lekhera arko parameter halne mathi pani tala pani      "
   ]
  },
  {
   "cell_type": "code",
   "execution_count": 19,
   "id": "0abf534d",
   "metadata": {},
   "outputs": [],
   "source": [
    "m1 =Mobile(has_flash = True, model_name = \"iPhone 14 Pro Max\")"
   ]
  },
  {
   "cell_type": "code",
   "execution_count": 20,
   "id": "522f3c16",
   "metadata": {},
   "outputs": [
    {
     "name": "stdout",
     "output_type": "stream",
     "text": [
      "Your model name is iPhone 14 Pro Max\n"
     ]
    }
   ],
   "source": [
    "m1.display_model_name()"
   ]
  },
  {
   "cell_type": "code",
   "execution_count": 24,
   "id": "e4bc2ee5",
   "metadata": {},
   "outputs": [
    {
     "name": "stdout",
     "output_type": "stream",
     "text": [
      "Your mobile model name is iPhone 14 \n"
     ]
    }
   ],
   "source": [
    "class Computer:\n",
    "    def __init__(self, model_name):\n",
    "        self.model_name = model_name\n",
    "        \n",
    "    def display_model_name(self):\n",
    "        print(f\"Your model name is {self.model_name}\") \n",
    "        \n",
    "class Mobile(Computer):\n",
    "    def __init__(self, has_flash,model_name):\n",
    "        self.has_flash = has_flash\n",
    "        super().__init__(model_name)  \n",
    "    \n",
    "    # overriding the parent class method : polymorphism\n",
    "    def display_model_name(self):\n",
    "        print(f\"Your mobile model name is {self.model_name}\") \n",
    "        \n",
    "m1 =Mobile(has_flash = True, model_name = \"iPhone 14 \")\n",
    "m1.display_model_name()\n",
    "\n",
    "# tala print ma aafnai mobile ko function ko print vako xa mobila sanga paisa xa vane aprent(computer) lai magnu pardaina"
   ]
  },
  {
   "cell_type": "markdown",
   "id": "e6000f4a",
   "metadata": {},
   "source": [
    "# Multiple \n",
    " \n",
    " 2- parents one child"
   ]
  },
  {
   "cell_type": "code",
   "execution_count": 29,
   "id": "538a322d",
   "metadata": {},
   "outputs": [],
   "source": [
    "class Father:\n",
    "    def __init__(self, fname):\n",
    "        self.fname = fname\n",
    "\n",
    "class Mother:\n",
    "    def __init__(self, mname):\n",
    "        self.mname = mname\n",
    "        \n",
    "class Child(Father, Mother):\n",
    "    def __init__(self, cname, fname, mname): #super le euta matra chinxa so yesma super use garna mildaina cuz 2 parents so naam tokera super use garnu parxa like  one is fala\n",
    "        self.cname = cname\n",
    "        Father.__init__(self, fname)\n",
    "        Mother.__init__(self, mname)\n",
    "    "
   ]
  },
  {
   "cell_type": "code",
   "execution_count": 31,
   "id": "23497c55",
   "metadata": {},
   "outputs": [],
   "source": [
    "c1 = Child(cname = 'Lov-Kush', fname = 'Ram', mname = 'Sita')"
   ]
  },
  {
   "cell_type": "code",
   "execution_count": 32,
   "id": "e2398d38",
   "metadata": {},
   "outputs": [
    {
     "data": {
      "text/plain": [
       "'Ram'"
      ]
     },
     "execution_count": 32,
     "metadata": {},
     "output_type": "execute_result"
    }
   ],
   "source": [
    "c1.fname"
   ]
  },
  {
   "cell_type": "code",
   "execution_count": 33,
   "id": "bcb792f4",
   "metadata": {},
   "outputs": [
    {
     "data": {
      "text/plain": [
       "'Sita'"
      ]
     },
     "execution_count": 33,
     "metadata": {},
     "output_type": "execute_result"
    }
   ],
   "source": [
    "c1.mname"
   ]
  },
  {
   "cell_type": "code",
   "execution_count": 34,
   "id": "b413d8e5",
   "metadata": {},
   "outputs": [
    {
     "data": {
      "text/plain": [
       "'Lov-Kush'"
      ]
     },
     "execution_count": 34,
     "metadata": {},
     "output_type": "execute_result"
    }
   ],
   "source": [
    "c1.cname"
   ]
  },
  {
   "cell_type": "markdown",
   "id": "af74a752",
   "metadata": {},
   "source": [
    "# Multi-level inheritance"
   ]
  },
  {
   "cell_type": "code",
   "execution_count": 38,
   "id": "0dd12853",
   "metadata": {},
   "outputs": [],
   "source": [
    "class GrandFather:\n",
    "    \n",
    "    def __init__(self, gname):\n",
    "        self.gname = gname\n",
    "    \n",
    "    def g_say(self):\n",
    "        print(\"Nati or Natini\")\n",
    "        \n",
    "class Father(GrandFather):\n",
    "    def __init__(self, fname, gname):\n",
    "        self.fname = fname\n",
    "        GrandFather.__init__(self, gname)\n",
    "        \n",
    "class Child(Father):\n",
    "    def __init__(self, cname, fname, gname):\n",
    "        self.cname = cname\n",
    "        Father.__init__(self, fname, gname)\n",
    "        \n",
    "    "
   ]
  },
  {
   "cell_type": "code",
   "execution_count": 39,
   "id": "274c8288",
   "metadata": {},
   "outputs": [
    {
     "name": "stdout",
     "output_type": "stream",
     "text": [
      "Nati or Natini\n"
     ]
    }
   ],
   "source": [
    "c1 = Child(cname = \"Lov-Kush\", fname = 'Ram', gname = 'Dasharath')\n",
    "c1.g_say()"
   ]
  },
  {
   "cell_type": "markdown",
   "id": "c165706c",
   "metadata": {},
   "source": [
    "how do you acess parent members in the child class?\n",
    "* by using parent class name : you can use the name of the parent class to acess the attributes\n",
    "* by using super() : The parent class members can be acessed in child class using the super keyword\n",
    "\n",
    "single ma super"
   ]
  },
  {
   "cell_type": "code",
   "execution_count": null,
   "id": "79719e2d",
   "metadata": {},
   "outputs": [],
   "source": []
  }
 ],
 "metadata": {
  "kernelspec": {
   "display_name": "Python 3 (ipykernel)",
   "language": "python",
   "name": "python3"
  },
  "language_info": {
   "codemirror_mode": {
    "name": "ipython",
    "version": 3
   },
   "file_extension": ".py",
   "mimetype": "text/x-python",
   "name": "python",
   "nbconvert_exporter": "python",
   "pygments_lexer": "ipython3",
   "version": "3.10.11"
  }
 },
 "nbformat": 4,
 "nbformat_minor": 5
}
