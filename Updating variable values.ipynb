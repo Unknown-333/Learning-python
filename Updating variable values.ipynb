{
 "cells": [
  {
   "cell_type": "code",
   "execution_count": 1,
   "id": "ca3647b3",
   "metadata": {},
   "outputs": [
    {
     "name": "stdout",
     "output_type": "stream",
     "text": [
      "Before breakfast weight = 60.5\n",
      "After breakfast weight = 61.0\n"
     ]
    }
   ],
   "source": [
    "weight = 60.5\n",
    "print(f\"Before breakfast weight = {weight}\")\n",
    "\n",
    "weight = weight + 0.5\n",
    "print(f\"After breakfast weight = {weight}\")"
   ]
  },
  {
   "cell_type": "markdown",
   "id": "b60857ec",
   "metadata": {},
   "source": [
    "# assigning multiple values to multiple variables "
   ]
  },
  {
   "cell_type": "code",
   "execution_count": 2,
   "id": "77dc6fac",
   "metadata": {},
   "outputs": [],
   "source": [
    "a = 2\n",
    "b = 0.3\n",
    "c = 0.5+0.1j"
   ]
  },
  {
   "cell_type": "code",
   "execution_count": 3,
   "id": "e54356cc",
   "metadata": {},
   "outputs": [
    {
     "data": {
      "text/plain": [
       "2"
      ]
     },
     "execution_count": 3,
     "metadata": {},
     "output_type": "execute_result"
    }
   ],
   "source": [
    "a"
   ]
  },
  {
   "cell_type": "code",
   "execution_count": 4,
   "id": "d40ff164",
   "metadata": {},
   "outputs": [
    {
     "data": {
      "text/plain": [
       "0.3"
      ]
     },
     "execution_count": 4,
     "metadata": {},
     "output_type": "execute_result"
    }
   ],
   "source": [
    "b"
   ]
  },
  {
   "cell_type": "code",
   "execution_count": 5,
   "id": "3094e854",
   "metadata": {},
   "outputs": [
    {
     "data": {
      "text/plain": [
       "(0.5+0.1j)"
      ]
     },
     "execution_count": 5,
     "metadata": {},
     "output_type": "execute_result"
    }
   ],
   "source": [
    "c"
   ]
  },
  {
   "cell_type": "code",
   "execution_count": 7,
   "id": "897bf04f",
   "metadata": {},
   "outputs": [],
   "source": [
    "a, b, c = 2, 0.3 , 0.5+0.1j #ssigning multiple values to multiple variables"
   ]
  },
  {
   "cell_type": "code",
   "execution_count": 8,
   "id": "cf0c839e",
   "metadata": {},
   "outputs": [
    {
     "data": {
      "text/plain": [
       "int"
      ]
     },
     "execution_count": 8,
     "metadata": {},
     "output_type": "execute_result"
    }
   ],
   "source": [
    "type(a)"
   ]
  },
  {
   "cell_type": "code",
   "execution_count": 9,
   "id": "e1ee8843",
   "metadata": {},
   "outputs": [
    {
     "data": {
      "text/plain": [
       "float"
      ]
     },
     "execution_count": 9,
     "metadata": {},
     "output_type": "execute_result"
    }
   ],
   "source": [
    "type(b)"
   ]
  },
  {
   "cell_type": "code",
   "execution_count": 10,
   "id": "9b335045",
   "metadata": {},
   "outputs": [
    {
     "data": {
      "text/plain": [
       "complex"
      ]
     },
     "execution_count": 10,
     "metadata": {},
     "output_type": "execute_result"
    }
   ],
   "source": [
    "type(c)"
   ]
  },
  {
   "cell_type": "code",
   "execution_count": 11,
   "id": "7652d887",
   "metadata": {},
   "outputs": [
    {
     "data": {
      "text/plain": [
       "str"
      ]
     },
     "execution_count": 11,
     "metadata": {},
     "output_type": "execute_result"
    }
   ],
   "source": [
    "name = \"Aayush\"\n",
    "type(name)"
   ]
  },
  {
   "cell_type": "code",
   "execution_count": 12,
   "id": "ea6645ee",
   "metadata": {},
   "outputs": [
    {
     "data": {
      "text/plain": [
       "True"
      ]
     },
     "execution_count": 12,
     "metadata": {},
     "output_type": "execute_result"
    }
   ],
   "source": [
    "isinstance(name, str)"
   ]
  },
  {
   "cell_type": "code",
   "execution_count": 13,
   "id": "4793bb48",
   "metadata": {},
   "outputs": [
    {
     "data": {
      "text/plain": [
       "False"
      ]
     },
     "execution_count": 13,
     "metadata": {},
     "output_type": "execute_result"
    }
   ],
   "source": [
    "isinstance(name, float)"
   ]
  },
  {
   "cell_type": "code",
   "execution_count": 14,
   "id": "e99b1bce",
   "metadata": {},
   "outputs": [],
   "source": [
    "# True and False are boolean in python"
   ]
  },
  {
   "cell_type": "markdown",
   "id": "6422312c",
   "metadata": {},
   "source": [
    " # Data types in python\n",
    " \n",
    " Numeric Types:\n",
    "\n",
    "int: Integer values like 5, -2, 100.\n",
    "float: Floating-point values like 3.14, -0.5, 2.0.\n",
    "Sequence Types:\n",
    "\n",
    "str: A string of characters like \"hello\", \"Python\", \"42\".\n",
    "list: An ordered collection of items like [1, 2, 3], [\"apple\", \"banana\", \"orange\"].\n",
    "tuple: An immutable ordered collection of items like (1, 2, 3), (\"a\", \"b\", \"c\").\n",
    "Mapping Type:\n",
    "\n",
    "dict: A collection of key-value pairs like {\"name\": \"John\", \"age\": 30, \"city\": \"New York\"}.\n",
    "Set Types:\n",
    "\n",
    "set: An unordered collection of unique items like {1, 2, 3, 4}.\n",
    "Boolean Type:\n",
    "\n",
    "bool: Represents truth values True or False.\n",
    "None Type:\n",
    "\n",
    "None: Represents the absence of a value or null."
   ]
  },
  {
   "cell_type": "markdown",
   "id": "efefb2af",
   "metadata": {},
   "source": [
    "built in data types in python are tuple, list, set and dictionary"
   ]
  },
  {
   "cell_type": "code",
   "execution_count": null,
   "id": "acb462f6",
   "metadata": {},
   "outputs": [],
   "source": []
  }
 ],
 "metadata": {
  "kernelspec": {
   "display_name": "Python 3 (ipykernel)",
   "language": "python",
   "name": "python3"
  },
  "language_info": {
   "codemirror_mode": {
    "name": "ipython",
    "version": 3
   },
   "file_extension": ".py",
   "mimetype": "text/x-python",
   "name": "python",
   "nbconvert_exporter": "python",
   "pygments_lexer": "ipython3",
   "version": "3.10.11"
  }
 },
 "nbformat": 4,
 "nbformat_minor": 5
}
