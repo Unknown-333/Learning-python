{
 "cells": [
  {
   "cell_type": "code",
   "execution_count": 3,
   "id": "63869cfa",
   "metadata": {},
   "outputs": [
    {
     "data": {
      "text/plain": [
       "True"
      ]
     },
     "execution_count": 3,
     "metadata": {},
     "output_type": "execute_result"
    }
   ],
   "source": [
    "msg1 = 'hello'\n",
    "msg2 = \"hello\"\n",
    "msg1 == msg2"
   ]
  },
  {
   "cell_type": "code",
   "execution_count": 5,
   "id": "0c0114fc",
   "metadata": {},
   "outputs": [],
   "source": [
    "assert msg1 == msg2"
   ]
  },
  {
   "cell_type": "code",
   "execution_count": 7,
   "id": "6b9a6e4d",
   "metadata": {},
   "outputs": [
    {
     "data": {
      "text/plain": [
       "False"
      ]
     },
     "execution_count": 7,
     "metadata": {},
     "output_type": "execute_result"
    }
   ],
   "source": [
    "msg1 = 'hello'\n",
    "msg2 = \"Hello\"\n",
    "msg1 == msg2"
   ]
  },
  {
   "cell_type": "code",
   "execution_count": 8,
   "id": "3d3356a5",
   "metadata": {},
   "outputs": [
    {
     "ename": "AssertionError",
     "evalue": "",
     "output_type": "error",
     "traceback": [
      "\u001b[0;31m---------------------------------------------------------------------------\u001b[0m",
      "\u001b[0;31mAssertionError\u001b[0m                            Traceback (most recent call last)",
      "Cell \u001b[0;32mIn[8], line 1\u001b[0m\n\u001b[0;32m----> 1\u001b[0m \u001b[38;5;28;01massert\u001b[39;00m msg1 \u001b[38;5;241m==\u001b[39m msg2 \u001b[38;5;66;03m#assert ccan be used in debugging\u001b[39;00m\n",
      "\u001b[0;31mAssertionError\u001b[0m: "
     ]
    }
   ],
   "source": [
    "assert msg1 == msg2 #assert ccan be used in debugging"
   ]
  },
  {
   "cell_type": "markdown",
   "id": "38404b94",
   "metadata": {},
   "source": [
    "# Single line string and Multiline string"
   ]
  },
  {
   "cell_type": "code",
   "execution_count": 10,
   "id": "a37c3129",
   "metadata": {},
   "outputs": [],
   "source": [
    "# single linr string\n",
    "speech = 'My name is Aayush.''"
   ]
  },
  {
   "cell_type": "code",
   "execution_count": 11,
   "id": "73e9750b",
   "metadata": {},
   "outputs": [
    {
     "data": {
      "text/plain": [
       "'My name is Aayush.'"
      ]
     },
     "execution_count": 11,
     "metadata": {},
     "output_type": "execute_result"
    }
   ],
   "source": [
    "speech"
   ]
  },
  {
   "cell_type": "code",
   "execution_count": 12,
   "id": "d4fedde5",
   "metadata": {},
   "outputs": [
    {
     "ename": "IndentationError",
     "evalue": "unexpected indent (1462393247.py, line 2)",
     "output_type": "error",
     "traceback": [
      "\u001b[0;36m  Cell \u001b[0;32mIn[12], line 2\u001b[0;36m\u001b[0m\n\u001b[0;31m    speech = 'Suna Saili Saili Pardesh Bata Ma Aaula\u001b[0m\n\u001b[0m    ^\u001b[0m\n\u001b[0;31mIndentationError\u001b[0m\u001b[0;31m:\u001b[0m unexpected indent\n"
     ]
    }
   ],
   "source": [
    "# you cannot use one quotes in multiline string\n",
    " speech = 'Suna Saili Saili Pardesh Bata Ma Aaula\n",
    "Suna Saili Saili Chalis Katesi Ramaula\n",
    "Suna Saili Saili Pardesh Bata Ma Aaula\n",
    "Suna Saili Saili Chalis Katesi Ramaula'"
   ]
  },
  {
   "cell_type": "code",
   "execution_count": 17,
   "id": "bbad8e9a",
   "metadata": {},
   "outputs": [],
   "source": [
    "speech1 = ''' Suna Saili Saili Pardesh Bata Ma Aaula \n",
    "Suna Saili Saili Chalis Katesi Ramaula\n",
    "Suna Saili Saili Pardesh Bata Ma Aaula\n",
    "Suna Saili Saili Chalis Katesi Ramaula'''#multiline string lekhna tin ota quote agadi ra paxadI"
   ]
  },
  {
   "cell_type": "code",
   "execution_count": 18,
   "id": "740a76c3",
   "metadata": {},
   "outputs": [
    {
     "name": "stdout",
     "output_type": "stream",
     "text": [
      " Suna Saili Saili Pardesh Bata Ma Aaula \n",
      "Suna Saili Saili Chalis Katesi Ramaula\n",
      "Suna Saili Saili Pardesh Bata Ma Aaula\n",
      "Suna Saili Saili Chalis Katesi Ramaula\n"
     ]
    }
   ],
   "source": [
    "print (speech1)"
   ]
  },
  {
   "cell_type": "code",
   "execution_count": 19,
   "id": "2f8483be",
   "metadata": {},
   "outputs": [
    {
     "data": {
      "text/plain": [
       "' Suna Saili Saili Pardesh Bata Ma Aaula \\nSuna Saili Saili Chalis Katesi Ramaula\\nSuna Saili Saili Pardesh Bata Ma Aaula\\nSuna Saili Saili Chalis Katesi Ramaula'"
      ]
     },
     "execution_count": 19,
     "metadata": {},
     "output_type": "execute_result"
    }
   ],
   "source": [
    "speech1"
   ]
  },
  {
   "cell_type": "code",
   "execution_count": 20,
   "id": "2d23ab25",
   "metadata": {},
   "outputs": [],
   "source": [
    "s = 'hello world'"
   ]
  },
  {
   "cell_type": "code",
   "execution_count": 21,
   "id": "d29d3075",
   "metadata": {},
   "outputs": [
    {
     "data": {
      "text/plain": [
       "'h'"
      ]
     },
     "execution_count": 21,
     "metadata": {},
     "output_type": "execute_result"
    }
   ],
   "source": [
    "s[0] # this is known as indexing katne ra s bata h chahiho vane and indexing alwasy starts from 0"
   ]
  },
  {
   "cell_type": "code",
   "execution_count": 22,
   "id": "a5e606c4",
   "metadata": {},
   "outputs": [
    {
     "data": {
      "text/plain": [
       "'e'"
      ]
     },
     "execution_count": 22,
     "metadata": {},
     "output_type": "execute_result"
    }
   ],
   "source": [
    "s[1]"
   ]
  },
  {
   "cell_type": "code",
   "execution_count": 24,
   "id": "388833c4",
   "metadata": {},
   "outputs": [
    {
     "data": {
      "text/plain": [
       "' '"
      ]
     },
     "execution_count": 24,
     "metadata": {},
     "output_type": "execute_result"
    }
   ],
   "source": [
    "s[5]"
   ]
  },
  {
   "cell_type": "code",
   "execution_count": 25,
   "id": "a38c0409",
   "metadata": {},
   "outputs": [
    {
     "data": {
      "text/plain": [
       "'w'"
      ]
     },
     "execution_count": 25,
     "metadata": {},
     "output_type": "execute_result"
    }
   ],
   "source": [
    "s[6]"
   ]
  },
  {
   "cell_type": "code",
   "execution_count": 26,
   "id": "1a30a17b",
   "metadata": {},
   "outputs": [
    {
     "data": {
      "text/plain": [
       "'d'"
      ]
     },
     "execution_count": 26,
     "metadata": {},
     "output_type": "execute_result"
    }
   ],
   "source": [
    "s[10]"
   ]
  },
  {
   "cell_type": "code",
   "execution_count": 28,
   "id": "a0ce2923",
   "metadata": {},
   "outputs": [
    {
     "ename": "IndexError",
     "evalue": "string index out of range",
     "output_type": "error",
     "traceback": [
      "\u001b[0;31m---------------------------------------------------------------------------\u001b[0m",
      "\u001b[0;31mIndexError\u001b[0m                                Traceback (most recent call last)",
      "Cell \u001b[0;32mIn[28], line 1\u001b[0m\n\u001b[0;32m----> 1\u001b[0m \u001b[43ms\u001b[49m\u001b[43m[\u001b[49m\u001b[38;5;241;43m11\u001b[39;49m\u001b[43m]\u001b[49m \u001b[38;5;66;03m# range 10 samma matra ho\u001b[39;00m\n",
      "\u001b[0;31mIndexError\u001b[0m: string index out of range"
     ]
    }
   ],
   "source": [
    "s[11] # range 10 samma matra ho"
   ]
  },
  {
   "cell_type": "markdown",
   "id": "8e178cde",
   "metadata": {},
   "source": [
    " hello world  ma o matra chahiyo vane indexing tara o ra r chahiyo vane slicing"
   ]
  },
  {
   "cell_type": "code",
   "execution_count": 31,
   "id": "912e83bc",
   "metadata": {},
   "outputs": [
    {
     "data": {
      "text/plain": [
       "'or'"
      ]
     },
     "execution_count": 31,
     "metadata": {},
     "output_type": "execute_result"
    }
   ],
   "source": [
    "s[7:9] #9 lekheko kina vane '9' last ko value lidaina"
   ]
  },
  {
   "cell_type": "code",
   "execution_count": 32,
   "id": "a0bc27c9",
   "metadata": {},
   "outputs": [
    {
     "data": {
      "text/plain": [
       "'ello'"
      ]
     },
     "execution_count": 32,
     "metadata": {},
     "output_type": "execute_result"
    }
   ],
   "source": [
    "s[1:5]"
   ]
  },
  {
   "cell_type": "code",
   "execution_count": 33,
   "id": "78541a85",
   "metadata": {},
   "outputs": [
    {
     "data": {
      "text/plain": [
       "range(0, 10)"
      ]
     },
     "execution_count": 33,
     "metadata": {},
     "output_type": "execute_result"
    }
   ],
   "source": [
    "range(0,10,1)"
   ]
  },
  {
   "cell_type": "code",
   "execution_count": 34,
   "id": "a8d199bd",
   "metadata": {},
   "outputs": [
    {
     "data": {
      "text/plain": [
       "[0, 1, 2, 3, 4, 5, 6, 7, 8, 9, 10]"
      ]
     },
     "execution_count": 34,
     "metadata": {},
     "output_type": "execute_result"
    }
   ],
   "source": [
    "list(range(0,len(s),1))"
   ]
  },
  {
   "cell_type": "code",
   "execution_count": 36,
   "id": "8c81e4bb",
   "metadata": {},
   "outputs": [
    {
     "name": "stdout",
     "output_type": "stream",
     "text": [
      "0\n",
      "1\n",
      "2\n",
      "3\n",
      "4\n",
      "5\n",
      "6\n",
      "7\n",
      "8\n",
      "9\n",
      "10\n"
     ]
    }
   ],
   "source": [
    "for index in range(0,len(s),1):\n",
    "    print(index)"
   ]
  },
  {
   "cell_type": "code",
   "execution_count": 37,
   "id": "d2f8d80f",
   "metadata": {},
   "outputs": [
    {
     "name": "stdout",
     "output_type": "stream",
     "text": [
      "0\n",
      "2\n",
      "4\n",
      "6\n",
      "8\n",
      "10\n"
     ]
    }
   ],
   "source": [
    "for index in range(0,len(s),2):\n",
    "    print(index)"
   ]
  },
  {
   "cell_type": "code",
   "execution_count": 38,
   "id": "14ee50a0",
   "metadata": {},
   "outputs": [
    {
     "name": "stdout",
     "output_type": "stream",
     "text": [
      "0\n",
      "1\n",
      "2\n",
      "3\n",
      "4\n",
      "5\n",
      "6\n",
      "7\n",
      "8\n",
      "9\n",
      "10\n"
     ]
    }
   ],
   "source": [
    "for index in range(0,len(s)):\n",
    "    print(index)"
   ]
  },
  {
   "cell_type": "code",
   "execution_count": 21,
   "id": "6601be7c",
   "metadata": {},
   "outputs": [
    {
     "name": "stdout",
     "output_type": "stream",
     "text": [
      "Enter a string: aayush\n",
      "Number of consonants: 3\n",
      "Number of vowels: 3\n",
      "Consonants:\n",
      "y at index 2\n",
      "s at index 4\n",
      "h at index 5\n",
      "Vowels:\n",
      "a at index 0\n",
      "a at index 1\n",
      "u at index 3\n"
     ]
    }
   ],
   "source": [
    "# to find vowel and consonanr\n",
    "def count_and_print_consonants_vowels(string):\n",
    "    consonants = 0\n",
    "    vowels = 0\n",
    "\n",
    "    for char in string:\n",
    "        if char.isalpha():\n",
    "            if char.lower() in 'aeiou':\n",
    "                vowels += 1\n",
    "            else:\n",
    "                consonants += 1\n",
    "\n",
    "    print(\"Number of consonants:\", consonants)\n",
    "    print(\"Number of vowels:\", vowels)\n",
    "\n",
    "    print(\"Consonants:\")\n",
    "    for i in range(len(string)):\n",
    "        if string[i].isalpha() and string[i].lower() not in 'aeiou':\n",
    "            print(string[i], \"at index\", i)\n",
    "\n",
    "    print(\"Vowels:\")\n",
    "    for i in range(len(string)):\n",
    "        if string[i].isalpha() and string[i].lower() in 'aeiou':\n",
    "            print(string[i], \"at index\", i)\n",
    "\n",
    "\n",
    "user_input = input(\"Enter a string: \")\n",
    "\n",
    "count_and_print_consonants_vowels(user_input)\n"
   ]
  },
  {
   "cell_type": "code",
   "execution_count": 10,
   "id": "33c1a166",
   "metadata": {},
   "outputs": [
    {
     "name": "stdout",
     "output_type": "stream",
     "text": [
      "0 h\n",
      "1 e\n",
      "2 l\n",
      "3 l\n",
      "4 o\n",
      "5  \n",
      "6 w\n",
      "7 o\n",
      "8 r\n",
      "9 l\n",
      "10 d\n"
     ]
    }
   ],
   "source": [
    "for index in range(0,len(s),1):\n",
    "    print(index,s[index])\n",
    "    "
   ]
  },
  {
   "cell_type": "markdown",
   "id": "5f0b37b0",
   "metadata": {},
   "source": [
    "# to find and print consonant and vowel"
   ]
  },
  {
   "cell_type": "code",
   "execution_count": 44,
   "id": "cbf8759c",
   "metadata": {},
   "outputs": [
    {
     "name": "stdout",
     "output_type": "stream",
     "text": [
      "Enter any word of your choice : aayush paudel\n",
      "The vowel is  a at index 0\n",
      "The vowel is  a at index 1\n",
      "The consonant is y at index 2\n",
      "The vowel is  u at index 3\n",
      "The consonant is s at index 4\n",
      "The consonant is h at index 5\n",
      "The consonant is   at index 6\n",
      "The consonant is p at index 7\n",
      "The vowel is  a at index 8\n",
      "The vowel is  u at index 9\n",
      "The consonant is d at index 10\n",
      "The vowel is  e at index 11\n",
      "The consonant is l at index 12\n",
      "The number os consonants is 7 and the number of vowel in given word aayush paudel is 6\n"
     ]
    }
   ],
   "source": [
    "#string= 'Aayush'\n",
    "string = str(input(\"Enter any word of your choice : \")) #[space character etc lekhyo vane kam gardaina]\n",
    "string = string.lower()\n",
    "consonant = 0\n",
    "vowel = 0\n",
    "for i in range(0,len(string),1): #or just in range(len(string))\n",
    "    if (string[i]=='a' or string[i]=='e'or string[i]=='i'or string[i]=='o' or string[i]=='u'): # or just write if string[i] in 'aeiou':\n",
    "        print(\"The vowel is \",string[i],\"at index\",i)\n",
    "        vowel = vowel + 1\n",
    "    elif i == \" \":\n",
    "        continue    \n",
    "    else:\n",
    "        print(\"The consonant is\",string[i],\"at index\",i)\n",
    "        consonant = consonant + 1\n",
    "print(f\"The number os consonants is {consonant} and the number of vowel in given word {string} is {vowel}\")"
   ]
  },
  {
   "cell_type": "code",
   "execution_count": 33,
   "id": "f07703c3",
   "metadata": {},
   "outputs": [
    {
     "name": "stdout",
     "output_type": "stream",
     "text": [
      "d 10\n",
      "l 9\n",
      "r 8\n",
      "o 7\n",
      "w 6\n",
      "  5\n",
      "o 4\n",
      "l 3\n",
      "l 2\n",
      "e 1\n",
      "h 0\n"
     ]
    }
   ],
   "source": [
    "s = 'hello world'\n",
    "\n",
    "for i in range(len(s)-1, -1, -1):\n",
    "    print(s[i],i)"
   ]
  },
  {
   "cell_type": "markdown",
   "id": "18411f99",
   "metadata": {},
   "source": [
    "# check vowel and consonant [sir method]"
   ]
  },
  {
   "cell_type": "code",
   "execution_count": 34,
   "id": "1ba89b6b",
   "metadata": {},
   "outputs": [],
   "source": [
    "s = \"ma timro hari bahadur\""
   ]
  },
  {
   "cell_type": "code",
   "execution_count": 35,
   "id": "9727e79e",
   "metadata": {},
   "outputs": [
    {
     "name": "stdout",
     "output_type": "stream",
     "text": [
      "The letter m is consonant\n",
      "the letter a is vowel \n",
      "The letter   is consonant\n",
      "The letter t is consonant\n",
      "the letter i is vowel \n",
      "The letter m is consonant\n",
      "The letter r is consonant\n",
      "the letter o is vowel \n",
      "The letter   is consonant\n",
      "The letter h is consonant\n",
      "the letter a is vowel \n",
      "The letter r is consonant\n",
      "the letter i is vowel \n",
      "The letter   is consonant\n",
      "The letter b is consonant\n",
      "the letter a is vowel \n",
      "The letter h is consonant\n",
      "the letter a is vowel \n",
      "The letter d is consonant\n",
      "the letter u is vowel \n",
      "The letter r is consonant\n"
     ]
    }
   ],
   "source": [
    "for i in s:\n",
    "    if i == 'a' or i == 'e' or i == 'i' or i == 'o' or i == 'u':\n",
    "        print(f\"the letter {i} is vowel \")\n",
    "    else:\n",
    "        print(f\"The letter {i} is consonant\")\n"
   ]
  },
  {
   "cell_type": "markdown",
   "id": "da182981",
   "metadata": {},
   "source": [
    "# Break vs Continue statement"
   ]
  },
  {
   "cell_type": "code",
   "execution_count": 37,
   "id": "30e3333e",
   "metadata": {},
   "outputs": [
    {
     "name": "stdout",
     "output_type": "stream",
     "text": [
      "The letter m is consonant\n",
      "the letter a is vowel \n",
      "The letter t is consonant\n",
      "the letter i is vowel \n",
      "The letter m is consonant\n",
      "The letter r is consonant\n",
      "the letter o is vowel \n",
      "The letter h is consonant\n",
      "the letter a is vowel \n",
      "The letter r is consonant\n",
      "the letter i is vowel \n",
      "The letter b is consonant\n",
      "the letter a is vowel \n",
      "The letter h is consonant\n",
      "the letter a is vowel \n",
      "The letter d is consonant\n",
      "the letter u is vowel \n",
      "The letter r is consonant\n"
     ]
    }
   ],
   "source": [
    "s = \"ma timro hari bahadur\"\n",
    "for i in s:\n",
    "    if i == 'a' or i == 'e' or i == 'i' or i == 'o' or i == 'u':\n",
    "        print(f\"the letter {i} is vowel \")\n",
    "    elif i == \" \":\n",
    "        continue\n",
    "        print(\"Yo print statement run hudaina\")\n",
    "        \n",
    "    else:\n",
    "        print(f\"The letter {i} is consonant\")"
   ]
  },
  {
   "cell_type": "code",
   "execution_count": 39,
   "id": "f30f5930",
   "metadata": {},
   "outputs": [
    {
     "name": "stdout",
     "output_type": "stream",
     "text": [
      "0\n",
      "1\n",
      "3\n",
      "4\n"
     ]
    }
   ],
   "source": [
    "for j in range(5):\n",
    "    if j == 2:\n",
    "        continue\n",
    "    print(j)        \n",
    "        "
   ]
  },
  {
   "cell_type": "code",
   "execution_count": 42,
   "id": "117eae68",
   "metadata": {},
   "outputs": [
    {
     "name": "stdout",
     "output_type": "stream",
     "text": [
      "0\n",
      "1\n",
      "loop break vayera for bahira aayo\n"
     ]
    }
   ],
   "source": [
    "for k in range(5):\n",
    "    if k == 2:\n",
    "        break\n",
    "    print(k)        \n",
    "print(\"loop break vayera for bahira aayo\")        "
   ]
  },
  {
   "cell_type": "code",
   "execution_count": null,
   "id": "a63a0bfb",
   "metadata": {},
   "outputs": [],
   "source": []
  }
 ],
 "metadata": {
  "kernelspec": {
   "display_name": "Python 3 (ipykernel)",
   "language": "python",
   "name": "python3"
  },
  "language_info": {
   "codemirror_mode": {
    "name": "ipython",
    "version": 3
   },
   "file_extension": ".py",
   "mimetype": "text/x-python",
   "name": "python",
   "nbconvert_exporter": "python",
   "pygments_lexer": "ipython3",
   "version": "3.10.11"
  }
 },
 "nbformat": 4,
 "nbformat_minor": 5
}
