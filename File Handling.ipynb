{
 "cells": [
  {
   "cell_type": "markdown",
   "id": "fa5b805d",
   "metadata": {},
   "source": [
    "File handling in Python includes:\n",
    "\n",
    "* creating,\n",
    "* opening, and\n",
    "* closing files\n",
    "\n",
    "While files are open, Python additionally allows performing various file operations, such as:\n",
    "\n",
    "* reading\n",
    "* writing, and\n",
    "* appending information"
   ]
  },
  {
   "cell_type": "markdown",
   "id": "f6fa0870",
   "metadata": {},
   "source": [
    "#  Opening afile"
   ]
  },
  {
   "cell_type": "code",
   "execution_count": 1,
   "id": "53d95bb9",
   "metadata": {},
   "outputs": [
    {
     "ename": "FileNotFoundError",
     "evalue": "[Errno 2] No such file or directory: 'student.txt'",
     "output_type": "error",
     "traceback": [
      "\u001b[0;31m---------------------------------------------------------------------------\u001b[0m",
      "\u001b[0;31mFileNotFoundError\u001b[0m                         Traceback (most recent call last)",
      "Cell \u001b[0;32mIn[1], line 1\u001b[0m\n\u001b[0;32m----> 1\u001b[0m file \u001b[38;5;241m=\u001b[39m \u001b[38;5;28;43mopen\u001b[39;49m\u001b[43m(\u001b[49m\u001b[38;5;124;43m\"\u001b[39;49m\u001b[38;5;124;43mstudent.txt\u001b[39;49m\u001b[38;5;124;43m\"\u001b[39;49m\u001b[43m)\u001b[49m\n",
      "File \u001b[0;32m/Library/Frameworks/Python.framework/Versions/3.10/lib/python3.10/site-packages/IPython/core/interactiveshell.py:284\u001b[0m, in \u001b[0;36m_modified_open\u001b[0;34m(file, *args, **kwargs)\u001b[0m\n\u001b[1;32m    277\u001b[0m \u001b[38;5;28;01mif\u001b[39;00m file \u001b[38;5;129;01min\u001b[39;00m {\u001b[38;5;241m0\u001b[39m, \u001b[38;5;241m1\u001b[39m, \u001b[38;5;241m2\u001b[39m}:\n\u001b[1;32m    278\u001b[0m     \u001b[38;5;28;01mraise\u001b[39;00m \u001b[38;5;167;01mValueError\u001b[39;00m(\n\u001b[1;32m    279\u001b[0m         \u001b[38;5;124mf\u001b[39m\u001b[38;5;124m\"\u001b[39m\u001b[38;5;124mIPython won\u001b[39m\u001b[38;5;124m'\u001b[39m\u001b[38;5;124mt let you open fd=\u001b[39m\u001b[38;5;132;01m{\u001b[39;00mfile\u001b[38;5;132;01m}\u001b[39;00m\u001b[38;5;124m by default \u001b[39m\u001b[38;5;124m\"\u001b[39m\n\u001b[1;32m    280\u001b[0m         \u001b[38;5;124m\"\u001b[39m\u001b[38;5;124mas it is likely to crash IPython. If you know what you are doing, \u001b[39m\u001b[38;5;124m\"\u001b[39m\n\u001b[1;32m    281\u001b[0m         \u001b[38;5;124m\"\u001b[39m\u001b[38;5;124myou can use builtins\u001b[39m\u001b[38;5;124m'\u001b[39m\u001b[38;5;124m open.\u001b[39m\u001b[38;5;124m\"\u001b[39m\n\u001b[1;32m    282\u001b[0m     )\n\u001b[0;32m--> 284\u001b[0m \u001b[38;5;28;01mreturn\u001b[39;00m \u001b[43mio_open\u001b[49m\u001b[43m(\u001b[49m\u001b[43mfile\u001b[49m\u001b[43m,\u001b[49m\u001b[43m \u001b[49m\u001b[38;5;241;43m*\u001b[39;49m\u001b[43margs\u001b[49m\u001b[43m,\u001b[49m\u001b[43m \u001b[49m\u001b[38;5;241;43m*\u001b[39;49m\u001b[38;5;241;43m*\u001b[39;49m\u001b[43mkwargs\u001b[49m\u001b[43m)\u001b[49m\n",
      "\u001b[0;31mFileNotFoundError\u001b[0m: [Errno 2] No such file or directory: 'student.txt'"
     ]
    }
   ],
   "source": [
    "file = open(\"student.txt\")"
   ]
  },
  {
   "cell_type": "code",
   "execution_count": 2,
   "id": "766ae6ec",
   "metadata": {},
   "outputs": [],
   "source": [
    "import os"
   ]
  },
  {
   "cell_type": "code",
   "execution_count": 3,
   "id": "8fad6da0",
   "metadata": {},
   "outputs": [
    {
     "data": {
      "text/plain": [
       "False"
      ]
     },
     "execution_count": 3,
     "metadata": {},
     "output_type": "execute_result"
    }
   ],
   "source": [
    "os.path.exists('student.txt') # yo path ma student.txt file exist gardaina"
   ]
  },
  {
   "cell_type": "markdown",
   "id": "f204a8ce",
   "metadata": {},
   "source": [
    "# Modes for file opening\n",
    "\n",
    "* read : `r`\n",
    "* write : `w`\n",
    "* append : `a`\n",
    "* create : `x`\n",
    "\n",
    "```python\n",
    "open(filename_or_filepath, mode)\n",
    "```"
   ]
  },
  {
   "cell_type": "code",
   "execution_count": 7,
   "id": "dd596b92",
   "metadata": {},
   "outputs": [],
   "source": [
    "try:\n",
    "    file = open(\"python800.txt\", 'r')\n",
    "    text = file.read()\n",
    "except FileNotFoundError  as e:\n",
    "    print(e)"
   ]
  },
  {
   "cell_type": "code",
   "execution_count": 8,
   "id": "98f48baf",
   "metadata": {},
   "outputs": [
    {
     "name": "stdout",
     "output_type": "stream",
     "text": [
      "Aayush\n",
      "Rushal\n",
      "Gaurab\n",
      "Kshitiz\n",
      "Bibek\n",
      "Aryadeep\n"
     ]
    }
   ],
   "source": [
    "print(text)"
   ]
  },
  {
   "cell_type": "code",
   "execution_count": 9,
   "id": "2d99d204",
   "metadata": {},
   "outputs": [],
   "source": [
    "try:\n",
    "    file = open(\"python800.txt\", 'r')\n",
    "    text = file.read()\n",
    "except FileNotFoundError  as e:\n",
    "    print(e)\n",
    "finally:\n",
    "    file.close()"
   ]
  },
  {
   "cell_type": "code",
   "execution_count": 10,
   "id": "27fe0010",
   "metadata": {},
   "outputs": [
    {
     "name": "stdout",
     "output_type": "stream",
     "text": [
      "Aayush\n",
      "Rushal\n",
      "Gaurab\n",
      "Kshitiz\n",
      "Bibek\n",
      "Aryadeep\n"
     ]
    }
   ],
   "source": [
    "print(text)"
   ]
  },
  {
   "cell_type": "code",
   "execution_count": 11,
   "id": "65901b44",
   "metadata": {},
   "outputs": [],
   "source": [
    "# alternative / preffered way\n",
    "with open('python800.txt', 'r') as file:\n",
    "    text = file.read()"
   ]
  },
  {
   "cell_type": "code",
   "execution_count": 12,
   "id": "8cbbd078",
   "metadata": {},
   "outputs": [
    {
     "name": "stdout",
     "output_type": "stream",
     "text": [
      "Aayush\n",
      "Rushal\n",
      "Gaurab\n",
      "Kshitiz\n",
      "Bibek\n",
      "Aryadeep\n"
     ]
    }
   ],
   "source": [
    "print(text)"
   ]
  },
  {
   "cell_type": "code",
   "execution_count": 13,
   "id": "6d808733",
   "metadata": {},
   "outputs": [],
   "source": [
    "# read first paragraph only\n",
    "with open('python800.txt', 'r') as file:\n",
    "    txt = file.readline() #\\n naauda samma matra read garxa"
   ]
  },
  {
   "cell_type": "code",
   "execution_count": 14,
   "id": "c3ac1671",
   "metadata": {},
   "outputs": [
    {
     "name": "stdout",
     "output_type": "stream",
     "text": [
      "Aayush\n",
      "\n"
     ]
    }
   ],
   "source": [
    "print(txt)"
   ]
  },
  {
   "cell_type": "code",
   "execution_count": 15,
   "id": "feeeff23",
   "metadata": {},
   "outputs": [],
   "source": [
    "with open('python800.txt', 'r') as file:\n",
    "    txt = file.readlines()"
   ]
  },
  {
   "cell_type": "code",
   "execution_count": 17,
   "id": "df17e5a7",
   "metadata": {},
   "outputs": [
    {
     "name": "stdout",
     "output_type": "stream",
     "text": [
      "['Aayush\\n', 'Rushal\\n', 'Gaurab\\n', 'Kshitiz\\n', 'Bibek\\n', 'Aryadeep']\n"
     ]
    }
   ],
   "source": [
    "print(txt)"
   ]
  },
  {
   "cell_type": "code",
   "execution_count": 18,
   "id": "f40e0600",
   "metadata": {},
   "outputs": [
    {
     "data": {
      "text/plain": [
       "'Aayush\\n'"
      ]
     },
     "execution_count": 18,
     "metadata": {},
     "output_type": "execute_result"
    }
   ],
   "source": [
    "txt[0]"
   ]
  },
  {
   "cell_type": "markdown",
   "id": "422fe801",
   "metadata": {},
   "source": [
    "# write mode\n",
    "* write mode le file exist gardaina vane naya banauxa\n",
    "* file exist garxa vane purano file hatayera naya file lekhxa, purano data loss huxna"
   ]
  },
  {
   "cell_type": "code",
   "execution_count": 20,
   "id": "1b417a31",
   "metadata": {},
   "outputs": [],
   "source": [
    "with open('write.txt', 'w') as file:\n",
    "    file.write(\"Yo file exist garthyena maile naya banaye using write mode\")"
   ]
  },
  {
   "cell_type": "code",
   "execution_count": 22,
   "id": "cd147ea9",
   "metadata": {},
   "outputs": [
    {
     "data": {
      "text/plain": [
       "True"
      ]
     },
     "execution_count": 22,
     "metadata": {},
     "output_type": "execute_result"
    }
   ],
   "source": [
    "os.path.exists(\"write.txt\")"
   ]
  },
  {
   "cell_type": "code",
   "execution_count": 23,
   "id": "d2cb021a",
   "metadata": {},
   "outputs": [
    {
     "data": {
      "text/plain": [
       "'Yo file exist garthyena maile naya banaye using write mode'"
      ]
     },
     "execution_count": 23,
     "metadata": {},
     "output_type": "execute_result"
    }
   ],
   "source": [
    "# whats inside write.txt?\n",
    "with open('write.txt', 'r') as file:\n",
    "    txt = file.read()\n",
    "txt"
   ]
  },
  {
   "cell_type": "code",
   "execution_count": 24,
   "id": "5de11083",
   "metadata": {},
   "outputs": [],
   "source": [
    "# yo write.txt xa pahilai maile feri naya banaae vane yo gayab huxna feri"
   ]
  },
  {
   "cell_type": "code",
   "execution_count": 25,
   "id": "c9096723",
   "metadata": {},
   "outputs": [],
   "source": [
    "with open(\"write.txt\", 'w') as file:\n",
    "    file.write(\"Yo file pailai exist garthyo data pani thiyo tara write mode le naya banayo\")"
   ]
  },
  {
   "cell_type": "code",
   "execution_count": 26,
   "id": "4a67eef4",
   "metadata": {},
   "outputs": [
    {
     "data": {
      "text/plain": [
       "'Yo file pailai exist garthyo data pani thiyo tara write mode le naya banayo'"
      ]
     },
     "execution_count": 26,
     "metadata": {},
     "output_type": "execute_result"
    }
   ],
   "source": [
    "with open('write.txt', 'r') as file:\n",
    "    txt = file.read()\n",
    "txt"
   ]
  },
  {
   "cell_type": "markdown",
   "id": "241189f6",
   "metadata": {},
   "source": [
    "# append mode\n",
    "* append mode le file exist gardaina vane naya banaunxa\n",
    "* file exist garxa vane purano mai append gardai janxa, data loss hudaina"
   ]
  },
  {
   "cell_type": "code",
   "execution_count": 27,
   "id": "28d0c33a",
   "metadata": {},
   "outputs": [],
   "source": [
    "with open('append.txt', 'a') as file:\n",
    "    file.write(\"1. Yo append.txt ho yo exist garthena, maile eslai naya banaye using 'a' mode. \")"
   ]
  },
  {
   "cell_type": "code",
   "execution_count": 28,
   "id": "5464e030",
   "metadata": {},
   "outputs": [
    {
     "data": {
      "text/plain": [
       "\"1. Yo append.txt ho yo exist garthena, maile eslai naya banaye using 'a' mode. \""
      ]
     },
     "execution_count": 28,
     "metadata": {},
     "output_type": "execute_result"
    }
   ],
   "source": [
    "with open('append.txt', 'r') as file:\n",
    "    txt = file.read()\n",
    "txt"
   ]
  },
  {
   "cell_type": "code",
   "execution_count": null,
   "id": "51a86ec0",
   "metadata": {},
   "outputs": [],
   "source": []
  }
 ],
 "metadata": {
  "kernelspec": {
   "display_name": "Python 3 (ipykernel)",
   "language": "python",
   "name": "python3"
  },
  "language_info": {
   "codemirror_mode": {
    "name": "ipython",
    "version": 3
   },
   "file_extension": ".py",
   "mimetype": "text/x-python",
   "name": "python",
   "nbconvert_exporter": "python",
   "pygments_lexer": "ipython3",
   "version": "3.10.11"
  }
 },
 "nbformat": 4,
 "nbformat_minor": 5
}
