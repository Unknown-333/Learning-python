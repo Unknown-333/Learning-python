{
 "cells": [
  {
   "cell_type": "markdown",
   "id": "8f6ff4da",
   "metadata": {},
   "source": [
    "# Dictionary\n",
    "* mapping data type\n",
    "* key : value pair\n",
    "* written in `{}` each `key:value` is seperated by comma\n",
    "* Keys cannot be duplicate"
   ]
  },
  {
   "cell_type": "markdown",
   "id": "996b4560",
   "metadata": {},
   "source": [
    "# Creating empty dictionary"
   ]
  },
  {
   "cell_type": "code",
   "execution_count": 1,
   "id": "7323f198",
   "metadata": {},
   "outputs": [],
   "source": [
    "about = {}"
   ]
  },
  {
   "cell_type": "code",
   "execution_count": 2,
   "id": "7c07d8a6",
   "metadata": {},
   "outputs": [
    {
     "data": {
      "text/plain": [
       "dict"
      ]
     },
     "execution_count": 2,
     "metadata": {},
     "output_type": "execute_result"
    }
   ],
   "source": [
    "type(about)"
   ]
  },
  {
   "cell_type": "code",
   "execution_count": 3,
   "id": "1ad35d14",
   "metadata": {},
   "outputs": [
    {
     "data": {
      "text/plain": [
       "dict"
      ]
     },
     "execution_count": 3,
     "metadata": {},
     "output_type": "execute_result"
    }
   ],
   "source": [
    "about = dict()\n",
    "type(about)"
   ]
  },
  {
   "cell_type": "code",
   "execution_count": 11,
   "id": "0b83491b",
   "metadata": {},
   "outputs": [],
   "source": [
    "a = {1: 'Aayush', 2: 'Bibek', 3:'Champa'} #integer can be keys"
   ]
  },
  {
   "cell_type": "code",
   "execution_count": 5,
   "id": "e30d2414",
   "metadata": {},
   "outputs": [
    {
     "data": {
      "text/plain": [
       "{1: 'Aayush', 2: 'Bibek', 3: 'Champa'}"
      ]
     },
     "execution_count": 5,
     "metadata": {},
     "output_type": "execute_result"
    }
   ],
   "source": [
    "a"
   ]
  },
  {
   "cell_type": "code",
   "execution_count": 10,
   "id": "6437510e",
   "metadata": {},
   "outputs": [],
   "source": [
    "student ={\n",
    "    \"name\": ['Bikash', 'Pranil', 'Nabin'] # string can be keys\n",
    "}"
   ]
  },
  {
   "cell_type": "code",
   "execution_count": 7,
   "id": "62f6b558",
   "metadata": {},
   "outputs": [
    {
     "data": {
      "text/plain": [
       "{'name': ['Bikash', 'Pranil', 'Nabin']}"
      ]
     },
     "execution_count": 7,
     "metadata": {},
     "output_type": "execute_result"
    }
   ],
   "source": [
    "student"
   ]
  },
  {
   "cell_type": "code",
   "execution_count": 9,
   "id": "aad0ecc2",
   "metadata": {},
   "outputs": [
    {
     "data": {
      "text/plain": [
       "{1.2: 88}"
      ]
     },
     "execution_count": 9,
     "metadata": {},
     "output_type": "execute_result"
    }
   ],
   "source": [
    "{1.2 : 88} #float can be keys"
   ]
  },
  {
   "cell_type": "code",
   "execution_count": 13,
   "id": "c3894a7e",
   "metadata": {},
   "outputs": [],
   "source": [
    "# tuple, list, set cannot be keys but can be values"
   ]
  },
  {
   "cell_type": "markdown",
   "id": "64468bf2",
   "metadata": {},
   "source": [
    "# Adding key value pair in dictionary"
   ]
  },
  {
   "cell_type": "code",
   "execution_count": 15,
   "id": "1fbe0572",
   "metadata": {},
   "outputs": [
    {
     "data": {
      "text/plain": [
       "{'name': 'Kshitiz'}"
      ]
     },
     "execution_count": 15,
     "metadata": {},
     "output_type": "execute_result"
    }
   ],
   "source": [
    "about = {'name': 'Kshitiz'}\n",
    "about"
   ]
  },
  {
   "cell_type": "code",
   "execution_count": 16,
   "id": "42e2d0d4",
   "metadata": {},
   "outputs": [],
   "source": [
    "about['teaches'] = ['Python', 'AI', 'DataScience']"
   ]
  },
  {
   "cell_type": "code",
   "execution_count": 17,
   "id": "437e5d84",
   "metadata": {},
   "outputs": [
    {
     "data": {
      "text/plain": [
       "{'name': 'Kshitiz', 'teaches': ['Python', 'AI', 'DataScience']}"
      ]
     },
     "execution_count": 17,
     "metadata": {},
     "output_type": "execute_result"
    }
   ],
   "source": [
    "about"
   ]
  },
  {
   "cell_type": "code",
   "execution_count": 18,
   "id": "8a7337d9",
   "metadata": {},
   "outputs": [],
   "source": [
    "# second method : use .update()"
   ]
  },
  {
   "cell_type": "code",
   "execution_count": 19,
   "id": "7e2efba9",
   "metadata": {},
   "outputs": [
    {
     "data": {
      "text/plain": [
       "{'name': 'Kshitiz', 'teaches': ['Python', 'AI', 'DataScience']}"
      ]
     },
     "execution_count": 19,
     "metadata": {},
     "output_type": "execute_result"
    }
   ],
   "source": [
    "about"
   ]
  },
  {
   "cell_type": "code",
   "execution_count": 23,
   "id": "bcecaa79",
   "metadata": {},
   "outputs": [],
   "source": [
    "about.update({'works at': 'Broadway'}) #update vitra dictionary pass garnu parxa"
   ]
  },
  {
   "cell_type": "code",
   "execution_count": 22,
   "id": "9769413e",
   "metadata": {},
   "outputs": [
    {
     "data": {
      "text/plain": [
       "{'name': 'Kshitiz',\n",
       " 'teaches': ['Python', 'AI', 'DataScience'],\n",
       " 'works at': 'Broadway'}"
      ]
     },
     "execution_count": 22,
     "metadata": {},
     "output_type": "execute_result"
    }
   ],
   "source": [
    "about"
   ]
  },
  {
   "cell_type": "code",
   "execution_count": 25,
   "id": "407d30b8",
   "metadata": {},
   "outputs": [
    {
     "name": "stdout",
     "output_type": "stream",
     "text": [
      "Enter the number of countries: 2\n",
      "Enter country: Nepal\n",
      "Enter capital: Kathmandu\n",
      "Enter country: Romania\n",
      "Enter capital: Bucharest\n",
      "Country-Capital Dictionary: {'Nepal': 'Kathmandu', 'Romania': 'Bucharest'}\n"
     ]
    }
   ],
   "source": [
    "country = {}\n",
    "num = int(input(\"Enter the number of countries: \"))\n",
    "for i in range(num):\n",
    "    country_name = input(\"Enter country: \")\n",
    "    capital = input(\"Enter capital: \")\n",
    "    country.update({country_name: capital})\n",
    "print(\"Dictionary:\",country)    "
   ]
  },
  {
   "cell_type": "code",
   "execution_count": 31,
   "id": "3843fef2",
   "metadata": {},
   "outputs": [],
   "source": [
    "# if key or dictionary already exists, updates the value of existing key"
   ]
  },
  {
   "cell_type": "code",
   "execution_count": 27,
   "id": "95e46cac",
   "metadata": {},
   "outputs": [],
   "source": [
    "d = {'Netflix': 5000000}"
   ]
  },
  {
   "cell_type": "code",
   "execution_count": 29,
   "id": "a962d1e2",
   "metadata": {},
   "outputs": [],
   "source": [
    "d.update({'Netflix': 200})"
   ]
  },
  {
   "cell_type": "code",
   "execution_count": 30,
   "id": "4121279b",
   "metadata": {},
   "outputs": [
    {
     "data": {
      "text/plain": [
       "{'Netflix': 200}"
      ]
     },
     "execution_count": 30,
     "metadata": {},
     "output_type": "execute_result"
    }
   ],
   "source": [
    "d"
   ]
  },
  {
   "cell_type": "code",
   "execution_count": 32,
   "id": "d91adb84",
   "metadata": {},
   "outputs": [],
   "source": [
    "# update le key exist gardaina vane naya key:value pair halxa\n",
    "# if exist garxa vane value update garxa"
   ]
  },
  {
   "cell_type": "code",
   "execution_count": 35,
   "id": "93f0b0e2",
   "metadata": {},
   "outputs": [
    {
     "data": {
      "text/plain": [
       "{'Netflix': 600}"
      ]
     },
     "execution_count": 35,
     "metadata": {},
     "output_type": "execute_result"
    }
   ],
   "source": [
    "d = {'Netflix': 5000000}\n",
    "d['Netflix'] = 600        # key already exist garxa so value change hunxa\n",
    "d"
   ]
  },
  {
   "cell_type": "markdown",
   "id": "7576524e",
   "metadata": {},
   "source": [
    "# Accessing value of a key in a dictionary"
   ]
  },
  {
   "cell_type": "code",
   "execution_count": 37,
   "id": "52859fe8",
   "metadata": {},
   "outputs": [],
   "source": [
    "about = {\n",
    "    'name': 'Kshitiz',\n",
    "    'age' : 26,\n",
    "    'teaches': ['Python', 'AI', 'ML'],\n",
    "    'works at': 'Broadway'}"
   ]
  },
  {
   "cell_type": "code",
   "execution_count": 40,
   "id": "fa3e9397",
   "metadata": {},
   "outputs": [
    {
     "name": "stdout",
     "output_type": "stream",
     "text": [
      "26\n"
     ]
    }
   ],
   "source": [
    "print(about['age']) # one method"
   ]
  },
  {
   "cell_type": "code",
   "execution_count": 39,
   "id": "a09c0118",
   "metadata": {},
   "outputs": [
    {
     "data": {
      "text/plain": [
       "['Python', 'AI', 'ML']"
      ]
     },
     "execution_count": 39,
     "metadata": {},
     "output_type": "execute_result"
    }
   ],
   "source": [
    "about['teaches']"
   ]
  },
  {
   "cell_type": "code",
   "execution_count": 42,
   "id": "fd9b74fd",
   "metadata": {},
   "outputs": [
    {
     "data": {
      "text/plain": [
       "['Python', 'AI', 'ML']"
      ]
     },
     "execution_count": 42,
     "metadata": {},
     "output_type": "execute_result"
    }
   ],
   "source": [
    "about.get('teaches') # other method\n"
   ]
  },
  {
   "cell_type": "code",
   "execution_count": 43,
   "id": "478c5ea2",
   "metadata": {},
   "outputs": [
    {
     "ename": "KeyError",
     "evalue": "'gender'",
     "output_type": "error",
     "traceback": [
      "\u001b[0;31m---------------------------------------------------------------------------\u001b[0m",
      "\u001b[0;31mKeyError\u001b[0m                                  Traceback (most recent call last)",
      "Cell \u001b[0;32mIn[43], line 1\u001b[0m\n\u001b[0;32m----> 1\u001b[0m \u001b[43mabout\u001b[49m\u001b[43m[\u001b[49m\u001b[38;5;124;43m'\u001b[39;49m\u001b[38;5;124;43mgender\u001b[39;49m\u001b[38;5;124;43m'\u001b[39;49m\u001b[43m]\u001b[49m\n",
      "\u001b[0;31mKeyError\u001b[0m: 'gender'"
     ]
    }
   ],
   "source": [
    "about['gender'] # navako key khojera paidaina"
   ]
  },
  {
   "cell_type": "code",
   "execution_count": 45,
   "id": "cba938f1",
   "metadata": {},
   "outputs": [
    {
     "data": {
      "text/plain": [
       "'Not Found'"
      ]
     },
     "execution_count": 45,
     "metadata": {},
     "output_type": "execute_result"
    }
   ],
   "source": [
    "about.get('gender', 'Not Found') # if gender key exist gardaina vane Not Found print garbe"
   ]
  },
  {
   "cell_type": "code",
   "execution_count": 47,
   "id": "e541810e",
   "metadata": {},
   "outputs": [],
   "source": [
    "about.get('gender', None) # default ma none hunxa"
   ]
  },
  {
   "cell_type": "markdown",
   "id": "23cde8b0",
   "metadata": {},
   "source": [
    "# .keys() and .values() method"
   ]
  },
  {
   "cell_type": "code",
   "execution_count": 48,
   "id": "018e459b",
   "metadata": {},
   "outputs": [
    {
     "data": {
      "text/plain": [
       "dict_keys(['name', 'age', 'teaches', 'works at'])"
      ]
     },
     "execution_count": 48,
     "metadata": {},
     "output_type": "execute_result"
    }
   ],
   "source": [
    "about.keys()"
   ]
  },
  {
   "cell_type": "code",
   "execution_count": 49,
   "id": "b4f65e9a",
   "metadata": {},
   "outputs": [
    {
     "data": {
      "text/plain": [
       "dict_values(['Kshitiz', 26, ['Python', 'AI', 'ML'], 'Broadway'])"
      ]
     },
     "execution_count": 49,
     "metadata": {},
     "output_type": "execute_result"
    }
   ],
   "source": [
    "about.values()"
   ]
  },
  {
   "cell_type": "code",
   "execution_count": 50,
   "id": "3cb8bdac",
   "metadata": {},
   "outputs": [
    {
     "data": {
      "text/plain": [
       "dict_items([('name', 'Kshitiz'), ('age', 26), ('teaches', ['Python', 'AI', 'ML']), ('works at', 'Broadway')])"
      ]
     },
     "execution_count": 50,
     "metadata": {},
     "output_type": "execute_result"
    }
   ],
   "source": [
    "about.items()"
   ]
  },
  {
   "cell_type": "code",
   "execution_count": 51,
   "id": "88ffdcb3",
   "metadata": {},
   "outputs": [
    {
     "name": "stdout",
     "output_type": "stream",
     "text": [
      "('name', 'Kshitiz')\n",
      "('age', 26)\n",
      "('teaches', ['Python', 'AI', 'ML'])\n",
      "('works at', 'Broadway')\n"
     ]
    }
   ],
   "source": [
    "for item in about.items():\n",
    "    print(item)"
   ]
  },
  {
   "cell_type": "code",
   "execution_count": 52,
   "id": "6085fa88",
   "metadata": {},
   "outputs": [
    {
     "name": "stdout",
     "output_type": "stream",
     "text": [
      "name\n",
      "age\n",
      "teaches\n",
      "works at\n"
     ]
    }
   ],
   "source": [
    "for key, val in about.items():\n",
    "    print(key)"
   ]
  },
  {
   "cell_type": "code",
   "execution_count": 53,
   "id": "026a7b41",
   "metadata": {},
   "outputs": [
    {
     "name": "stdout",
     "output_type": "stream",
     "text": [
      "Kshitiz\n",
      "26\n",
      "['Python', 'AI', 'ML']\n",
      "Broadway\n"
     ]
    }
   ],
   "source": [
    "for key, val in about.items():\n",
    "    print(val)"
   ]
  },
  {
   "cell_type": "code",
   "execution_count": 55,
   "id": "0d4e2ec4",
   "metadata": {},
   "outputs": [
    {
     "name": "stdout",
     "output_type": "stream",
     "text": [
      "The key is name and the value is Kshitiz\n",
      "The key is age and the value is 26\n",
      "The key is teaches and the value is ['Python', 'AI', 'ML']\n",
      "The key is works at and the value is Broadway\n"
     ]
    }
   ],
   "source": [
    "about = {\n",
    "    'name': 'Kshitiz',\n",
    "    'age' : 26,\n",
    "    'teaches': ['Python', 'AI', 'ML'],\n",
    "    'works at': 'Broadway'\n",
    "}\n",
    "for key, val in about.items():\n",
    "    print(f\"The key is {key} and the value is {val}\")"
   ]
  },
  {
   "cell_type": "markdown",
   "id": "d9549c0b",
   "metadata": {},
   "source": [
    "# Dictionary comprehension\n",
    "\n",
    " swap key value pair of dictionary"
   ]
  },
  {
   "cell_type": "code",
   "execution_count": 56,
   "id": "1e6606a1",
   "metadata": {},
   "outputs": [],
   "source": [
    "d= {1: 'one', 5: 'five', 10: 'ten'}"
   ]
  },
  {
   "cell_type": "code",
   "execution_count": 57,
   "id": "d4c4cebe",
   "metadata": {},
   "outputs": [
    {
     "data": {
      "text/plain": [
       "{'one': 1, 'five': 5, 'ten': 10}"
      ]
     },
     "execution_count": 57,
     "metadata": {},
     "output_type": "execute_result"
    }
   ],
   "source": [
    "{ val:key for key,val in d.items()}"
   ]
  },
  {
   "cell_type": "markdown",
   "id": "cae12fe1",
   "metadata": {},
   "source": [
    "# .zip()"
   ]
  },
  {
   "cell_type": "code",
   "execution_count": 58,
   "id": "daaf529f",
   "metadata": {},
   "outputs": [],
   "source": [
    "country = ['Nepal', 'India', 'Bhutan']\n",
    "capotal = ['Kathmandu', 'New Delhi', 'Thimpu']"
   ]
  },
  {
   "cell_type": "code",
   "execution_count": 59,
   "id": "f4864ac6",
   "metadata": {},
   "outputs": [
    {
     "data": {
      "text/plain": [
       "<zip at 0x1051b3100>"
      ]
     },
     "execution_count": 59,
     "metadata": {},
     "output_type": "execute_result"
    }
   ],
   "source": [
    "zip(country, capital)"
   ]
  },
  {
   "cell_type": "code",
   "execution_count": 60,
   "id": "fb6e59b8",
   "metadata": {},
   "outputs": [
    {
     "data": {
      "text/plain": [
       "{'Nepal': 'B', 'India': 'u', 'Bhutan': 'c'}"
      ]
     },
     "execution_count": 60,
     "metadata": {},
     "output_type": "execute_result"
    }
   ],
   "source": [
    "dict(zip(country, capital))"
   ]
  },
  {
   "cell_type": "markdown",
   "id": "7e6eaa6a",
   "metadata": {},
   "source": [
    "# Nested dictionary"
   ]
  },
  {
   "cell_type": "code",
   "execution_count": 66,
   "id": "df3d34f5",
   "metadata": {},
   "outputs": [],
   "source": [
    "child = {\n",
    "    'child1': {'name': 'Roman', 'age': 28},\n",
    "    'child2': {'name': 'Champa', 'gender': 'F'}\n",
    "}"
   ]
  },
  {
   "cell_type": "code",
   "execution_count": 68,
   "id": "e455efac",
   "metadata": {},
   "outputs": [
    {
     "data": {
      "text/plain": [
       "'Champa'"
      ]
     },
     "execution_count": 68,
     "metadata": {},
     "output_type": "execute_result"
    }
   ],
   "source": [
    "child['child2']['name']"
   ]
  },
  {
   "cell_type": "code",
   "execution_count": 69,
   "id": "e6e9e644",
   "metadata": {},
   "outputs": [
    {
     "data": {
      "text/plain": [
       "28"
      ]
     },
     "execution_count": 69,
     "metadata": {},
     "output_type": "execute_result"
    }
   ],
   "source": [
    "child['child1']['age']"
   ]
  },
  {
   "cell_type": "markdown",
   "id": "d40df374",
   "metadata": {},
   "source": [
    "# list of dictionary\n",
    "\n",
    "A list of dictionaries in Python is a collection where each element in the list is a dictionary. It allows you to store and access multiple dictionaries in a sequential manner.\n",
    "\n"
   ]
  },
  {
   "cell_type": "code",
   "execution_count": 70,
   "id": "b367b378",
   "metadata": {},
   "outputs": [],
   "source": [
    "students = [\n",
    "    {'name': 'John', 'age': 20, 'major': 'Computer Science'},\n",
    "    {'name': 'Alice', 'age': 19, 'major': 'Mathematics'},\n",
    "    {'name': 'Bob', 'age': 21, 'major': 'Physics'}\n",
    "]\n"
   ]
  },
  {
   "cell_type": "code",
   "execution_count": 72,
   "id": "aabb8afe",
   "metadata": {},
   "outputs": [
    {
     "name": "stdout",
     "output_type": "stream",
     "text": [
      "John\n",
      "Alice\n",
      "Bob\n"
     ]
    }
   ],
   "source": [
    "for item in students:\n",
    "    print(item['name'])"
   ]
  },
  {
   "cell_type": "code",
   "execution_count": 6,
   "id": "67dfe19c",
   "metadata": {},
   "outputs": [
    {
     "name": "stdout",
     "output_type": "stream",
     "text": [
      "Enter the number of input : 2\n",
      "Enter name: A1\n",
      "Enter address: A\n",
      "Enter name: B1\n",
      "Enter address: B\n",
      "Contacts List:\n",
      "{'name': 'A1', 'address': 'A'}\n",
      "{'name': 'B1', 'address': 'B'}\n"
     ]
    }
   ],
   "source": [
    "contacts = []\n",
    "num = int(input(\"Enter the number of input : \"))\n",
    "for i in range(num):\n",
    "    name = input(\"Enter name: \")\n",
    "    address = input(\"Enter address: \")\n",
    "    contact = {'name': name, 'address': address}\n",
    "    contacts.append(contact)\n",
    "print(\"Contacts List:\")\n",
    "for contact in contacts:\n",
    "    print(contact)\n"
   ]
  },
  {
   "cell_type": "code",
   "execution_count": null,
   "id": "c458805c",
   "metadata": {},
   "outputs": [],
   "source": []
  }
 ],
 "metadata": {
  "kernelspec": {
   "display_name": "Python 3 (ipykernel)",
   "language": "python",
   "name": "python3"
  },
  "language_info": {
   "codemirror_mode": {
    "name": "ipython",
    "version": 3
   },
   "file_extension": ".py",
   "mimetype": "text/x-python",
   "name": "python",
   "nbconvert_exporter": "python",
   "pygments_lexer": "ipython3",
   "version": "3.10.11"
  }
 },
 "nbformat": 4,
 "nbformat_minor": 5
}
