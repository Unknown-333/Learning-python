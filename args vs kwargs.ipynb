{
 "cells": [
  {
   "cell_type": "markdown",
   "id": "426cd892",
   "metadata": {},
   "source": [
    "# *args\n",
    "\n",
    "* takes variable length input\n",
    "* If you donot nkeo how many arguments that will be passed into your function, add a * before the parameter name in the function definition.\n",
    "* The function will receive a tuple of arguments, and can access the items accordingly using args variable\n"
   ]
  },
  {
   "cell_type": "code",
   "execution_count": 1,
   "id": "c015c538",
   "metadata": {},
   "outputs": [],
   "source": [
    "def add(*args):\n",
    "    print(args,type(args))"
   ]
  },
  {
   "cell_type": "code",
   "execution_count": 2,
   "id": "d312c13a",
   "metadata": {},
   "outputs": [
    {
     "name": "stdout",
     "output_type": "stream",
     "text": [
      "(1, 2, 3, 4, 5, 6, 7, 8, 9) <class 'tuple'>\n"
     ]
    }
   ],
   "source": [
    "add(1,2,3,4,5,6,7,8,9)"
   ]
  },
  {
   "cell_type": "code",
   "execution_count": 14,
   "id": "830762f3",
   "metadata": {},
   "outputs": [
    {
     "name": "stdout",
     "output_type": "stream",
     "text": [
      "10\n"
     ]
    }
   ],
   "source": [
    "total = 0\n",
    "def add(*args):\n",
    "    global total\n",
    "    for i in args:\n",
    "        total += i\n",
    "    return total   \n",
    "r  = add(1, 2, 3, 4)\n",
    "print(r)"
   ]
  },
  {
   "cell_type": "code",
   "execution_count": 11,
   "id": "12d12510",
   "metadata": {},
   "outputs": [
    {
     "data": {
      "text/plain": [
       "21"
      ]
     },
     "execution_count": 11,
     "metadata": {},
     "output_type": "execute_result"
    }
   ],
   "source": [
    "def func(*args):\n",
    "    sums = 0\n",
    "    for i in args:\n",
    "        sums += i\n",
    "    return sums\n",
    "func(1,2,3,4,5,6)"
   ]
  },
  {
   "cell_type": "code",
   "execution_count": 15,
   "id": "28b1ab8f",
   "metadata": {},
   "outputs": [
    {
     "data": {
      "text/plain": [
       "28"
      ]
     },
     "execution_count": 15,
     "metadata": {},
     "output_type": "execute_result"
    }
   ],
   "source": [
    "def a(*args):\n",
    "    total = 0\n",
    "    for i in args:\n",
    "        total +=i\n",
    "    return total\n",
    "a(1,2,3,4,5,6,7)"
   ]
  },
  {
   "cell_type": "markdown",
   "id": "52d9b553",
   "metadata": {},
   "source": [
    "# **kwargs"
   ]
  },
  {
   "cell_type": "code",
   "execution_count": 16,
   "id": "d532f247",
   "metadata": {},
   "outputs": [],
   "source": [
    "def about(**kwargs):\n",
    "    print(kwargs, type(kwargs))"
   ]
  },
  {
   "cell_type": "code",
   "execution_count": 17,
   "id": "c6871f40",
   "metadata": {},
   "outputs": [
    {
     "name": "stdout",
     "output_type": "stream",
     "text": [
      "{'first_name': 'Kshitiz', 'last_name': 'Regmi', 'teaches': ['AI', 'ML']} <class 'dict'>\n"
     ]
    }
   ],
   "source": [
    "about(first_name = 'Kshitiz', last_name = 'Regmi', teaches = ['AI', 'ML'])"
   ]
  },
  {
   "cell_type": "markdown",
   "id": "3d3483c1",
   "metadata": {},
   "source": [
    "* *args and **kwargs are special keyword which allows function to take variable length argument.\n",
    "* make function flexible\n",
    "* args operation of tuple can be performed and in kwargs dictionary operation"
   ]
  },
  {
   "cell_type": "markdown",
   "id": "81a2a64c",
   "metadata": {},
   "source": [
    "# Returning multiple values from function || In tuples"
   ]
  },
  {
   "cell_type": "code",
   "execution_count": 26,
   "id": "aba0ecf0",
   "metadata": {},
   "outputs": [],
   "source": [
    "import math\n",
    "def find_lcm_hcf(*args):\n",
    "    lcm = math.lcm(*args)\n",
    "    gcd = math.gcd(*args)\n",
    "    return(lcm, gcd)\n",
    "    "
   ]
  },
  {
   "cell_type": "code",
   "execution_count": 27,
   "id": "2ef24dfa",
   "metadata": {},
   "outputs": [],
   "source": [
    "lcm, hcf = find_lcm_hcf(2,4,6,9) # unpacking tuple"
   ]
  },
  {
   "cell_type": "code",
   "execution_count": 29,
   "id": "0a066928",
   "metadata": {},
   "outputs": [
    {
     "data": {
      "text/plain": [
       "36"
      ]
     },
     "execution_count": 29,
     "metadata": {},
     "output_type": "execute_result"
    }
   ],
   "source": [
    "lcm"
   ]
  },
  {
   "cell_type": "code",
   "execution_count": 30,
   "id": "1227279a",
   "metadata": {},
   "outputs": [
    {
     "data": {
      "text/plain": [
       "1"
      ]
     },
     "execution_count": 30,
     "metadata": {},
     "output_type": "execute_result"
    }
   ],
   "source": [
    "hcf"
   ]
  },
  {
   "cell_type": "code",
   "execution_count": 31,
   "id": "e82858be",
   "metadata": {},
   "outputs": [],
   "source": [
    "def find_lcm_gcd(num1, num2):\n",
    "    lcm = math.lcm(num1, num2)\n",
    "    hcf = math.gcd(num1, num2)\n",
    "    return lcm,hcf\n"
   ]
  },
  {
   "cell_type": "code",
   "execution_count": 32,
   "id": "12c1d87e",
   "metadata": {},
   "outputs": [],
   "source": [
    "lcm,hcf =find_lcm_gcd(5,15) # unpacking tuples"
   ]
  },
  {
   "cell_type": "code",
   "execution_count": 33,
   "id": "c4f1c31c",
   "metadata": {},
   "outputs": [
    {
     "data": {
      "text/plain": [
       "15"
      ]
     },
     "execution_count": 33,
     "metadata": {},
     "output_type": "execute_result"
    }
   ],
   "source": [
    "lcm"
   ]
  },
  {
   "cell_type": "code",
   "execution_count": 34,
   "id": "7bde6bae",
   "metadata": {},
   "outputs": [
    {
     "data": {
      "text/plain": [
       "5"
      ]
     },
     "execution_count": 34,
     "metadata": {},
     "output_type": "execute_result"
    }
   ],
   "source": [
    "hcf"
   ]
  },
  {
   "cell_type": "code",
   "execution_count": 35,
   "id": "e0601c01",
   "metadata": {},
   "outputs": [],
   "source": [
    "# multiple value return garda data tuple ma aaunxa"
   ]
  },
  {
   "cell_type": "code",
   "execution_count": null,
   "id": "5a147e9b",
   "metadata": {},
   "outputs": [],
   "source": []
  }
 ],
 "metadata": {
  "kernelspec": {
   "display_name": "Python 3 (ipykernel)",
   "language": "python",
   "name": "python3"
  },
  "language_info": {
   "codemirror_mode": {
    "name": "ipython",
    "version": 3
   },
   "file_extension": ".py",
   "mimetype": "text/x-python",
   "name": "python",
   "nbconvert_exporter": "python",
   "pygments_lexer": "ipython3",
   "version": "3.10.11"
  }
 },
 "nbformat": 4,
 "nbformat_minor": 5
}
